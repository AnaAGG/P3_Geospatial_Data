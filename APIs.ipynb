{
 "cells": [
  {
   "cell_type": "markdown",
   "metadata": {},
   "source": [
    "### Libraries"
   ]
  },
  {
   "cell_type": "code",
   "execution_count": 1,
   "metadata": {},
   "outputs": [],
   "source": [
    "import requests \n",
    "import json\n",
    "from dotenv import load_dotenv\n",
    "import os\n",
    "import pandas as pd\n",
    "\n",
    "from functools import reduce\n",
    "import operator\n",
    "import geopandas as gdp\n",
    "import shapely\n",
    "\n",
    "\n",
    "from pymongo import MongoClient"
   ]
  },
  {
   "cell_type": "code",
   "execution_count": 2,
   "metadata": {},
   "outputs": [
    {
     "data": {
      "text/plain": [
       "True"
      ]
     },
     "execution_count": 2,
     "metadata": {},
     "output_type": "execute_result"
    }
   ],
   "source": [
    "load_dotenv()"
   ]
  },
  {
   "cell_type": "markdown",
   "metadata": {},
   "source": [
    "### Creando los geocodes"
   ]
  },
  {
   "cell_type": "markdown",
   "metadata": {},
   "source": [
    "En este caso, voy a partir de tres ubicaciones diferentes:\n",
    "\n",
    "- España --> Madrid\n",
    "- Paises Bajos --> Amsterdam\n",
    "- Francia --> Paris `latitude:48.8709209 longitude:2.3040091`\n",
    "- Canadá --> Montréal --> `latitude:42.8839162 longitude:-8.5255155`"
   ]
  },
  {
   "cell_type": "code",
   "execution_count": 3,
   "metadata": {},
   "outputs": [],
   "source": [
    "countries = [\"madrid\",\"paris\", \"ottawa\"]"
   ]
  },
  {
   "cell_type": "markdown",
   "metadata": {},
   "source": [
    "EN ESTA FUNCIOÓN DE AQUÍ TENDRÍA QUE MIRAR PARA METER EL TRY AND EXCEPT"
   ]
  },
  {
   "cell_type": "code",
   "execution_count": 4,
   "metadata": {},
   "outputs": [],
   "source": [
    "def get_coordinates(lista):\n",
    "    d = {}\n",
    "\n",
    "    for country in countries:\n",
    "        locations = requests.get(f'https://geocode.xyz/{country}?json=1')\n",
    "        locations = locations.json()\n",
    "        d[country] = locations\n",
    "        \n",
    "    return d     "
   ]
  },
  {
   "cell_type": "code",
   "execution_count": 5,
   "metadata": {},
   "outputs": [],
   "source": [
    "c = get_coordinates(countries)"
   ]
  },
  {
   "cell_type": "code",
   "execution_count": 6,
   "metadata": {},
   "outputs": [
    {
     "name": "stdout",
     "output_type": "stream",
     "text": [
      "dict_keys(['standard', 'longt', 'alt', 'elevation', 'latt'])\n",
      "dict_keys(['standard', 'longt', 'alt', 'elevation', 'latt'])\n",
      "dict_keys(['standard', 'longt', 'alt', 'elevation', 'latt'])\n"
     ]
    }
   ],
   "source": [
    "c['madrid']\n",
    "for k, v in c.items():\n",
    "    print(v.keys())"
   ]
  },
  {
   "cell_type": "code",
   "execution_count": 7,
   "metadata": {},
   "outputs": [],
   "source": [
    "def exctract_coordinates(dictionary):\n",
    "    dict_empty = {}\n",
    "    for k, v in c.items():\n",
    "        coor = [float(v[\"longt\"]),float(v[\"latt\"])]\n",
    "        dict_empty[k] = coor\n",
    "    return dict_empty"
   ]
  },
  {
   "cell_type": "code",
   "execution_count": 8,
   "metadata": {},
   "outputs": [],
   "source": [
    "coordinates = exctract_coordinates(c)"
   ]
  },
  {
   "cell_type": "code",
   "execution_count": 9,
   "metadata": {},
   "outputs": [
    {
     "data": {
      "text/plain": [
       "{'madrid': [-3.6793, 40.42955],\n",
       " 'paris': [2.3428, 48.85756],\n",
       " 'ottawa': [-75.70531, 45.35917]}"
      ]
     },
     "execution_count": 9,
     "metadata": {},
     "output_type": "execute_result"
    }
   ],
   "source": [
    "coordinates"
   ]
  },
  {
   "cell_type": "markdown",
   "metadata": {},
   "source": [
    "### Llamadas a la API"
   ]
  },
  {
   "cell_type": "markdown",
   "metadata": {},
   "source": [
    "meter un parametro de radio = metros desde la ubicación dada\n",
    "meter el parametro de limit para que no me pete, tiene un limite a la hora"
   ]
  },
  {
   "cell_type": "code",
   "execution_count": 10,
   "metadata": {},
   "outputs": [],
   "source": [
    "token1= os.getenv(\"token1\")\n",
    "token2 = os.getenv(\"token2\")"
   ]
  },
  {
   "cell_type": "code",
   "execution_count": 11,
   "metadata": {},
   "outputs": [],
   "source": [
    "url_query = 'https://api.foursquare.com/v2/venues/explore'"
   ]
  },
  {
   "cell_type": "markdown",
   "metadata": {},
   "source": [
    "#### Llamadas a la API"
   ]
  },
  {
   "cell_type": "markdown",
   "metadata": {},
   "source": [
    "#####  Codes to queries"
   ]
  },
  {
   "cell_type": "markdown",
   "metadata": {},
   "source": [
    "Dentro de todas las queries hay algunas que tienen que estar muy cerca o otras que da igual que estén un pco más lejos, lo que haré separarlas por grupos"
   ]
  },
  {
   "cell_type": "code",
   "execution_count": 12,
   "metadata": {},
   "outputs": [],
   "source": [
    "school = '52e81612bcbc57f1066b7a45'\n",
    "vegan = \"4bf58dd8d48988d1d3941735\"\n",
    "\n",
    "queries = [school, vegan]\n"
   ]
  },
  {
   "cell_type": "markdown",
   "metadata": {},
   "source": [
    "##### Setting the parameters"
   ]
  },
  {
   "cell_type": "code",
   "execution_count": 13,
   "metadata": {},
   "outputs": [],
   "source": [
    "def datos_madrid (*args):\n",
    "    '''\n",
    "    descripcion de lo que hace la función aquí\n",
    "    '''  \n",
    "    d = {}\n",
    "    \n",
    "    for i in args: \n",
    "        parametros = {\"client_id\" : token1,\n",
    "                  \"client_secret\" : token2,\n",
    "                  \"v\": \"20180323\",\n",
    "                  \"ll\": f\"{coordinates['madrid'][1]},{coordinates['madrid'][0]}\", ## esto lo puedo hacer con kwargs\n",
    "                  \"query\":i,\n",
    "                  \"limit\": 100}  \n",
    "\n",
    "        resp = requests.get(url= url_query, params=parametros)\n",
    "        data = json.loads(resp.text)\n",
    "        d[i] = data\n",
    "    return d"
   ]
  },
  {
   "cell_type": "code",
   "execution_count": 14,
   "metadata": {},
   "outputs": [],
   "source": [
    "results = datos_madrid(*[school, vegan])"
   ]
  },
  {
   "cell_type": "code",
   "execution_count": 15,
   "metadata": {},
   "outputs": [
    {
     "data": {
      "text/plain": [
       "dict_keys(['52e81612bcbc57f1066b7a45', '4bf58dd8d48988d1d3941735'])"
      ]
     },
     "execution_count": 15,
     "metadata": {},
     "output_type": "execute_result"
    }
   ],
   "source": [
    "results.keys()#salen como resultado 7 diccionarios de cada una de las queries que he pedido. Despues de esto habría que \n",
    "#separar cada uno de los diccionarios y proceder a su limpieza"
   ]
  },
  {
   "cell_type": "code",
   "execution_count": 16,
   "metadata": {},
   "outputs": [
    {
     "data": {
      "text/plain": [
       "2"
      ]
     },
     "execution_count": 16,
     "metadata": {},
     "output_type": "execute_result"
    }
   ],
   "source": [
    "len(results)"
   ]
  },
  {
   "cell_type": "markdown",
   "metadata": {},
   "source": [
    "**Para separar los distintos diccionarios que he genarado con la función anterior:**"
   ]
  },
  {
   "cell_type": "code",
   "execution_count": 17,
   "metadata": {},
   "outputs": [
    {
     "name": "stdout",
     "output_type": "stream",
     "text": [
      "52e81612bcbc57f1066b7a45\n",
      "4bf58dd8d48988d1d3941735\n"
     ]
    }
   ],
   "source": [
    "filterByKey = lambda keys: {x: results[x] for x in keys}\n",
    "queries_codes = {\"schoolKey\":'52e81612bcbc57f1066b7a45', \n",
    "                \"veganKey\": \"4bf58dd8d48988d1d3941735\"}\n",
    "\n",
    "print(queries_codes['schoolKey'])\n",
    "print(queries_codes['veganKey'])"
   ]
  },
  {
   "cell_type": "code",
   "execution_count": 18,
   "metadata": {},
   "outputs": [],
   "source": [
    "def create_separate_dictionaries (dictonary_queries):\n",
    "    filterByKey = lambda keys: {x: results[x] for x in keys}\n",
    "    for key, values in dictonary_queries.items():\n",
    "        \n",
    "        return filterByKey([values])"
   ]
  },
  {
   "cell_type": "markdown",
   "metadata": {},
   "source": [
    "### Limpieza de los resultados\n"
   ]
  },
  {
   "cell_type": "code",
   "execution_count": 19,
   "metadata": {},
   "outputs": [],
   "source": [
    "schoolKeys = ['52e81612bcbc57f1066b7a45']\n",
    "veganKeys = [\"4bf58dd8d48988d1d3941735\"]\n",
    "\n",
    "school = filterByKey(schoolKeys)\n",
    "vegan = filterByKey(veganKeys)\n",
    "\n",
    "all_info = [school, vegan]   "
   ]
  },
  {
   "cell_type": "code",
   "execution_count": 20,
   "metadata": {},
   "outputs": [],
   "source": [
    "def cleaning_dictionaries(*args):\n",
    "    for dictionary in args:\n",
    "        for key, values in dictionary.items():\n",
    "            \n",
    "            response = values.get('response')\n",
    "            decoded = response.get('groups')[0]\n",
    "            final = decoded.get('items')\n",
    "    return final"
   ]
  },
  {
   "cell_type": "code",
   "execution_count": 21,
   "metadata": {},
   "outputs": [],
   "source": [
    "def cleaning_dictionaries(*args):\n",
    "      for dictionary in args: \n",
    "        for key, values in dictionary.items():\n",
    "            if key == '52e81612bcbc57f1066b7a45':\n",
    "            \n",
    "                response = values.get('response')\n",
    "                decoded = response.get('groups')[0]\n",
    "                final_school = decoded.get('items')\n",
    "                \n",
    "            elif key == \"4bf58dd8d48988d1d3941735\":\n",
    "                \n",
    "                response = values.get('response')\n",
    "                decoded = response.get('groups')[0]\n",
    "                final_vegan = decoded.get('items')\n",
    "  \n",
    "                return final_school, final_vegan"
   ]
  },
  {
   "cell_type": "code",
   "execution_count": 22,
   "metadata": {},
   "outputs": [],
   "source": [
    "school_data,vegan_data= cleaning_dictionaries(*[school, vegan])"
   ]
  },
  {
   "cell_type": "code",
   "execution_count": null,
   "metadata": {},
   "outputs": [],
   "source": []
  },
  {
   "cell_type": "markdown",
   "metadata": {},
   "source": [
    "### Creating dataframes"
   ]
  },
  {
   "cell_type": "code",
   "execution_count": 23,
   "metadata": {},
   "outputs": [],
   "source": [
    "mapa_nombre = [\"venue\",\"name\"]\n",
    "m_latitud = [\"venue\",\"location\",\"lat\"]\n",
    "m_longitud = [\"venue\",\"location\",\"lng\"]"
   ]
  },
  {
   "cell_type": "code",
   "execution_count": 24,
   "metadata": {},
   "outputs": [],
   "source": [
    "def getFromDict(diccionario,mapa):\n",
    "    return reduce (operator.getitem,mapa,diccionario)"
   ]
  },
  {
   "cell_type": "markdown",
   "metadata": {},
   "source": [
    "####  For school"
   ]
  },
  {
   "cell_type": "code",
   "execution_count": 25,
   "metadata": {},
   "outputs": [],
   "source": [
    "data_schools = []\n",
    "for dic in school_data:\n",
    "    paralista = {}\n",
    "    paralista[\"name\"] = getFromDict(dic,mapa_nombre)\n",
    "    paralista[\"latitud\"] = getFromDict(dic,m_latitud)\n",
    "    paralista[\"longitud\"] = getFromDict(dic,m_longitud)\n",
    "    data_schools.append(paralista)"
   ]
  },
  {
   "cell_type": "code",
   "execution_count": 26,
   "metadata": {},
   "outputs": [
    {
     "data": {
      "text/plain": [
       "{'name': 'Gourmet Experience',\n",
       " 'latitud': 40.42777668625794,\n",
       " 'longitud': -3.687295697667445}"
      ]
     },
     "execution_count": 26,
     "metadata": {},
     "output_type": "execute_result"
    }
   ],
   "source": [
    "data_schools[0]"
   ]
  },
  {
   "cell_type": "markdown",
   "metadata": {},
   "source": [
    "####  For vegan"
   ]
  },
  {
   "cell_type": "code",
   "execution_count": 27,
   "metadata": {},
   "outputs": [
    {
     "data": {
      "text/plain": [
       "{'name': 'Vinos De Bellota',\n",
       " 'latitud': 40.42067595716258,\n",
       " 'longitud': -3.679058690556566}"
      ]
     },
     "execution_count": 27,
     "metadata": {},
     "output_type": "execute_result"
    }
   ],
   "source": [
    "data_vegan = []\n",
    "for dic in vegan_data:\n",
    "    paralista = {}\n",
    "    paralista[\"name\"] = getFromDict(dic,mapa_nombre)\n",
    "    paralista[\"latitud\"] = getFromDict(dic,m_latitud)\n",
    "    paralista[\"longitud\"] = getFromDict(dic,m_longitud)\n",
    "    data_vegan.append(paralista)\n",
    "data_vegan[0]"
   ]
  },
  {
   "cell_type": "markdown",
   "metadata": {},
   "source": [
    "###  Saving dataframes"
   ]
  },
  {
   "cell_type": "markdown",
   "metadata": {},
   "source": [
    "#### School query"
   ]
  },
  {
   "cell_type": "code",
   "execution_count": 31,
   "metadata": {},
   "outputs": [
    {
     "data": {
      "text/html": [
       "<div>\n",
       "<style scoped>\n",
       "    .dataframe tbody tr th:only-of-type {\n",
       "        vertical-align: middle;\n",
       "    }\n",
       "\n",
       "    .dataframe tbody tr th {\n",
       "        vertical-align: top;\n",
       "    }\n",
       "\n",
       "    .dataframe thead th {\n",
       "        text-align: right;\n",
       "    }\n",
       "</style>\n",
       "<table border=\"1\" class=\"dataframe\">\n",
       "  <thead>\n",
       "    <tr style=\"text-align: right;\">\n",
       "      <th></th>\n",
       "      <th>name</th>\n",
       "      <th>latitud</th>\n",
       "      <th>longitud</th>\n",
       "    </tr>\n",
       "  </thead>\n",
       "  <tbody>\n",
       "    <tr>\n",
       "      <th>0</th>\n",
       "      <td>Gourmet Experience</td>\n",
       "      <td>40.427777</td>\n",
       "      <td>-3.687296</td>\n",
       "    </tr>\n",
       "    <tr>\n",
       "      <th>1</th>\n",
       "      <td>Monumento a Alfonso XII de España</td>\n",
       "      <td>40.417081</td>\n",
       "      <td>-3.683140</td>\n",
       "    </tr>\n",
       "    <tr>\n",
       "      <th>2</th>\n",
       "      <td>Fox In A Box Madrid - Juego de Escape Game</td>\n",
       "      <td>40.420115</td>\n",
       "      <td>-3.697489</td>\n",
       "    </tr>\n",
       "    <tr>\n",
       "      <th>3</th>\n",
       "      <td>Fuencarral 52 B&amp;B</td>\n",
       "      <td>40.423500</td>\n",
       "      <td>-3.700465</td>\n",
       "    </tr>\n",
       "    <tr>\n",
       "      <th>4</th>\n",
       "      <td>B&amp;B Restaurante</td>\n",
       "      <td>40.421384</td>\n",
       "      <td>-3.697403</td>\n",
       "    </tr>\n",
       "  </tbody>\n",
       "</table>\n",
       "</div>"
      ],
      "text/plain": [
       "                                         name    latitud  longitud\n",
       "0                          Gourmet Experience  40.427777 -3.687296\n",
       "1           Monumento a Alfonso XII de España  40.417081 -3.683140\n",
       "2  Fox In A Box Madrid - Juego de Escape Game  40.420115 -3.697489\n",
       "3                           Fuencarral 52 B&B  40.423500 -3.700465\n",
       "4                             B&B Restaurante  40.421384 -3.697403"
      ]
     },
     "execution_count": 31,
     "metadata": {},
     "output_type": "execute_result"
    }
   ],
   "source": [
    "df_pets = pd.DataFrame(data_schools)\n",
    "df_pets.to_csv(\"school.csv\", index = False)\n",
    "df_pets.head()"
   ]
  },
  {
   "cell_type": "markdown",
   "metadata": {},
   "source": [
    "#### Vegan query"
   ]
  },
  {
   "cell_type": "code",
   "execution_count": 32,
   "metadata": {},
   "outputs": [
    {
     "data": {
      "text/html": [
       "<div>\n",
       "<style scoped>\n",
       "    .dataframe tbody tr th:only-of-type {\n",
       "        vertical-align: middle;\n",
       "    }\n",
       "\n",
       "    .dataframe tbody tr th {\n",
       "        vertical-align: top;\n",
       "    }\n",
       "\n",
       "    .dataframe thead th {\n",
       "        text-align: right;\n",
       "    }\n",
       "</style>\n",
       "<table border=\"1\" class=\"dataframe\">\n",
       "  <thead>\n",
       "    <tr style=\"text-align: right;\">\n",
       "      <th></th>\n",
       "      <th>name</th>\n",
       "      <th>latitud</th>\n",
       "      <th>longitud</th>\n",
       "    </tr>\n",
       "  </thead>\n",
       "  <tbody>\n",
       "    <tr>\n",
       "      <th>0</th>\n",
       "      <td>Vinos De Bellota</td>\n",
       "      <td>40.420676</td>\n",
       "      <td>-3.679059</td>\n",
       "    </tr>\n",
       "    <tr>\n",
       "      <th>1</th>\n",
       "      <td>De María</td>\n",
       "      <td>40.425839</td>\n",
       "      <td>-3.697331</td>\n",
       "    </tr>\n",
       "    <tr>\n",
       "      <th>2</th>\n",
       "      <td>D'Mystic</td>\n",
       "      <td>40.423215</td>\n",
       "      <td>-3.698125</td>\n",
       "    </tr>\n",
       "    <tr>\n",
       "      <th>3</th>\n",
       "      <td>SANZ CABREJAS Bufete de Abogados penalista</td>\n",
       "      <td>40.435540</td>\n",
       "      <td>-3.686364</td>\n",
       "    </tr>\n",
       "    <tr>\n",
       "      <th>4</th>\n",
       "      <td>D'kebab Food</td>\n",
       "      <td>40.422261</td>\n",
       "      <td>-3.699776</td>\n",
       "    </tr>\n",
       "  </tbody>\n",
       "</table>\n",
       "</div>"
      ],
      "text/plain": [
       "                                         name    latitud  longitud\n",
       "0                            Vinos De Bellota  40.420676 -3.679059\n",
       "1                                    De María  40.425839 -3.697331\n",
       "2                                    D'Mystic  40.423215 -3.698125\n",
       "3  SANZ CABREJAS Bufete de Abogados penalista  40.435540 -3.686364\n",
       "4                                D'kebab Food  40.422261 -3.699776"
      ]
     },
     "execution_count": 32,
     "metadata": {},
     "output_type": "execute_result"
    }
   ],
   "source": [
    "df_gym = pd.DataFrame(data_vegan)\n",
    "df_gym.to_csv(\"vegan.csv\", index = False)\n",
    "df_gym.head()"
   ]
  },
  {
   "cell_type": "code",
   "execution_count": null,
   "metadata": {},
   "outputs": [],
   "source": []
  }
 ],
 "metadata": {
  "kernelspec": {
   "display_name": "Python 3",
   "language": "python",
   "name": "python3"
  },
  "language_info": {
   "codemirror_mode": {
    "name": "ipython",
    "version": 3
   },
   "file_extension": ".py",
   "mimetype": "text/x-python",
   "name": "python",
   "nbconvert_exporter": "python",
   "pygments_lexer": "ipython3",
   "version": "3.8.5"
  },
  "toc": {
   "base_numbering": 1,
   "nav_menu": {},
   "number_sections": true,
   "sideBar": true,
   "skip_h1_title": false,
   "title_cell": "Table of Contents",
   "title_sidebar": "Contents",
   "toc_cell": false,
   "toc_position": {},
   "toc_section_display": true,
   "toc_window_display": true
  },
  "varInspector": {
   "cols": {
    "lenName": 16,
    "lenType": 16,
    "lenVar": 40
   },
   "kernels_config": {
    "python": {
     "delete_cmd_postfix": "",
     "delete_cmd_prefix": "del ",
     "library": "var_list.py",
     "varRefreshCmd": "print(var_dic_list())"
    },
    "r": {
     "delete_cmd_postfix": ") ",
     "delete_cmd_prefix": "rm(",
     "library": "var_list.r",
     "varRefreshCmd": "cat(var_dic_list()) "
    }
   },
   "types_to_exclude": [
    "module",
    "function",
    "builtin_function_or_method",
    "instance",
    "_Feature"
   ],
   "window_display": false
  }
 },
 "nbformat": 4,
 "nbformat_minor": 2
}
