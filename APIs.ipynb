{
 "cells": [
  {
   "cell_type": "markdown",
   "metadata": {},
   "source": [
    "### Libraries"
   ]
  },
  {
   "cell_type": "code",
   "execution_count": 1,
   "metadata": {},
   "outputs": [],
   "source": [
    "import requests \n",
    "import json\n",
    "from dotenv import load_dotenv\n",
    "import os\n",
    "import pandas as pd\n",
    "\n",
    "from functools import reduce\n",
    "import operator\n",
    "import geopandas as gdp\n",
    "import shapely\n",
    "\n",
    "\n",
    "from pymongo import MongoClient"
   ]
  },
  {
   "cell_type": "code",
   "execution_count": 2,
   "metadata": {},
   "outputs": [
    {
     "data": {
      "text/plain": [
       "True"
      ]
     },
     "execution_count": 2,
     "metadata": {},
     "output_type": "execute_result"
    }
   ],
   "source": [
    "load_dotenv()"
   ]
  },
  {
   "cell_type": "markdown",
   "metadata": {},
   "source": [
    "### Creando los geocodes"
   ]
  },
  {
   "cell_type": "markdown",
   "metadata": {},
   "source": [
    "En este caso, voy a partir de tres ubicaciones diferentes:\n",
    "\n",
    "- España **-->** Madrid\n",
    "- Paises Bajos **-->** Amsterdam\n",
    "- Francia **-->** Paris \n",
    "- Canadá **-->** Montréal "
   ]
  },
  {
   "cell_type": "code",
   "execution_count": 3,
   "metadata": {},
   "outputs": [],
   "source": [
    "countries = [\"madrid\",\"paris\", \"ottawa\"]"
   ]
  },
  {
   "cell_type": "markdown",
   "metadata": {},
   "source": [
    "EN ESTA FUNCIOÓN DE AQUÍ TENDRÍA QUE MIRAR PARA METER EL TRY AND EXCEPT"
   ]
  },
  {
   "cell_type": "code",
   "execution_count": 4,
   "metadata": {},
   "outputs": [],
   "source": [
    "def get_coordinates(lista):\n",
    "    d = {}\n",
    "    try: \n",
    "        for country in countries:\n",
    "            locations = requests.get(f'https://geocode.xyz/{country}?json=1')\n",
    "            locations = locations.json()\n",
    "            d[country] = locations\n",
    "    except:\n",
    "        return \"Error getting data\"\n",
    "        \n",
    "    return d     "
   ]
  },
  {
   "cell_type": "code",
   "execution_count": 5,
   "metadata": {},
   "outputs": [],
   "source": [
    "c = get_coordinates(countries)"
   ]
  },
  {
   "cell_type": "code",
   "execution_count": 6,
   "metadata": {},
   "outputs": [
    {
     "name": "stdout",
     "output_type": "stream",
     "text": [
      "dict_keys(['standard', 'longt', 'alt', 'elevation', 'latt'])\n",
      "dict_keys(['standard', 'longt', 'alt', 'elevation', 'latt'])\n",
      "dict_keys(['standard', 'longt', 'alt', 'elevation', 'latt'])\n"
     ]
    }
   ],
   "source": [
    "c['madrid']\n",
    "for k, v in c.items():\n",
    "    print(v.keys())"
   ]
  },
  {
   "cell_type": "code",
   "execution_count": 7,
   "metadata": {},
   "outputs": [],
   "source": [
    "def exctract_coordinates(dictionary):\n",
    "    dict_empty = {}\n",
    "    for k, v in c.items():\n",
    "        coor = [float(v[\"longt\"]),float(v[\"latt\"])]\n",
    "        dict_empty[k] = coor\n",
    "    return dict_empty"
   ]
  },
  {
   "cell_type": "code",
   "execution_count": 8,
   "metadata": {},
   "outputs": [],
   "source": [
    "coordinates = exctract_coordinates(c)"
   ]
  },
  {
   "cell_type": "code",
   "execution_count": 9,
   "metadata": {},
   "outputs": [
    {
     "data": {
      "text/plain": [
       "{'madrid': [-3.6793, 40.42955],\n",
       " 'paris': [2.3428, 48.85756],\n",
       " 'ottawa': [-75.70531, 45.35917]}"
      ]
     },
     "execution_count": 9,
     "metadata": {},
     "output_type": "execute_result"
    }
   ],
   "source": [
    "coordinates"
   ]
  },
  {
   "cell_type": "markdown",
   "metadata": {},
   "source": [
    "### Llamadas a la API"
   ]
  },
  {
   "cell_type": "markdown",
   "metadata": {},
   "source": [
    "meter un parametro de radio = metros desde la ubicación dada\n",
    "meter el parametro de limit para que no me pete, tiene un limite a la hora"
   ]
  },
  {
   "cell_type": "code",
   "execution_count": 10,
   "metadata": {},
   "outputs": [],
   "source": [
    "token1= os.getenv(\"token1\")\n",
    "token2 = os.getenv(\"token2\")"
   ]
  },
  {
   "cell_type": "code",
   "execution_count": 11,
   "metadata": {},
   "outputs": [],
   "source": [
    "url_query = 'https://api.foursquare.com/v2/venues/explore'"
   ]
  },
  {
   "cell_type": "markdown",
   "metadata": {},
   "source": [
    "#### Llamadas a la API"
   ]
  },
  {
   "cell_type": "markdown",
   "metadata": {},
   "source": [
    "#####  Codes to queries"
   ]
  },
  {
   "cell_type": "markdown",
   "metadata": {},
   "source": [
    "Dentro de todas las queries hay algunas que tienen que estar muy cerca o otras que da igual que estén un pco más lejos, lo que haré separarlas por grupos"
   ]
  },
  {
   "cell_type": "code",
   "execution_count": 207,
   "metadata": {},
   "outputs": [],
   "source": [
    "queries = [\"Preschool\", \"Vegan Restaurant\", \"Bar\", \"Airport Terminal\"]"
   ]
  },
  {
   "cell_type": "markdown",
   "metadata": {},
   "source": [
    "##### Setting the parameters"
   ]
  },
  {
   "cell_type": "code",
   "execution_count": 208,
   "metadata": {},
   "outputs": [],
   "source": [
    "def datos_madrid (*args):\n",
    "    '''\n",
    "    descripcion de lo que hace la función aquí\n",
    "    '''  \n",
    "    d = {}\n",
    "    \n",
    "    for i in args: \n",
    "        parametros = {\"client_id\" : token1,\n",
    "                  \"client_secret\" : token2,\n",
    "                  \"v\": \"20180323\",\n",
    "                  \"ll\": f\"{coordinates['madrid'][1]},{coordinates['madrid'][0]}\", ## esto lo puedo hacer con kwargs\n",
    "                  \"query\":i,\n",
    "                  \"limit\": 100}  \n",
    "\n",
    "        resp = requests.get(url= url_query, params=parametros)\n",
    "        data = json.loads(resp.text)\n",
    "        d[i] = data\n",
    "    return d"
   ]
  },
  {
   "cell_type": "code",
   "execution_count": 209,
   "metadata": {},
   "outputs": [],
   "source": [
    "results = datos_madrid(*[\"Preschool\", \"Vegan Restaurant\", \"Bar\", \"Airport\"])"
   ]
  },
  {
   "cell_type": "code",
   "execution_count": 210,
   "metadata": {},
   "outputs": [
    {
     "data": {
      "text/plain": [
       "dict_keys(['Preschool', 'Vegan Restaurant', 'Bar', 'Airport'])"
      ]
     },
     "execution_count": 210,
     "metadata": {},
     "output_type": "execute_result"
    }
   ],
   "source": [
    "results.keys()#salen como resultado 7 diccionarios de cada una de las queries que he pedido. Despues de esto habría que \n",
    "#separar cada uno de los diccionarios y proceder a su limpieza"
   ]
  },
  {
   "cell_type": "markdown",
   "metadata": {},
   "source": [
    "**Para separar los distintos diccionarios que he genarado con la función anterior:**"
   ]
  },
  {
   "cell_type": "code",
   "execution_count": 211,
   "metadata": {},
   "outputs": [],
   "source": [
    "def create_separate_dictionaries(result):\n",
    "    for key, values in result.items():\n",
    "        if key == \"Preschool\":\n",
    "            school = result.get(key)\n",
    "\n",
    "        elif key == \"Vegan Restaurant\":\n",
    "            vegan = result.get(key)\n",
    "            \n",
    "        elif key == \"Bar\":\n",
    "            bar = result.get(key)\n",
    "        \n",
    "        else:\n",
    "            airport = result.get(key) \n",
    "            \n",
    "    return school, vegan, bar, airport"
   ]
  },
  {
   "cell_type": "code",
   "execution_count": 212,
   "metadata": {},
   "outputs": [],
   "source": [
    "school, vegan, bar, airport = create_separate_dictionaries(results)"
   ]
  },
  {
   "cell_type": "code",
   "execution_count": 213,
   "metadata": {},
   "outputs": [],
   "source": [
    "args = [school, vegan, bar, airport]"
   ]
  },
  {
   "cell_type": "markdown",
   "metadata": {},
   "source": [
    "### Limpieza de los resultados\n"
   ]
  },
  {
   "cell_type": "code",
   "execution_count": 214,
   "metadata": {},
   "outputs": [],
   "source": [
    "def cleaning_dictionaries(*args):\n",
    "    school = args[0]\n",
    "    for key, values in school.items():\n",
    "\n",
    "        response = school.get('response')\n",
    "        decoded = response.get('groups')[0]\n",
    "        final_school = decoded.get('items')\n",
    "\n",
    "    vegan = args[1]\n",
    "    for key, values in vegan.items():\n",
    "\n",
    "        response = vegan.get('response')\n",
    "        decoded = response.get('groups')[0]\n",
    "        final_vegan = decoded.get('items')\n",
    "        \n",
    "    bar = args[2]\n",
    "    for key, values in bar.items():\n",
    "\n",
    "        response = bar.get('response')\n",
    "        decoded = response.get('groups')[0]\n",
    "        final_bar = decoded.get('items')\n",
    "\n",
    "    airport = args[3]\n",
    "    for key, values in airport.items():\n",
    "\n",
    "        response = airport.get('response')\n",
    "        decoded = response.get('groups')[0]\n",
    "        final_airport = decoded.get('items')\n",
    "\n",
    "    return final_school, final_vegan, final_bar, final_airport"
   ]
  },
  {
   "cell_type": "code",
   "execution_count": 215,
   "metadata": {},
   "outputs": [],
   "source": [
    "school_results, vegan_results, bar_results, airport_results = cleaning_dictionaries(*args)               "
   ]
  },
  {
   "cell_type": "markdown",
   "metadata": {},
   "source": [
    "### Creating dataframes"
   ]
  },
  {
   "cell_type": "code",
   "execution_count": 216,
   "metadata": {},
   "outputs": [],
   "source": [
    "mapa_nombre = [\"venue\",\"name\"]\n",
    "m_latitud = [\"venue\",\"location\",\"lat\"]\n",
    "m_longitud = [\"venue\",\"location\",\"lng\"]"
   ]
  },
  {
   "cell_type": "code",
   "execution_count": 217,
   "metadata": {},
   "outputs": [],
   "source": [
    "def getFromDict(diccionario,mapa):\n",
    "    return reduce (operator.getitem,mapa,diccionario)"
   ]
  },
  {
   "cell_type": "markdown",
   "metadata": {},
   "source": [
    "####  For school"
   ]
  },
  {
   "cell_type": "code",
   "execution_count": 218,
   "metadata": {},
   "outputs": [],
   "source": [
    "data_schools = []\n",
    "for dic in school_results:\n",
    "    paralista = {}\n",
    "    paralista[\"name\"] = getFromDict(dic,mapa_nombre)\n",
    "    paralista[\"latitud\"] = getFromDict(dic,m_latitud)\n",
    "    paralista[\"longitud\"] = getFromDict(dic,m_longitud)\n",
    "    data_schools.append(paralista)"
   ]
  },
  {
   "cell_type": "code",
   "execution_count": 219,
   "metadata": {},
   "outputs": [
    {
     "data": {
      "text/plain": [
       "{'name': \"ABC Centre d'Estudis\", 'latitud': 40.4027257, 'longitud': -3.6748938}"
      ]
     },
     "execution_count": 219,
     "metadata": {},
     "output_type": "execute_result"
    }
   ],
   "source": [
    "data_schools[0]"
   ]
  },
  {
   "cell_type": "markdown",
   "metadata": {},
   "source": [
    "####  For vegan"
   ]
  },
  {
   "cell_type": "code",
   "execution_count": 220,
   "metadata": {},
   "outputs": [
    {
     "data": {
      "text/plain": [
       "{'name': 'Planet Organic Food&Life',\n",
       " 'latitud': 40.428808,\n",
       " 'longitud': -3.681333}"
      ]
     },
     "execution_count": 220,
     "metadata": {},
     "output_type": "execute_result"
    }
   ],
   "source": [
    "data_vegan = []\n",
    "for dic in vegan_results:\n",
    "    paralista = {}\n",
    "    paralista[\"name\"] = getFromDict(dic,mapa_nombre)\n",
    "    paralista[\"latitud\"] = getFromDict(dic,m_latitud)\n",
    "    paralista[\"longitud\"] = getFromDict(dic,m_longitud)\n",
    "    data_vegan.append(paralista)\n",
    "data_vegan[0]"
   ]
  },
  {
   "cell_type": "markdown",
   "metadata": {},
   "source": [
    "#### For bar"
   ]
  },
  {
   "cell_type": "code",
   "execution_count": 221,
   "metadata": {},
   "outputs": [],
   "source": [
    "data_bar = []\n",
    "for dic in bar_results:\n",
    "    paralista = {}\n",
    "    paralista[\"name\"] = getFromDict(dic,mapa_nombre)\n",
    "    paralista[\"latitud\"] = getFromDict(dic,m_latitud)\n",
    "    paralista[\"longitud\"] = getFromDict(dic,m_longitud)\n",
    "    data_bar.append(paralista)"
   ]
  },
  {
   "cell_type": "code",
   "execution_count": 222,
   "metadata": {},
   "outputs": [
    {
     "data": {
      "text/plain": [
       "{'name': 'Planet Organic Food&Life',\n",
       " 'latitud': 40.428808,\n",
       " 'longitud': -3.681333}"
      ]
     },
     "execution_count": 222,
     "metadata": {},
     "output_type": "execute_result"
    }
   ],
   "source": [
    "data_vegan[0]"
   ]
  },
  {
   "cell_type": "markdown",
   "metadata": {},
   "source": [
    "#### For airport"
   ]
  },
  {
   "cell_type": "code",
   "execution_count": 223,
   "metadata": {},
   "outputs": [],
   "source": [
    "data_airport = []\n",
    "for dic in airport_results:\n",
    "    paralista = {}\n",
    "    paralista[\"name\"] = getFromDict(dic,mapa_nombre)\n",
    "    paralista[\"latitud\"] = getFromDict(dic,m_latitud)\n",
    "    paralista[\"longitud\"] = getFromDict(dic,m_longitud)\n",
    "    data_airport.append(paralista)"
   ]
  },
  {
   "cell_type": "code",
   "execution_count": 224,
   "metadata": {},
   "outputs": [
    {
     "data": {
      "text/plain": [
       "[{'name': 'Aeropuerto Adolfo Suárez Madrid-Barajas (MAD) (Aeropuerto Adolfo Suárez Madrid-Barajas)',\n",
       "  'latitud': 40.481654479394656,\n",
       "  'longitud': -3.578023910522461},\n",
       " {'name': 'AIRPORT TAVERN',\n",
       "  'latitud': 40.45401795837524,\n",
       "  'longitud': -3.678820633312091},\n",
       " {'name': 'A|X Madrid Airport Barajas',\n",
       "  'latitud': 40.41414301418716,\n",
       "  'longitud': -3.7030277251869843},\n",
       " {'name': 'Parada Atocha Renfe - Línea Exprés Aeropuerto',\n",
       "  'latitud': 40.40672410393115,\n",
       "  'longitud': -3.689762820472258},\n",
       " {'name': 'Gate A8 – T1 (MAD)',\n",
       "  'latitud': 40.46138669618143,\n",
       "  'longitud': -3.5747534179940046},\n",
       " {'name': 'Gate A2 – T1 (MAD)',\n",
       "  'latitud': 40.46092574171438,\n",
       "  'longitud': -3.575276791831805},\n",
       " {'name': 'Aeropuerto de Madrid-Cuatro Vientos (MCV)',\n",
       "  'latitud': 40.369272082642745,\n",
       "  'longitud': -3.778696060180664},\n",
       " {'name': 'Gate H8 – T4 (MAD)',\n",
       "  'latitud': 40.48713225722167,\n",
       "  'longitud': -3.5901702504804733},\n",
       " {'name': 'Llegadas Sala 10',\n",
       "  'latitud': 40.4912994992147,\n",
       "  'longitud': -3.5932159423828125},\n",
       " {'name': 'Gate J44 – T4 (MAD)',\n",
       "  'latitud': 40.49001439260322,\n",
       "  'longitud': -3.590909242630005},\n",
       " {'name': 'Gate J45 – T4 (MAD)',\n",
       "  'latitud': 40.490251058659375,\n",
       "  'longitud': -3.5909514202143074},\n",
       " {'name': 'Sala VIP Iberia Dalí',\n",
       "  'latitud': 40.49097579382162,\n",
       "  'longitud': -3.5910894557882416},\n",
       " {'name': 'Sala VIP Cibeles',\n",
       "  'latitud': 40.46262841275103,\n",
       "  'longitud': -3.5701995536392266},\n",
       " {'name': 'Taxiberia Airport Transfers',\n",
       "  'latitud': 40.4914059629953,\n",
       "  'longitud': -3.593843831739826},\n",
       " {'name': 'Sala VIP Puerta del Sol',\n",
       "  'latitud': 40.471318065542874,\n",
       "  'longitud': -3.571092036897485},\n",
       " {'name': 'Hotel Pullman',\n",
       "  'latitud': 40.462289554369875,\n",
       "  'longitud': -3.6152251339236985},\n",
       " {'name': 'Hotel NH Madrid Barajas Airport',\n",
       "  'latitud': 40.45102234157529,\n",
       "  'longitud': -3.5949859739113816},\n",
       " {'name': 'Hilton',\n",
       "  'latitud': 40.45213598948498,\n",
       "  'longitud': -3.585745582963513},\n",
       " {'name': 'Saludando – Hilton Madrid Airport',\n",
       "  'latitud': 40.452070242278886,\n",
       "  'longitud': -3.585532923619286},\n",
       " {'name': 'Hilton Madrid Shuttle Bus',\n",
       "  'latitud': 40.45227626793222,\n",
       "  'longitud': -3.585305517763482},\n",
       " {'name': 'InterRent Aeropuerto de Madrid Barajas - Adolfo Suárez',\n",
       "  'latitud': 40.4634459,\n",
       "  'longitud': -3.5704708},\n",
       " {'name': 'Cercanías Aeropuerto T4',\n",
       "  'latitud': 40.49148634331049,\n",
       "  'longitud': -3.593720893178122},\n",
       " {'name': 'Europcar', 'latitud': 40.464258, 'longitud': -3.570361},\n",
       " {'name': 'Europcar', 'latitud': 40.490354, 'longitud': -3.592839},\n",
       " {'name': 'Parada Aeropuerto T4 - Línea Exprés Aeropuerto',\n",
       "  'latitud': 40.49168210609276,\n",
       "  'longitud': -3.59373049026109},\n",
       " {'name': 'Tryp Madrid Airport Suites',\n",
       "  'latitud': 40.4455692,\n",
       "  'longitud': -3.5436074},\n",
       " {'name': 'Crowne Plaza Madrid Airport',\n",
       "  'latitud': 40.447238,\n",
       "  'longitud': -3.54202},\n",
       " {'name': 'Starbucks',\n",
       "  'latitud': 40.4947002313464,\n",
       "  'longitud': -3.5671019289775407},\n",
       " {'name': 'TAXI MADRID AIRPORT BARAJAS',\n",
       "  'latitud': 40.23324,\n",
       "  'longitud': -3.770150000000058}]"
      ]
     },
     "execution_count": 224,
     "metadata": {},
     "output_type": "execute_result"
    }
   ],
   "source": [
    "data_airport"
   ]
  },
  {
   "cell_type": "markdown",
   "metadata": {},
   "source": [
    "###  Saving dataframes"
   ]
  },
  {
   "cell_type": "markdown",
   "metadata": {},
   "source": [
    "#### School query"
   ]
  },
  {
   "cell_type": "code",
   "execution_count": 186,
   "metadata": {},
   "outputs": [
    {
     "data": {
      "text/html": [
       "<div>\n",
       "<style scoped>\n",
       "    .dataframe tbody tr th:only-of-type {\n",
       "        vertical-align: middle;\n",
       "    }\n",
       "\n",
       "    .dataframe tbody tr th {\n",
       "        vertical-align: top;\n",
       "    }\n",
       "\n",
       "    .dataframe thead th {\n",
       "        text-align: right;\n",
       "    }\n",
       "</style>\n",
       "<table border=\"1\" class=\"dataframe\">\n",
       "  <thead>\n",
       "    <tr style=\"text-align: right;\">\n",
       "      <th></th>\n",
       "      <th>name</th>\n",
       "      <th>latitud</th>\n",
       "      <th>longitud</th>\n",
       "    </tr>\n",
       "  </thead>\n",
       "  <tbody>\n",
       "    <tr>\n",
       "      <th>0</th>\n",
       "      <td>ABC Centre d'Estudis</td>\n",
       "      <td>40.402726</td>\n",
       "      <td>-3.674894</td>\n",
       "    </tr>\n",
       "    <tr>\n",
       "      <th>1</th>\n",
       "      <td>Guardería Chiqui Tin Moratalaz</td>\n",
       "      <td>40.409716</td>\n",
       "      <td>-3.653979</td>\n",
       "    </tr>\n",
       "    <tr>\n",
       "      <th>2</th>\n",
       "      <td>Foodies in the City</td>\n",
       "      <td>40.421212</td>\n",
       "      <td>-3.717058</td>\n",
       "    </tr>\n",
       "  </tbody>\n",
       "</table>\n",
       "</div>"
      ],
      "text/plain": [
       "                             name    latitud  longitud\n",
       "0            ABC Centre d'Estudis  40.402726 -3.674894\n",
       "1  Guardería Chiqui Tin Moratalaz  40.409716 -3.653979\n",
       "2             Foodies in the City  40.421212 -3.717058"
      ]
     },
     "execution_count": 186,
     "metadata": {},
     "output_type": "execute_result"
    }
   ],
   "source": [
    "df_pets = pd.DataFrame(data_schools)\n",
    "df_pets.to_csv(\"school.csv\", index = False)\n",
    "df_pets.head()"
   ]
  },
  {
   "cell_type": "markdown",
   "metadata": {},
   "source": [
    "#### Vegan query"
   ]
  },
  {
   "cell_type": "code",
   "execution_count": 189,
   "metadata": {},
   "outputs": [
    {
     "data": {
      "text/html": [
       "<div>\n",
       "<style scoped>\n",
       "    .dataframe tbody tr th:only-of-type {\n",
       "        vertical-align: middle;\n",
       "    }\n",
       "\n",
       "    .dataframe tbody tr th {\n",
       "        vertical-align: top;\n",
       "    }\n",
       "\n",
       "    .dataframe thead th {\n",
       "        text-align: right;\n",
       "    }\n",
       "</style>\n",
       "<table border=\"1\" class=\"dataframe\">\n",
       "  <thead>\n",
       "    <tr style=\"text-align: right;\">\n",
       "      <th></th>\n",
       "      <th>name</th>\n",
       "      <th>latitud</th>\n",
       "      <th>longitud</th>\n",
       "    </tr>\n",
       "  </thead>\n",
       "  <tbody>\n",
       "    <tr>\n",
       "      <th>0</th>\n",
       "      <td>Planet Organic Food&amp;Life</td>\n",
       "      <td>40.428808</td>\n",
       "      <td>-3.681333</td>\n",
       "    </tr>\n",
       "    <tr>\n",
       "      <th>1</th>\n",
       "      <td>Swagat Indian Restaurant</td>\n",
       "      <td>40.424513</td>\n",
       "      <td>-3.683114</td>\n",
       "    </tr>\n",
       "    <tr>\n",
       "      <th>2</th>\n",
       "      <td>Roots</td>\n",
       "      <td>40.424572</td>\n",
       "      <td>-3.695587</td>\n",
       "    </tr>\n",
       "    <tr>\n",
       "      <th>3</th>\n",
       "      <td>Bunny's Deli</td>\n",
       "      <td>40.423935</td>\n",
       "      <td>-3.697158</td>\n",
       "    </tr>\n",
       "    <tr>\n",
       "      <th>4</th>\n",
       "      <td>La Galette 2 - Casa Escondida</td>\n",
       "      <td>40.423449</td>\n",
       "      <td>-3.692540</td>\n",
       "    </tr>\n",
       "  </tbody>\n",
       "</table>\n",
       "</div>"
      ],
      "text/plain": [
       "                            name    latitud  longitud\n",
       "0       Planet Organic Food&Life  40.428808 -3.681333\n",
       "1       Swagat Indian Restaurant  40.424513 -3.683114\n",
       "2                          Roots  40.424572 -3.695587\n",
       "3                   Bunny's Deli  40.423935 -3.697158\n",
       "4  La Galette 2 - Casa Escondida  40.423449 -3.692540"
      ]
     },
     "execution_count": 189,
     "metadata": {},
     "output_type": "execute_result"
    }
   ],
   "source": [
    "df_gym = pd.DataFrame(data_vegan)\n",
    "df_gym.to_csv(\"vegan.csv\", index = False)\n",
    "df_gym.head()"
   ]
  },
  {
   "cell_type": "code",
   "execution_count": null,
   "metadata": {},
   "outputs": [],
   "source": []
  },
  {
   "cell_type": "code",
   "execution_count": null,
   "metadata": {},
   "outputs": [],
   "source": []
  },
  {
   "cell_type": "code",
   "execution_count": null,
   "metadata": {},
   "outputs": [],
   "source": []
  },
  {
   "cell_type": "code",
   "execution_count": null,
   "metadata": {},
   "outputs": [],
   "source": []
  },
  {
   "cell_type": "code",
   "execution_count": null,
   "metadata": {},
   "outputs": [],
   "source": []
  },
  {
   "cell_type": "code",
   "execution_count": null,
   "metadata": {},
   "outputs": [],
   "source": []
  },
  {
   "cell_type": "code",
   "execution_count": null,
   "metadata": {},
   "outputs": [],
   "source": []
  },
  {
   "cell_type": "code",
   "execution_count": null,
   "metadata": {},
   "outputs": [],
   "source": []
  },
  {
   "cell_type": "code",
   "execution_count": null,
   "metadata": {},
   "outputs": [],
   "source": []
  },
  {
   "cell_type": "code",
   "execution_count": null,
   "metadata": {},
   "outputs": [],
   "source": [
    "def create_separate_dictionaries (dictonary_queries):\n",
    "    filterByKey = lambda keys: {x: results[x] for x in keys}\n",
    "    for key, values in dictonary_queries.items():\n",
    "        \n",
    "        return filterByKey([values])\n",
    "    \n",
    "    results *args"
   ]
  }
 ],
 "metadata": {
  "kernelspec": {
   "display_name": "Python 3",
   "language": "python",
   "name": "python3"
  },
  "language_info": {
   "codemirror_mode": {
    "name": "ipython",
    "version": 3
   },
   "file_extension": ".py",
   "mimetype": "text/x-python",
   "name": "python",
   "nbconvert_exporter": "python",
   "pygments_lexer": "ipython3",
   "version": "3.8.5"
  },
  "toc": {
   "base_numbering": 1,
   "nav_menu": {},
   "number_sections": true,
   "sideBar": true,
   "skip_h1_title": false,
   "title_cell": "Table of Contents",
   "title_sidebar": "Contents",
   "toc_cell": false,
   "toc_position": {},
   "toc_section_display": true,
   "toc_window_display": false
  },
  "varInspector": {
   "cols": {
    "lenName": 16,
    "lenType": 16,
    "lenVar": 40
   },
   "kernels_config": {
    "python": {
     "delete_cmd_postfix": "",
     "delete_cmd_prefix": "del ",
     "library": "var_list.py",
     "varRefreshCmd": "print(var_dic_list())"
    },
    "r": {
     "delete_cmd_postfix": ") ",
     "delete_cmd_prefix": "rm(",
     "library": "var_list.r",
     "varRefreshCmd": "cat(var_dic_list()) "
    }
   },
   "types_to_exclude": [
    "module",
    "function",
    "builtin_function_or_method",
    "instance",
    "_Feature"
   ],
   "window_display": false
  }
 },
 "nbformat": 4,
 "nbformat_minor": 2
}
