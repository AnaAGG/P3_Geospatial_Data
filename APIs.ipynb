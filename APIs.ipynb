{
 "cells": [
  {
   "cell_type": "markdown",
   "metadata": {},
   "source": [
    "### Libraries"
   ]
  },
  {
   "cell_type": "code",
   "execution_count": 1,
   "metadata": {},
   "outputs": [],
   "source": [
    "import requests \n",
    "import json\n",
    "from dotenv import load_dotenv\n",
    "import os\n",
    "import pandas as pd\n",
    "\n",
    "from functools import reduce\n",
    "import operator\n",
    "import geopandas as gdp\n",
    "import shapely\n",
    "\n",
    "\n",
    "from pymongo import MongoClient"
   ]
  },
  {
   "cell_type": "code",
   "execution_count": 2,
   "metadata": {},
   "outputs": [
    {
     "data": {
      "text/plain": [
       "True"
      ]
     },
     "execution_count": 2,
     "metadata": {},
     "output_type": "execute_result"
    }
   ],
   "source": [
    "load_dotenv()"
   ]
  },
  {
   "cell_type": "markdown",
   "metadata": {},
   "source": [
    "### Creando los geocodes"
   ]
  },
  {
   "cell_type": "markdown",
   "metadata": {},
   "source": [
    "En este caso, voy a partir de tres ubicaciones diferentes:\n",
    "\n",
    "- España **-->** Madrid\n",
    "- Paises Bajos **-->** Amsterdam\n",
    "- Francia **-->** Paris \n",
    "- Canadá **-->** Montréal "
   ]
  },
  {
   "cell_type": "code",
   "execution_count": 3,
   "metadata": {},
   "outputs": [],
   "source": [
    "countries = [\"madrid\",\"paris\", \"ottawa\"]"
   ]
  },
  {
   "cell_type": "markdown",
   "metadata": {},
   "source": [
    "EN ESTA FUNCIOÓN DE AQUÍ TENDRÍA QUE MIRAR PARA METER EL TRY AND EXCEPT"
   ]
  },
  {
   "cell_type": "code",
   "execution_count": 4,
   "metadata": {},
   "outputs": [],
   "source": [
    "def get_coordinates(lista):\n",
    "    d = {}\n",
    "    try: \n",
    "        for country in countries:\n",
    "            locations = requests.get(f'https://geocode.xyz/{country}?json=1')\n",
    "            locations = locations.json()\n",
    "            d[country] = locations\n",
    "    except:\n",
    "        return \"Error getting data\"\n",
    "        \n",
    "    return d     "
   ]
  },
  {
   "cell_type": "code",
   "execution_count": 5,
   "metadata": {},
   "outputs": [],
   "source": [
    "c = get_coordinates(countries)"
   ]
  },
  {
   "cell_type": "code",
   "execution_count": 6,
   "metadata": {},
   "outputs": [
    {
     "name": "stdout",
     "output_type": "stream",
     "text": [
      "dict_keys(['standard', 'longt', 'alt', 'elevation', 'latt'])\n",
      "dict_keys(['standard', 'longt', 'alt', 'elevation', 'latt'])\n",
      "dict_keys(['standard', 'longt', 'alt', 'elevation', 'latt'])\n"
     ]
    }
   ],
   "source": [
    "c['madrid']\n",
    "for k, v in c.items():\n",
    "    print(v.keys())"
   ]
  },
  {
   "cell_type": "code",
   "execution_count": 7,
   "metadata": {},
   "outputs": [],
   "source": [
    "def exctract_coordinates(dictionary):\n",
    "    dict_empty = {}\n",
    "    for k, v in c.items():\n",
    "        coor = [float(v[\"longt\"]),float(v[\"latt\"])]\n",
    "        dict_empty[k] = coor\n",
    "    return dict_empty"
   ]
  },
  {
   "cell_type": "code",
   "execution_count": 8,
   "metadata": {},
   "outputs": [],
   "source": [
    "coordinates = exctract_coordinates(c)"
   ]
  },
  {
   "cell_type": "code",
   "execution_count": 9,
   "metadata": {},
   "outputs": [
    {
     "data": {
      "text/plain": [
       "{'madrid': [-3.6793, 40.42955],\n",
       " 'paris': [2.3428, 48.85756],\n",
       " 'ottawa': [-75.70531, 45.35917]}"
      ]
     },
     "execution_count": 9,
     "metadata": {},
     "output_type": "execute_result"
    }
   ],
   "source": [
    "coordinates"
   ]
  },
  {
   "cell_type": "markdown",
   "metadata": {},
   "source": [
    "### Llamadas a la API"
   ]
  },
  {
   "cell_type": "markdown",
   "metadata": {},
   "source": [
    "meter un parametro de radio = metros desde la ubicación dada\n",
    "meter el parametro de limit para que no me pete, tiene un limite a la hora"
   ]
  },
  {
   "cell_type": "code",
   "execution_count": 10,
   "metadata": {},
   "outputs": [],
   "source": [
    "token1= os.getenv(\"token1\")\n",
    "token2 = os.getenv(\"token2\")"
   ]
  },
  {
   "cell_type": "code",
   "execution_count": 11,
   "metadata": {},
   "outputs": [],
   "source": [
    "url_query = 'https://api.foursquare.com/v2/venues/explore'"
   ]
  },
  {
   "cell_type": "markdown",
   "metadata": {},
   "source": [
    "#### Llamadas a la API"
   ]
  },
  {
   "cell_type": "markdown",
   "metadata": {},
   "source": [
    "#####  Codes to queries"
   ]
  },
  {
   "cell_type": "markdown",
   "metadata": {},
   "source": [
    "Dentro de todas las queries hay algunas que tienen que estar muy cerca o otras que da igual que estén un pco más lejos, lo que haré separarlas por grupos"
   ]
  },
  {
   "cell_type": "code",
   "execution_count": 12,
   "metadata": {},
   "outputs": [],
   "source": [
    "school = '52e81612bcbc57f1066b7a45'\n",
    "vegan = \"4bf58dd8d48988d1d3941735\"\n",
    "\n",
    "queries = [\"Preschool\", \"Vegan Restaurant\"]\n"
   ]
  },
  {
   "cell_type": "markdown",
   "metadata": {},
   "source": [
    "##### Setting the parameters"
   ]
  },
  {
   "cell_type": "code",
   "execution_count": 14,
   "metadata": {},
   "outputs": [],
   "source": [
    "def datos_madrid (*args):\n",
    "    '''\n",
    "    descripcion de lo que hace la función aquí\n",
    "    '''  \n",
    "    d = {}\n",
    "    \n",
    "    for i in args: \n",
    "        parametros = {\"client_id\" : token1,\n",
    "                  \"client_secret\" : token2,\n",
    "                  \"v\": \"20180323\",\n",
    "                  \"ll\": f\"{coordinates['madrid'][1]},{coordinates['madrid'][0]}\", ## esto lo puedo hacer con kwargs\n",
    "                  \"query\":i,\n",
    "                  \"limit\": 100}  \n",
    "\n",
    "        resp = requests.get(url= url_query, params=parametros)\n",
    "        data = json.loads(resp.text)\n",
    "        d[i] = data\n",
    "    return d"
   ]
  },
  {
   "cell_type": "code",
   "execution_count": 15,
   "metadata": {},
   "outputs": [],
   "source": [
    "results = datos_madrid(*[\"Preschool\", \"Vegan Restaurant\"])"
   ]
  },
  {
   "cell_type": "code",
   "execution_count": 16,
   "metadata": {},
   "outputs": [
    {
     "data": {
      "text/plain": [
       "dict_keys(['Preschool', 'Vegan Restaurant'])"
      ]
     },
     "execution_count": 16,
     "metadata": {},
     "output_type": "execute_result"
    }
   ],
   "source": [
    "results.keys()#salen como resultado 7 diccionarios de cada una de las queries que he pedido. Despues de esto habría que \n",
    "#separar cada uno de los diccionarios y proceder a su limpieza"
   ]
  },
  {
   "cell_type": "markdown",
   "metadata": {},
   "source": [
    "**Para separar los distintos diccionarios que he genarado con la función anterior:**"
   ]
  },
  {
   "cell_type": "code",
   "execution_count": 110,
   "metadata": {},
   "outputs": [],
   "source": [
    "def create_separate_dictionaries(result):\n",
    "    for key, values in result.items():\n",
    "        if key == \"Preschool\":\n",
    "            school = result.get(key)\n",
    "\n",
    "        else:\n",
    "            vegan = result.get(key)\n",
    "            \n",
    "    return school, vegan"
   ]
  },
  {
   "cell_type": "code",
   "execution_count": 111,
   "metadata": {},
   "outputs": [],
   "source": [
    "school, vegan = create_separate_dictionaries(results)"
   ]
  },
  {
   "cell_type": "code",
   "execution_count": 123,
   "metadata": {},
   "outputs": [
    {
     "data": {
      "text/plain": [
       "list"
      ]
     },
     "execution_count": 123,
     "metadata": {},
     "output_type": "execute_result"
    }
   ],
   "source": [
    "args = [school, vegan]\n",
    "type(all_results)\n"
   ]
  },
  {
   "cell_type": "markdown",
   "metadata": {},
   "source": [
    "### Limpieza de los resultados\n"
   ]
  },
  {
   "cell_type": "code",
   "execution_count": 168,
   "metadata": {},
   "outputs": [
    {
     "data": {
      "text/plain": [
       "'\\nprint(key, \"-->\", value, \\'/n\\')\\n'"
      ]
     },
     "execution_count": 168,
     "metadata": {},
     "output_type": "execute_result"
    }
   ],
   "source": [
    "def cleaning_dictionaries(*args):\n",
    "    school = args[0]\n",
    "    for key, values in school.items():\n",
    "\n",
    "        response = school.get('response')\n",
    "        decoded = response.get('groups')[0]\n",
    "        final_school = decoded.get('items')\n",
    "\n",
    "    vegan = args[1]\n",
    "    for key, values in vegan.items():\n",
    "\n",
    "        response = vegan.get('response')\n",
    "        decoded = response.get('groups')[0]\n",
    "        final_vegan = decoded.get('items')\n",
    "\n",
    "    return final_school, final_vegan\n",
    "\n",
    "'''\n",
    "print(key, \"-->\", value, '/n')\n",
    "'''"
   ]
  },
  {
   "cell_type": "code",
   "execution_count": 171,
   "metadata": {},
   "outputs": [],
   "source": [
    "school_results, vegan_results = cleaning_dictionaries(*args)               "
   ]
  },
  {
   "cell_type": "markdown",
   "metadata": {},
   "source": [
    "### Creating dataframes"
   ]
  },
  {
   "cell_type": "code",
   "execution_count": null,
   "metadata": {},
   "outputs": [],
   "source": [
    "mapa_nombre = [\"venue\",\"name\"]\n",
    "m_latitud = [\"venue\",\"location\",\"lat\"]\n",
    "m_longitud = [\"venue\",\"location\",\"lng\"]"
   ]
  },
  {
   "cell_type": "code",
   "execution_count": null,
   "metadata": {},
   "outputs": [],
   "source": [
    "def getFromDict(diccionario,mapa):\n",
    "    return reduce (operator.getitem,mapa,diccionario)"
   ]
  },
  {
   "cell_type": "markdown",
   "metadata": {},
   "source": [
    "####  For school"
   ]
  },
  {
   "cell_type": "code",
   "execution_count": null,
   "metadata": {},
   "outputs": [],
   "source": [
    "data_schools = []\n",
    "for dic in school_data:\n",
    "    paralista = {}\n",
    "    paralista[\"name\"] = getFromDict(dic,mapa_nombre)\n",
    "    paralista[\"latitud\"] = getFromDict(dic,m_latitud)\n",
    "    paralista[\"longitud\"] = getFromDict(dic,m_longitud)\n",
    "    data_schools.append(paralista)"
   ]
  },
  {
   "cell_type": "code",
   "execution_count": null,
   "metadata": {},
   "outputs": [],
   "source": [
    "data_schools[0]"
   ]
  },
  {
   "cell_type": "markdown",
   "metadata": {},
   "source": [
    "####  For vegan"
   ]
  },
  {
   "cell_type": "code",
   "execution_count": null,
   "metadata": {},
   "outputs": [],
   "source": [
    "data_vegan = []\n",
    "for dic in vegan_data:\n",
    "    paralista = {}\n",
    "    paralista[\"name\"] = getFromDict(dic,mapa_nombre)\n",
    "    paralista[\"latitud\"] = getFromDict(dic,m_latitud)\n",
    "    paralista[\"longitud\"] = getFromDict(dic,m_longitud)\n",
    "    data_vegan.append(paralista)\n",
    "data_vegan"
   ]
  },
  {
   "cell_type": "markdown",
   "metadata": {},
   "source": [
    "###  Saving dataframes"
   ]
  },
  {
   "cell_type": "markdown",
   "metadata": {},
   "source": [
    "#### School query"
   ]
  },
  {
   "cell_type": "code",
   "execution_count": null,
   "metadata": {},
   "outputs": [],
   "source": [
    "df_pets = pd.DataFrame(data_schools)\n",
    "df_pets.to_csv(\"school.csv\", index = False)\n",
    "df_pets.head()"
   ]
  },
  {
   "cell_type": "markdown",
   "metadata": {},
   "source": [
    "#### Vegan query"
   ]
  },
  {
   "cell_type": "code",
   "execution_count": null,
   "metadata": {},
   "outputs": [],
   "source": [
    "df_gym = pd.DataFrame(data_vegan)\n",
    "df_gym.to_csv(\"vegan.csv\", index = False)\n",
    "df_gym.head()"
   ]
  },
  {
   "cell_type": "code",
   "execution_count": null,
   "metadata": {},
   "outputs": [],
   "source": []
  },
  {
   "cell_type": "code",
   "execution_count": null,
   "metadata": {},
   "outputs": [],
   "source": []
  },
  {
   "cell_type": "code",
   "execution_count": null,
   "metadata": {},
   "outputs": [],
   "source": []
  },
  {
   "cell_type": "code",
   "execution_count": null,
   "metadata": {},
   "outputs": [],
   "source": []
  },
  {
   "cell_type": "code",
   "execution_count": null,
   "metadata": {},
   "outputs": [],
   "source": []
  },
  {
   "cell_type": "code",
   "execution_count": null,
   "metadata": {},
   "outputs": [],
   "source": []
  },
  {
   "cell_type": "code",
   "execution_count": null,
   "metadata": {},
   "outputs": [],
   "source": []
  },
  {
   "cell_type": "code",
   "execution_count": null,
   "metadata": {},
   "outputs": [],
   "source": []
  },
  {
   "cell_type": "code",
   "execution_count": null,
   "metadata": {},
   "outputs": [],
   "source": []
  },
  {
   "cell_type": "code",
   "execution_count": null,
   "metadata": {},
   "outputs": [],
   "source": [
    "def create_separate_dictionaries (dictonary_queries):\n",
    "    filterByKey = lambda keys: {x: results[x] for x in keys}\n",
    "    for key, values in dictonary_queries.items():\n",
    "        \n",
    "        return filterByKey([values])\n",
    "    \n",
    "    results *args"
   ]
  }
 ],
 "metadata": {
  "kernelspec": {
   "display_name": "Python 3",
   "language": "python",
   "name": "python3"
  },
  "language_info": {
   "codemirror_mode": {
    "name": "ipython",
    "version": 3
   },
   "file_extension": ".py",
   "mimetype": "text/x-python",
   "name": "python",
   "nbconvert_exporter": "python",
   "pygments_lexer": "ipython3",
   "version": "3.8.5"
  },
  "toc": {
   "base_numbering": 1,
   "nav_menu": {},
   "number_sections": true,
   "sideBar": true,
   "skip_h1_title": false,
   "title_cell": "Table of Contents",
   "title_sidebar": "Contents",
   "toc_cell": false,
   "toc_position": {},
   "toc_section_display": true,
   "toc_window_display": false
  },
  "varInspector": {
   "cols": {
    "lenName": 16,
    "lenType": 16,
    "lenVar": 40
   },
   "kernels_config": {
    "python": {
     "delete_cmd_postfix": "",
     "delete_cmd_prefix": "del ",
     "library": "var_list.py",
     "varRefreshCmd": "print(var_dic_list())"
    },
    "r": {
     "delete_cmd_postfix": ") ",
     "delete_cmd_prefix": "rm(",
     "library": "var_list.r",
     "varRefreshCmd": "cat(var_dic_list()) "
    }
   },
   "types_to_exclude": [
    "module",
    "function",
    "builtin_function_or_method",
    "instance",
    "_Feature"
   ],
   "window_display": false
  }
 },
 "nbformat": 4,
 "nbformat_minor": 2
}
