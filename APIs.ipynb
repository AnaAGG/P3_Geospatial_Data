{
 "cells": [
  {
   "cell_type": "markdown",
   "metadata": {},
   "source": [
    "### Libraries"
   ]
  },
  {
   "cell_type": "code",
   "execution_count": 1,
   "metadata": {},
   "outputs": [],
   "source": [
    "import sys\n",
    "sys.path.append('../')"
   ]
  },
  {
   "cell_type": "code",
   "execution_count": 2,
   "metadata": {},
   "outputs": [],
   "source": [
    "import requests \n",
    "import json\n",
    "from dotenv import load_dotenv\n",
    "import os\n",
    "import pandas as pd\n",
    "\n",
    "from functools import reduce\n",
    "import operator\n",
    "import geopandas as gdp\n",
    "import shapely\n",
    "\n",
    "\n",
    "from pymongo import MongoClient\n",
    "\n",
    "import src.APIsFunctions as af"
   ]
  },
  {
   "cell_type": "code",
   "execution_count": 3,
   "metadata": {},
   "outputs": [
    {
     "data": {
      "text/plain": [
       "True"
      ]
     },
     "execution_count": 3,
     "metadata": {},
     "output_type": "execute_result"
    }
   ],
   "source": [
    "load_dotenv()"
   ]
  },
  {
   "cell_type": "markdown",
   "metadata": {},
   "source": [
    "### Creando los geocodes"
   ]
  },
  {
   "cell_type": "markdown",
   "metadata": {},
   "source": [
    "En este caso, voy a partir de tres ubicaciones diferentes:\n",
    "\n",
    "- España **-->** Madrid\n",
    "- Paises Bajos **-->** Amsterdam\n",
    "- Francia **-->** Paris \n",
    "- Canadá **-->** Montréal "
   ]
  },
  {
   "cell_type": "code",
   "execution_count": 4,
   "metadata": {},
   "outputs": [],
   "source": [
    "countries = [\"madrid\", \"bilbao\", \"gijon\", \"toledo\"]"
   ]
  },
  {
   "cell_type": "code",
   "execution_count": 5,
   "metadata": {},
   "outputs": [],
   "source": [
    "def get_coordinates(lista):\n",
    "    d = {}\n",
    "    try: \n",
    "        for country in lista:\n",
    "            locations = requests.get(f'https://geocode.xyz/{country}?json=1')\n",
    "            locations = locations.json()\n",
    "            d[country] = locations\n",
    "    except:\n",
    "        return \"Error getting data\"\n",
    "        \n",
    "    return d     "
   ]
  },
  {
   "cell_type": "code",
   "execution_count": 6,
   "metadata": {},
   "outputs": [],
   "source": [
    "c = get_coordinates(countries)"
   ]
  },
  {
   "cell_type": "code",
   "execution_count": 7,
   "metadata": {},
   "outputs": [
    {
     "name": "stdout",
     "output_type": "stream",
     "text": [
      "dict_keys(['standard', 'longt', 'alt', 'elevation', 'latt'])\n",
      "dict_keys(['standard', 'longt', 'alt', 'elevation', 'latt'])\n",
      "dict_keys(['standard', 'longt', 'alt', 'elevation', 'latt'])\n",
      "dict_keys(['standard', 'longt', 'alt', 'elevation', 'latt'])\n"
     ]
    }
   ],
   "source": [
    "for k, v in c.items():\n",
    "    print(v.keys())"
   ]
  },
  {
   "cell_type": "code",
   "execution_count": 8,
   "metadata": {},
   "outputs": [],
   "source": [
    "def extract_coordinates(dictionary):\n",
    "    dict_empty = {}\n",
    "    for k, v in c.items():\n",
    "        coor = [float(v[\"longt\"]),float(v[\"latt\"])]\n",
    "        dict_empty[k] = coor\n",
    "    return dict_empty"
   ]
  },
  {
   "cell_type": "code",
   "execution_count": 9,
   "metadata": {},
   "outputs": [],
   "source": [
    "coordinates = extract_coordinates(c)"
   ]
  },
  {
   "cell_type": "code",
   "execution_count": 10,
   "metadata": {},
   "outputs": [
    {
     "data": {
      "text/plain": [
       "{'madrid': [-3.6793, 40.42955],\n",
       " 'bilbao': [-2.9253, 43.2627],\n",
       " 'gijon': [-5.7258, 43.5317],\n",
       " 'toledo': [-4.02711, 39.94034]}"
      ]
     },
     "execution_count": 10,
     "metadata": {},
     "output_type": "execute_result"
    }
   ],
   "source": [
    "coordinates"
   ]
  },
  {
   "cell_type": "markdown",
   "metadata": {},
   "source": [
    "### Llamadas a la API"
   ]
  },
  {
   "cell_type": "markdown",
   "metadata": {},
   "source": [
    "meter un parametro de radio = metros desde la ubicación dada\n",
    "meter el parametro de limit para que no me pete, tiene un limite a la hora"
   ]
  },
  {
   "cell_type": "code",
   "execution_count": 11,
   "metadata": {},
   "outputs": [],
   "source": [
    "token1= os.getenv(\"token1\")\n",
    "token2 = os.getenv(\"token2\")"
   ]
  },
  {
   "cell_type": "code",
   "execution_count": 12,
   "metadata": {},
   "outputs": [],
   "source": [
    "url_query = 'https://api.foursquare.com/v2/venues/explore'"
   ]
  },
  {
   "cell_type": "markdown",
   "metadata": {},
   "source": [
    "#### Llamadas a la API"
   ]
  },
  {
   "cell_type": "markdown",
   "metadata": {},
   "source": [
    "#####  Codes to queries"
   ]
  },
  {
   "cell_type": "markdown",
   "metadata": {},
   "source": [
    "Dentro de todas las queries hay algunas que tienen que estar muy cerca o otras que da igual que estén un pco más lejos, lo que haré separarlas por grupos"
   ]
  },
  {
   "cell_type": "code",
   "execution_count": 66,
   "metadata": {},
   "outputs": [],
   "source": [
    "queries = [\"Preschool\", \"Vegan Restaurant\", \"Train Station\", \"Park\", \"Basketball Court\"]"
   ]
  },
  {
   "cell_type": "markdown",
   "metadata": {},
   "source": [
    "##### Setting the parameters"
   ]
  },
  {
   "cell_type": "code",
   "execution_count": 67,
   "metadata": {},
   "outputs": [],
   "source": [
    "def get_data (latitude, longitude, *args):\n",
    "    '''\n",
    "    descripcion de lo que hace la función aquí\n",
    "    '''  \n",
    "    d = {}\n",
    "    \n",
    "    for i in args: \n",
    "        parametros = {\"client_id\" : token1,\n",
    "                  \"client_secret\" : token2,\n",
    "                  \"v\": \"20180323\",\n",
    "                  \"ll\": f\"{latitude},{longitude}\", \n",
    "                  \"query\":i,\n",
    "                  \"limit\": 100}  \n",
    "\n",
    "        resp = requests.get(url= url_query, params=parametros)\n",
    "        data = json.loads(resp.text)        \n",
    "        d[i] = data\n",
    "        \n",
    "    return d"
   ]
  },
  {
   "cell_type": "code",
   "execution_count": 68,
   "metadata": {},
   "outputs": [],
   "source": [
    "madrid = get_data(40.42955, -3.6793, *queries)"
   ]
  },
  {
   "cell_type": "code",
   "execution_count": 70,
   "metadata": {},
   "outputs": [],
   "source": [
    "toledo = get_data(39.94034, -4.02711, *queries)"
   ]
  },
  {
   "cell_type": "code",
   "execution_count": 71,
   "metadata": {},
   "outputs": [],
   "source": [
    "bilbao = get_data(43.2627, -2.9253,  *queries )"
   ]
  },
  {
   "cell_type": "code",
   "execution_count": 72,
   "metadata": {},
   "outputs": [],
   "source": [
    "gijon = get_data(39.94034, -4.02711, *queries)"
   ]
  },
  {
   "cell_type": "markdown",
   "metadata": {},
   "source": [
    "### Limpieza de los resultados\n"
   ]
  },
  {
   "cell_type": "markdown",
   "metadata": {},
   "source": [
    "**Para separar los distintos diccionarios que he genarado con la función anterior:**"
   ]
  },
  {
   "cell_type": "code",
   "execution_count": 73,
   "metadata": {},
   "outputs": [],
   "source": [
    "def clean_data(result):\n",
    "    for key, values in result.items():\n",
    "        \n",
    "        if key == \"Preschool\":\n",
    "            school = result.get(key)\n",
    "            response = school.get('response')\n",
    "            decoded = response.get('groups')[0]\n",
    "            final_school = decoded.get('items')\n",
    "\n",
    "        elif key == \"Vegan Restaurant\":\n",
    "            vegan = result.get(key)\n",
    "            response = vegan.get('response')\n",
    "            decoded = response.get('groups')[0]\n",
    "            final_vegan = decoded.get('items')\n",
    "            \n",
    "            \n",
    "        elif key == \"Park\":\n",
    "            park = result.get(key)\n",
    "            response = park.get('response')\n",
    "            decoded = response.get('groups')[0]\n",
    "            final_park = decoded.get('items')\n",
    "            \n",
    "        elif key == \"Basketball Court\":\n",
    "            sports = result.get(key)\n",
    "            response = sports.get('response')\n",
    "            decoded = response.get('groups')[0]\n",
    "            final_sport = decoded.get('items')\n",
    "            \n",
    "        else:\n",
    "            train = result.get(key)\n",
    "            response = train.get('response')\n",
    "            decoded = response.get('groups')[0]\n",
    "            final_train = decoded.get('items')\n",
    "            \n",
    "    results = [final_school, final_vegan,  final_park, final_sport, final_train]\n",
    "            \n",
    "    return results"
   ]
  },
  {
   "cell_type": "code",
   "execution_count": 74,
   "metadata": {},
   "outputs": [],
   "source": [
    "madrid = clean_data(madrid)\n",
    "bilbao = clean_data(bilbao)\n",
    "gijon = clean_data(gijon)\n",
    "toledo = clean_data(toledo)"
   ]
  },
  {
   "cell_type": "code",
   "execution_count": 47,
   "metadata": {},
   "outputs": [
    {
     "ename": "TypeError",
     "evalue": "string indices must be integers",
     "output_type": "error",
     "traceback": [
      "\u001b[0;31m---------------------------------------------------------------------------\u001b[0m",
      "\u001b[0;31mTypeError\u001b[0m                                 Traceback (most recent call last)",
      "\u001b[0;32m<ipython-input-47-046c64dcdb82>\u001b[0m in \u001b[0;36m<module>\u001b[0;34m\u001b[0m\n\u001b[1;32m      8\u001b[0m \u001b[0;32mfor\u001b[0m \u001b[0mdic\u001b[0m \u001b[0;32min\u001b[0m \u001b[0mmadrid\u001b[0m\u001b[0;34m:\u001b[0m\u001b[0;34m\u001b[0m\u001b[0;34m\u001b[0m\u001b[0m\n\u001b[1;32m      9\u001b[0m     \u001b[0mparalista\u001b[0m \u001b[0;34m=\u001b[0m \u001b[0;34m{\u001b[0m\u001b[0;34m}\u001b[0m\u001b[0;34m\u001b[0m\u001b[0;34m\u001b[0m\u001b[0m\n\u001b[0;32m---> 10\u001b[0;31m     \u001b[0mparalista\u001b[0m\u001b[0;34m[\u001b[0m\u001b[0;34m\"name\"\u001b[0m\u001b[0;34m]\u001b[0m \u001b[0;34m=\u001b[0m \u001b[0mgetFromDict\u001b[0m\u001b[0;34m(\u001b[0m\u001b[0mdic\u001b[0m\u001b[0;34m,\u001b[0m\u001b[0mmapa_nombre\u001b[0m\u001b[0;34m)\u001b[0m\u001b[0;34m\u001b[0m\u001b[0;34m\u001b[0m\u001b[0m\n\u001b[0m\u001b[1;32m     11\u001b[0m     \u001b[0mparalista\u001b[0m\u001b[0;34m[\u001b[0m\u001b[0;34m\"latitud\"\u001b[0m\u001b[0;34m]\u001b[0m \u001b[0;34m=\u001b[0m \u001b[0mgetFromDict\u001b[0m\u001b[0;34m(\u001b[0m\u001b[0mdic\u001b[0m\u001b[0;34m,\u001b[0m\u001b[0mm_latitud\u001b[0m\u001b[0;34m)\u001b[0m\u001b[0;34m\u001b[0m\u001b[0;34m\u001b[0m\u001b[0m\n\u001b[1;32m     12\u001b[0m     \u001b[0mparalista\u001b[0m\u001b[0;34m[\u001b[0m\u001b[0;34m\"longitud\"\u001b[0m\u001b[0;34m]\u001b[0m \u001b[0;34m=\u001b[0m \u001b[0mgetFromDict\u001b[0m\u001b[0;34m(\u001b[0m\u001b[0mdic\u001b[0m\u001b[0;34m,\u001b[0m\u001b[0mm_longitud\u001b[0m\u001b[0;34m)\u001b[0m\u001b[0;34m\u001b[0m\u001b[0;34m\u001b[0m\u001b[0m\n",
      "\u001b[0;32m<ipython-input-39-fe57973f54e9>\u001b[0m in \u001b[0;36mgetFromDict\u001b[0;34m(diccionario, mapa)\u001b[0m\n\u001b[1;32m      1\u001b[0m \u001b[0;32mdef\u001b[0m \u001b[0mgetFromDict\u001b[0m\u001b[0;34m(\u001b[0m\u001b[0mdiccionario\u001b[0m\u001b[0;34m,\u001b[0m\u001b[0mmapa\u001b[0m\u001b[0;34m)\u001b[0m\u001b[0;34m:\u001b[0m\u001b[0;34m\u001b[0m\u001b[0;34m\u001b[0m\u001b[0m\n\u001b[0;32m----> 2\u001b[0;31m     \u001b[0;32mreturn\u001b[0m \u001b[0mreduce\u001b[0m \u001b[0;34m(\u001b[0m\u001b[0moperator\u001b[0m\u001b[0;34m.\u001b[0m\u001b[0mgetitem\u001b[0m\u001b[0;34m,\u001b[0m\u001b[0mmapa\u001b[0m\u001b[0;34m,\u001b[0m\u001b[0mdiccionario\u001b[0m\u001b[0;34m)\u001b[0m\u001b[0;34m\u001b[0m\u001b[0;34m\u001b[0m\u001b[0m\n\u001b[0m",
      "\u001b[0;31mTypeError\u001b[0m: string indices must be integers"
     ]
    }
   ],
   "source": [
    "mapa_nombre = [\"venue\",\"name\"]\n",
    "m_latitud = [\"venue\",\"location\",\"lat\"]\n",
    "m_longitud = [\"venue\",\"location\",\"lng\"]\n",
    "m_category = [\"venue\", \"categories\"]\n",
    "    \n",
    "results = []\n",
    "\n",
    "for dic in madrid:            \n",
    "    paralista = {}\n",
    "    paralista[\"name\"] = getFromDict(dic,mapa_nombre)\n",
    "    paralista[\"latitud\"] = getFromDict(dic,m_latitud)\n",
    "    paralista[\"longitud\"] = getFromDict(dic,m_longitud)\n",
    "    paralista[\"category\"] = getFromDict(dic,m_category)"
   ]
  },
  {
   "cell_type": "markdown",
   "metadata": {},
   "source": [
    "### Creating dataframes"
   ]
  },
  {
   "cell_type": "code",
   "execution_count": 75,
   "metadata": {},
   "outputs": [],
   "source": [
    "mapa_nombre = [\"venue\",\"name\"]\n",
    "m_latitud = [\"venue\",\"location\",\"lat\"]\n",
    "m_longitud = [\"venue\",\"location\",\"lng\"]"
   ]
  },
  {
   "cell_type": "code",
   "execution_count": 76,
   "metadata": {},
   "outputs": [],
   "source": [
    "def getFromDict(diccionario,mapa):\n",
    "    return reduce (operator.getitem,mapa,diccionario)"
   ]
  },
  {
   "cell_type": "markdown",
   "metadata": {},
   "source": [
    "####  For school"
   ]
  },
  {
   "cell_type": "code",
   "execution_count": 77,
   "metadata": {},
   "outputs": [],
   "source": [
    "def create_dataframe (*args):\n",
    "    mapa_nombre = [\"venue\",\"name\"]\n",
    "    m_latitud = [\"venue\",\"location\",\"lat\"]\n",
    "    m_longitud = [\"venue\",\"location\",\"lng\"]\n",
    "    m_category = [\"venue\", \"categories\"]\n",
    "    \n",
    "    results = []\n",
    "\n",
    "    for i in args:\n",
    "        for dic in i:            \n",
    "            paralista = {}\n",
    "            paralista[\"name\"] = getFromDict(dic,mapa_nombre)\n",
    "            paralista[\"latitud\"] = getFromDict(dic,m_latitud)\n",
    "            paralista[\"longitud\"] = getFromDict(dic,m_longitud)\n",
    "            paralista[\"category\"] = getFromDict(dic,m_category)\n",
    "            results.append(paralista)\n",
    "    df = pd.DataFrame(results)\n",
    "\n",
    "    return df"
   ]
  },
  {
   "cell_type": "code",
   "execution_count": 78,
   "metadata": {},
   "outputs": [],
   "source": [
    "madrid = create_dataframe(*madrid)\n",
    "bilbao = create_dataframe(*bilbao)\n",
    "gijon = create_dataframe(*gijon)\n",
    "toledo = create_dataframe(*toledo)"
   ]
  },
  {
   "cell_type": "code",
   "execution_count": 46,
   "metadata": {},
   "outputs": [
    {
     "data": {
      "text/plain": [
       "0     [{'id': '52e81612bcbc57f1066b7a45', 'name': 'P...\n",
       "1     [{'id': '4bf58dd8d48988d1d3941735', 'name': 'V...\n",
       "2     [{'id': '4bf58dd8d48988d1d3941735', 'name': 'V...\n",
       "3     [{'id': '4bf58dd8d48988d1d3941735', 'name': 'V...\n",
       "4     [{'id': '4bf58dd8d48988d116941735', 'name': 'B...\n",
       "                            ...                        \n",
       "68    [{'id': '4bf58dd8d48988d12a951735', 'name': 'T...\n",
       "69    [{'id': '4bf58dd8d48988d12a951735', 'name': 'T...\n",
       "70    [{'id': '4bf58dd8d48988d12a951735', 'name': 'T...\n",
       "71    [{'id': '4bf58dd8d48988d1df941735', 'name': 'B...\n",
       "72    [{'id': '4bf58dd8d48988d129951735', 'name': 'T...\n",
       "Name: category, Length: 73, dtype: object"
      ]
     },
     "execution_count": 46,
     "metadata": {},
     "output_type": "execute_result"
    }
   ],
   "source": [
    "[{'id': '4bf58dd8d48988d1d3941735', 'name': 'Vegetarian / Vegan Restaurant', 'pluralName': 'Vegetarian / Vegan Restaurants', 'shortName': 'Vegetarian / Vegan', 'icon': {'prefix': 'https://ss3.4sqi.net/img/categories_v2/food/vegetarian_', 'suffix': '.png'}, 'primary': True}]\""
   ]
  },
  {
   "cell_type": "markdown",
   "metadata": {},
   "source": [
    "###  Saving dataframes"
   ]
  },
  {
   "cell_type": "code",
   "execution_count": 79,
   "metadata": {},
   "outputs": [],
   "source": [
    "\n",
    "madrid.to_csv(\"madrid.csv\", index = False)\n",
    "\n",
    "bilbao.to_csv(\"bilbao.csv\", index = False)\n",
    "\n",
    "gijon.to_csv(\"gijon.csv\", index = False)\n",
    "\n",
    "toledo.to_csv(\"toledo.csv\", index = False)\n",
    "\n"
   ]
  },
  {
   "cell_type": "code",
   "execution_count": null,
   "metadata": {},
   "outputs": [],
   "source": []
  }
 ],
 "metadata": {
  "kernelspec": {
   "display_name": "Python 3",
   "language": "python",
   "name": "python3"
  },
  "language_info": {
   "codemirror_mode": {
    "name": "ipython",
    "version": 3
   },
   "file_extension": ".py",
   "mimetype": "text/x-python",
   "name": "python",
   "nbconvert_exporter": "python",
   "pygments_lexer": "ipython3",
   "version": "3.8.5"
  },
  "toc": {
   "base_numbering": 1,
   "nav_menu": {},
   "number_sections": true,
   "sideBar": true,
   "skip_h1_title": false,
   "title_cell": "Table of Contents",
   "title_sidebar": "Contents",
   "toc_cell": false,
   "toc_position": {},
   "toc_section_display": true,
   "toc_window_display": false
  },
  "varInspector": {
   "cols": {
    "lenName": 16,
    "lenType": 16,
    "lenVar": 40
   },
   "kernels_config": {
    "python": {
     "delete_cmd_postfix": "",
     "delete_cmd_prefix": "del ",
     "library": "var_list.py",
     "varRefreshCmd": "print(var_dic_list())"
    },
    "r": {
     "delete_cmd_postfix": ") ",
     "delete_cmd_prefix": "rm(",
     "library": "var_list.r",
     "varRefreshCmd": "cat(var_dic_list()) "
    }
   },
   "position": {
    "height": "594px",
    "left": "1549px",
    "right": "20px",
    "top": "119px",
    "width": "350px"
   },
   "types_to_exclude": [
    "module",
    "function",
    "builtin_function_or_method",
    "instance",
    "_Feature"
   ],
   "window_display": false
  }
 },
 "nbformat": 4,
 "nbformat_minor": 2
}
