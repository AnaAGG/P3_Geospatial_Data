{
 "cells": [
  {
   "cell_type": "markdown",
   "id": "human-nepal",
   "metadata": {},
   "source": [
    "## Libraries"
   ]
  },
  {
   "cell_type": "code",
   "execution_count": 1,
   "id": "regional-husband",
   "metadata": {},
   "outputs": [],
   "source": [
    "import sys\n",
    "sys.path.append('../')"
   ]
  },
  {
   "cell_type": "code",
   "execution_count": 2,
   "id": "respective-mambo",
   "metadata": {},
   "outputs": [],
   "source": [
    "from pymongo import MongoClient\n",
    "import pandas as pd\n",
    "import geopandas as gdp\n",
    "import shapely\n",
    "import json\n",
    "from bson.json_util import dumps\n",
    "\n",
    "import src.GeospatialFunctions as gf"
   ]
  },
  {
   "cell_type": "markdown",
   "id": "coordinate-tomorrow",
   "metadata": {},
   "source": [
    "## Converting  Pandas Dataframe to a MongoDB Geopoint Object"
   ]
  },
  {
   "cell_type": "code",
   "execution_count": 3,
   "id": "acknowledged-perry",
   "metadata": {
    "scrolled": true
   },
   "outputs": [],
   "source": [
    "gdf_bilbao = gf.create_geoloc('../Data/API_Data/bilbao.csv')"
   ]
  },
  {
   "cell_type": "code",
   "execution_count": 4,
   "id": "extra-resort",
   "metadata": {},
   "outputs": [],
   "source": [
    "gdf_gijon = gf.create_geoloc(\"../Data/API_Data/gijon.csv\")"
   ]
  },
  {
   "cell_type": "code",
   "execution_count": 5,
   "id": "supported-coordination",
   "metadata": {},
   "outputs": [],
   "source": [
    "gdf_madrid = gf.create_geoloc('../Data/API_Data/madrid.csv')"
   ]
  },
  {
   "cell_type": "code",
   "execution_count": 6,
   "id": "married-buyer",
   "metadata": {},
   "outputs": [],
   "source": [
    "gdf_barcelona = gf.create_geoloc('../Data/API_Data/barcelona.csv')"
   ]
  },
  {
   "cell_type": "markdown",
   "id": "reduced-satellite",
   "metadata": {},
   "source": [
    "### Import to Mongo compass"
   ]
  },
  {
   "cell_type": "code",
   "execution_count": 7,
   "id": "sitting-warrant",
   "metadata": {},
   "outputs": [
    {
     "data": {
      "text/plain": [
       "<pymongo.results.InsertManyResult at 0x7fb1c6684d80>"
      ]
     },
     "execution_count": 7,
     "metadata": {},
     "output_type": "execute_result"
    }
   ],
   "source": [
    "client = MongoClient()\n",
    "db = client.geo\n",
    "collection_barcelona = db.barcelona\n",
    "collection_barcelona.create_index([(\"loc\", \"2dsphere\")])\n",
    "data_barcelona = gdf_barcelona.to_dict(orient='records')\n",
    "collection_barcelona.insert_many(data_barcelona)"
   ]
  },
  {
   "cell_type": "code",
   "execution_count": 8,
   "id": "selective-sullivan",
   "metadata": {},
   "outputs": [
    {
     "data": {
      "text/plain": [
       "<pymongo.results.InsertManyResult at 0x7fb15cbed640>"
      ]
     },
     "execution_count": 8,
     "metadata": {},
     "output_type": "execute_result"
    }
   ],
   "source": [
    "client = MongoClient()\n",
    "db = client.geo\n",
    "collection_madrid = db.madrid\n",
    "collection_madrid.create_index([(\"loc\", \"2dsphere\")])\n",
    "data_madrid = gdf_madrid.to_dict(orient='records')\n",
    "collection_madrid.insert_many(data_madrid)"
   ]
  },
  {
   "cell_type": "code",
   "execution_count": 9,
   "id": "liquid-empty",
   "metadata": {},
   "outputs": [
    {
     "data": {
      "text/plain": [
       "<pymongo.results.InsertManyResult at 0x7fb15cbe3d80>"
      ]
     },
     "execution_count": 9,
     "metadata": {},
     "output_type": "execute_result"
    }
   ],
   "source": [
    "client = MongoClient()\n",
    "db = client.geo\n",
    "collection_gijon = db.gijon\n",
    "collection_gijon.create_index([(\"loc\", \"2dsphere\")])\n",
    "data_gijon = gdf_gijon.to_dict(orient='records')\n",
    "collection_gijon.insert_many(data_gijon)"
   ]
  },
  {
   "cell_type": "code",
   "execution_count": 10,
   "id": "comparable-sewing",
   "metadata": {},
   "outputs": [
    {
     "data": {
      "text/plain": [
       "<pymongo.results.InsertManyResult at 0x7fb19d8b1680>"
      ]
     },
     "execution_count": 10,
     "metadata": {},
     "output_type": "execute_result"
    }
   ],
   "source": [
    "client = MongoClient()\n",
    "db = client.geo\n",
    "collection_bilbao = db.bilbao\n",
    "collection_bilbao.create_index([(\"loc\", \"2dsphere\")])\n",
    "data_bilbao = gdf_bilbao.to_dict(orient='records')\n",
    "collection_bilbao.insert_many(data_bilbao)"
   ]
  },
  {
   "cell_type": "markdown",
   "id": "reduced-version",
   "metadata": {},
   "source": [
    "## GeoQueries"
   ]
  },
  {
   "cell_type": "markdown",
   "id": "selective-dining",
   "metadata": {},
   "source": [
    "### Bilbao"
   ]
  },
  {
   "cell_type": "code",
   "execution_count": 11,
   "id": "sensitive-beijing",
   "metadata": {},
   "outputs": [
    {
     "data": {
      "text/plain": [
       "'Nice! we have found  32  results'"
      ]
     },
     "execution_count": 11,
     "metadata": {},
     "output_type": "execute_result"
    }
   ],
   "source": [
    "bilbao = gf.queries_close(collection_bilbao, -2.9253, 43.2627)\n",
    "gf.check_results(bilbao)"
   ]
  },
  {
   "cell_type": "code",
   "execution_count": 12,
   "id": "prompt-singing",
   "metadata": {},
   "outputs": [
    {
     "data": {
      "text/html": [
       "<div>\n",
       "<style scoped>\n",
       "    .dataframe tbody tr th:only-of-type {\n",
       "        vertical-align: middle;\n",
       "    }\n",
       "\n",
       "    .dataframe tbody tr th {\n",
       "        vertical-align: top;\n",
       "    }\n",
       "\n",
       "    .dataframe thead th {\n",
       "        text-align: right;\n",
       "    }\n",
       "</style>\n",
       "<table border=\"1\" class=\"dataframe\">\n",
       "  <thead>\n",
       "    <tr style=\"text-align: right;\">\n",
       "      <th></th>\n",
       "      <th>_id</th>\n",
       "      <th>name</th>\n",
       "      <th>lat</th>\n",
       "      <th>long</th>\n",
       "      <th>category</th>\n",
       "      <th>loc</th>\n",
       "      <th>distance</th>\n",
       "    </tr>\n",
       "  </thead>\n",
       "  <tbody>\n",
       "    <tr>\n",
       "      <th>0</th>\n",
       "      <td>{'$oid': '60219c6d430196413ffba343'}</td>\n",
       "      <td>La Camelia Vegan-Bar</td>\n",
       "      <td>43.261577</td>\n",
       "      <td>-2.925420</td>\n",
       "      <td>'Vegetarian / Vegan Restaurant'</td>\n",
       "      <td>{'type': 'Point', 'coordinates': [-2.92542, 43...</td>\n",
       "      <td>0.125249</td>\n",
       "    </tr>\n",
       "    <tr>\n",
       "      <th>1</th>\n",
       "      <td>{'$oid': '60219c6d430196413ffba351'}</td>\n",
       "      <td>NBA Fan Zone</td>\n",
       "      <td>43.261363</td>\n",
       "      <td>-2.923943</td>\n",
       "      <td>'Basketball Court'</td>\n",
       "      <td>{'type': 'Point', 'coordinates': [-2.923942690...</td>\n",
       "      <td>0.184876</td>\n",
       "    </tr>\n",
       "    <tr>\n",
       "      <th>2</th>\n",
       "      <td>{'$oid': '60219c6d430196413ffba352'}</td>\n",
       "      <td>Mundobasket Fan Zone</td>\n",
       "      <td>43.260412</td>\n",
       "      <td>-2.924411</td>\n",
       "      <td>'Basketball Court'</td>\n",
       "      <td>{'type': 'Point', 'coordinates': [-2.924410901...</td>\n",
       "      <td>0.264374</td>\n",
       "    </tr>\n",
       "    <tr>\n",
       "      <th>3</th>\n",
       "      <td>{'$oid': '60219c6d430196413ffba349'}</td>\n",
       "      <td>Ledesma N°5</td>\n",
       "      <td>43.262149</td>\n",
       "      <td>-2.928702</td>\n",
       "      <td>'Beer Bar'</td>\n",
       "      <td>{'type': 'Point', 'coordinates': [-2.928702135...</td>\n",
       "      <td>0.282210</td>\n",
       "    </tr>\n",
       "    <tr>\n",
       "      <th>4</th>\n",
       "      <td>{'$oid': '60219c6d430196413ffba358'}</td>\n",
       "      <td>Estacion FEVE La Concordia</td>\n",
       "      <td>43.260046</td>\n",
       "      <td>-2.925698</td>\n",
       "      <td>'Train Station'</td>\n",
       "      <td>{'type': 'Point', 'coordinates': [-2.925698014...</td>\n",
       "      <td>0.296819</td>\n",
       "    </tr>\n",
       "  </tbody>\n",
       "</table>\n",
       "</div>"
      ],
      "text/plain": [
       "                                    _id                        name  \\\n",
       "0  {'$oid': '60219c6d430196413ffba343'}        La Camelia Vegan-Bar   \n",
       "1  {'$oid': '60219c6d430196413ffba351'}                NBA Fan Zone   \n",
       "2  {'$oid': '60219c6d430196413ffba352'}        Mundobasket Fan Zone   \n",
       "3  {'$oid': '60219c6d430196413ffba349'}                 Ledesma N°5   \n",
       "4  {'$oid': '60219c6d430196413ffba358'}  Estacion FEVE La Concordia   \n",
       "\n",
       "         lat      long                         category  \\\n",
       "0  43.261577 -2.925420  'Vegetarian / Vegan Restaurant'   \n",
       "1  43.261363 -2.923943               'Basketball Court'   \n",
       "2  43.260412 -2.924411               'Basketball Court'   \n",
       "3  43.262149 -2.928702                       'Beer Bar'   \n",
       "4  43.260046 -2.925698                  'Train Station'   \n",
       "\n",
       "                                                 loc  distance  \n",
       "0  {'type': 'Point', 'coordinates': [-2.92542, 43...  0.125249  \n",
       "1  {'type': 'Point', 'coordinates': [-2.923942690...  0.184876  \n",
       "2  {'type': 'Point', 'coordinates': [-2.924410901...  0.264374  \n",
       "3  {'type': 'Point', 'coordinates': [-2.928702135...  0.282210  \n",
       "4  {'type': 'Point', 'coordinates': [-2.925698014...  0.296819  "
      ]
     },
     "execution_count": 12,
     "metadata": {},
     "output_type": "execute_result"
    }
   ],
   "source": [
    "df_bilbao = pd.DataFrame(bilbao)\n",
    "df_bilbao.head()"
   ]
  },
  {
   "cell_type": "markdown",
   "id": "moved-wonder",
   "metadata": {},
   "source": [
    "### Gijon"
   ]
  },
  {
   "cell_type": "code",
   "execution_count": 13,
   "id": "failing-bearing",
   "metadata": {},
   "outputs": [
    {
     "data": {
      "text/plain": [
       "'Nice! we have found  36  results'"
      ]
     },
     "execution_count": 13,
     "metadata": {},
     "output_type": "execute_result"
    }
   ],
   "source": [
    "gijon = gf.queries_close(collection_gijon, -5.7258, 43.5317)\n",
    "gf.check_results(gijon)"
   ]
  },
  {
   "cell_type": "code",
   "execution_count": 14,
   "id": "accessory-spread",
   "metadata": {},
   "outputs": [
    {
     "data": {
      "text/html": [
       "<div>\n",
       "<style scoped>\n",
       "    .dataframe tbody tr th:only-of-type {\n",
       "        vertical-align: middle;\n",
       "    }\n",
       "\n",
       "    .dataframe tbody tr th {\n",
       "        vertical-align: top;\n",
       "    }\n",
       "\n",
       "    .dataframe thead th {\n",
       "        text-align: right;\n",
       "    }\n",
       "</style>\n",
       "<table border=\"1\" class=\"dataframe\">\n",
       "  <thead>\n",
       "    <tr style=\"text-align: right;\">\n",
       "      <th></th>\n",
       "      <th>_id</th>\n",
       "      <th>name</th>\n",
       "      <th>lat</th>\n",
       "      <th>long</th>\n",
       "      <th>category</th>\n",
       "      <th>loc</th>\n",
       "      <th>distance</th>\n",
       "    </tr>\n",
       "  </thead>\n",
       "  <tbody>\n",
       "    <tr>\n",
       "      <th>0</th>\n",
       "      <td>{'$oid': '60219c6d430196413ffba338'}</td>\n",
       "      <td>Apeadero de Veriña</td>\n",
       "      <td>43.541792</td>\n",
       "      <td>-5.723240</td>\n",
       "      <td>'Train Station'</td>\n",
       "      <td>{'type': 'Point', 'coordinates': [-5.723239757...</td>\n",
       "      <td>1.140955</td>\n",
       "    </tr>\n",
       "    <tr>\n",
       "      <th>1</th>\n",
       "      <td>{'$oid': '60219c6d430196413ffba339'}</td>\n",
       "      <td>Apeadero de Monteana</td>\n",
       "      <td>43.520731</td>\n",
       "      <td>-5.746325</td>\n",
       "      <td>'Train Station'</td>\n",
       "      <td>{'type': 'Point', 'coordinates': [-5.746324620...</td>\n",
       "      <td>2.055712</td>\n",
       "    </tr>\n",
       "    <tr>\n",
       "      <th>2</th>\n",
       "      <td>{'$oid': '60219c6d430196413ffba33a'}</td>\n",
       "      <td>Estación Renfe de La Calzada</td>\n",
       "      <td>43.535304</td>\n",
       "      <td>-5.697795</td>\n",
       "      <td>'Train Station'</td>\n",
       "      <td>{'type': 'Point', 'coordinates': [-5.697795152...</td>\n",
       "      <td>2.292850</td>\n",
       "    </tr>\n",
       "    <tr>\n",
       "      <th>3</th>\n",
       "      <td>{'$oid': '60219c6d430196413ffba32d'}</td>\n",
       "      <td>Pabellón de deportes Perchera La Braña</td>\n",
       "      <td>43.530418</td>\n",
       "      <td>-5.680976</td>\n",
       "      <td>'Basketball Court'</td>\n",
       "      <td>{'type': 'Point', 'coordinates': [-5.680975771...</td>\n",
       "      <td>3.616382</td>\n",
       "    </tr>\n",
       "    <tr>\n",
       "      <th>4</th>\n",
       "      <td>{'$oid': '60219c6d430196413ffba33b'}</td>\n",
       "      <td>Estación de Gijón</td>\n",
       "      <td>43.537461</td>\n",
       "      <td>-5.675345</td>\n",
       "      <td>'Train Station'</td>\n",
       "      <td>{'type': 'Point', 'coordinates': [-5.675345041...</td>\n",
       "      <td>4.117393</td>\n",
       "    </tr>\n",
       "  </tbody>\n",
       "</table>\n",
       "</div>"
      ],
      "text/plain": [
       "                                    _id  \\\n",
       "0  {'$oid': '60219c6d430196413ffba338'}   \n",
       "1  {'$oid': '60219c6d430196413ffba339'}   \n",
       "2  {'$oid': '60219c6d430196413ffba33a'}   \n",
       "3  {'$oid': '60219c6d430196413ffba32d'}   \n",
       "4  {'$oid': '60219c6d430196413ffba33b'}   \n",
       "\n",
       "                                     name        lat      long  \\\n",
       "0                      Apeadero de Veriña  43.541792 -5.723240   \n",
       "1                    Apeadero de Monteana  43.520731 -5.746325   \n",
       "2            Estación Renfe de La Calzada  43.535304 -5.697795   \n",
       "3  Pabellón de deportes Perchera La Braña  43.530418 -5.680976   \n",
       "4                       Estación de Gijón  43.537461 -5.675345   \n",
       "\n",
       "             category                                                loc  \\\n",
       "0     'Train Station'  {'type': 'Point', 'coordinates': [-5.723239757...   \n",
       "1     'Train Station'  {'type': 'Point', 'coordinates': [-5.746324620...   \n",
       "2     'Train Station'  {'type': 'Point', 'coordinates': [-5.697795152...   \n",
       "3  'Basketball Court'  {'type': 'Point', 'coordinates': [-5.680975771...   \n",
       "4     'Train Station'  {'type': 'Point', 'coordinates': [-5.675345041...   \n",
       "\n",
       "   distance  \n",
       "0  1.140955  \n",
       "1  2.055712  \n",
       "2  2.292850  \n",
       "3  3.616382  \n",
       "4  4.117393  "
      ]
     },
     "execution_count": 14,
     "metadata": {},
     "output_type": "execute_result"
    }
   ],
   "source": [
    "df_gijon = pd.DataFrame(gijon)\n",
    "df_gijon.head()"
   ]
  },
  {
   "cell_type": "markdown",
   "id": "studied-transition",
   "metadata": {},
   "source": [
    "###  Madrid"
   ]
  },
  {
   "cell_type": "code",
   "execution_count": 15,
   "id": "mature-praise",
   "metadata": {},
   "outputs": [
    {
     "data": {
      "text/plain": [
       "'Nice! we have found  103  results'"
      ]
     },
     "execution_count": 15,
     "metadata": {},
     "output_type": "execute_result"
    }
   ],
   "source": [
    "madrid = gf.queries_close(collection_madrid, -3.6793, 40.42955)\n",
    "gf.check_results(madrid)"
   ]
  },
  {
   "cell_type": "code",
   "execution_count": 16,
   "id": "taken-paintball",
   "metadata": {},
   "outputs": [
    {
     "data": {
      "text/html": [
       "<div>\n",
       "<style scoped>\n",
       "    .dataframe tbody tr th:only-of-type {\n",
       "        vertical-align: middle;\n",
       "    }\n",
       "\n",
       "    .dataframe tbody tr th {\n",
       "        vertical-align: top;\n",
       "    }\n",
       "\n",
       "    .dataframe thead th {\n",
       "        text-align: right;\n",
       "    }\n",
       "</style>\n",
       "<table border=\"1\" class=\"dataframe\">\n",
       "  <thead>\n",
       "    <tr style=\"text-align: right;\">\n",
       "      <th></th>\n",
       "      <th>_id</th>\n",
       "      <th>name</th>\n",
       "      <th>lat</th>\n",
       "      <th>long</th>\n",
       "      <th>category</th>\n",
       "      <th>loc</th>\n",
       "      <th>distance</th>\n",
       "    </tr>\n",
       "  </thead>\n",
       "  <tbody>\n",
       "    <tr>\n",
       "      <th>0</th>\n",
       "      <td>{'$oid': '60219c6c430196413ffba2b9'}</td>\n",
       "      <td>Planet Organic Food&amp;Life</td>\n",
       "      <td>40.428808</td>\n",
       "      <td>-3.681333</td>\n",
       "      <td>'Vegetarian / Vegan Restaurant'</td>\n",
       "      <td>{'type': 'Point', 'coordinates': [-3.681333, 4...</td>\n",
       "      <td>0.190836</td>\n",
       "    </tr>\n",
       "    <tr>\n",
       "      <th>1</th>\n",
       "      <td>{'$oid': '60219c6c430196413ffba2c3'}</td>\n",
       "      <td>The Shaker</td>\n",
       "      <td>40.429080</td>\n",
       "      <td>-3.673566</td>\n",
       "      <td>'Beer Bar'</td>\n",
       "      <td>{'type': 'Point', 'coordinates': [-3.673566, 4...</td>\n",
       "      <td>0.488145</td>\n",
       "    </tr>\n",
       "    <tr>\n",
       "      <th>2</th>\n",
       "      <td>{'$oid': '60219c6c430196413ffba2d0'}</td>\n",
       "      <td>Pasillo de Diego de León</td>\n",
       "      <td>40.432397</td>\n",
       "      <td>-3.674888</td>\n",
       "      <td>'Platform'</td>\n",
       "      <td>{'type': 'Point', 'coordinates': [-3.674888329...</td>\n",
       "      <td>0.489569</td>\n",
       "    </tr>\n",
       "    <tr>\n",
       "      <th>3</th>\n",
       "      <td>{'$oid': '60219c6c430196413ffba2be'}</td>\n",
       "      <td>Fit Food Velázquez 39</td>\n",
       "      <td>40.426034</td>\n",
       "      <td>-3.684132</td>\n",
       "      <td>'Vegetarian / Vegan Restaurant'</td>\n",
       "      <td>{'type': 'Point', 'coordinates': [-3.684132099...</td>\n",
       "      <td>0.565812</td>\n",
       "    </tr>\n",
       "    <tr>\n",
       "      <th>4</th>\n",
       "      <td>{'$oid': '60219c6c430196413ffba2ba'}</td>\n",
       "      <td>Swagat Indian Restaurant</td>\n",
       "      <td>40.424513</td>\n",
       "      <td>-3.683114</td>\n",
       "      <td>'Vegetarian / Vegan Restaurant'</td>\n",
       "      <td>{'type': 'Point', 'coordinates': [-3.683114294...</td>\n",
       "      <td>0.646506</td>\n",
       "    </tr>\n",
       "  </tbody>\n",
       "</table>\n",
       "</div>"
      ],
      "text/plain": [
       "                                    _id                      name        lat  \\\n",
       "0  {'$oid': '60219c6c430196413ffba2b9'}  Planet Organic Food&Life  40.428808   \n",
       "1  {'$oid': '60219c6c430196413ffba2c3'}                The Shaker  40.429080   \n",
       "2  {'$oid': '60219c6c430196413ffba2d0'}  Pasillo de Diego de León  40.432397   \n",
       "3  {'$oid': '60219c6c430196413ffba2be'}     Fit Food Velázquez 39  40.426034   \n",
       "4  {'$oid': '60219c6c430196413ffba2ba'}  Swagat Indian Restaurant  40.424513   \n",
       "\n",
       "       long                         category  \\\n",
       "0 -3.681333  'Vegetarian / Vegan Restaurant'   \n",
       "1 -3.673566                       'Beer Bar'   \n",
       "2 -3.674888                       'Platform'   \n",
       "3 -3.684132  'Vegetarian / Vegan Restaurant'   \n",
       "4 -3.683114  'Vegetarian / Vegan Restaurant'   \n",
       "\n",
       "                                                 loc  distance  \n",
       "0  {'type': 'Point', 'coordinates': [-3.681333, 4...  0.190836  \n",
       "1  {'type': 'Point', 'coordinates': [-3.673566, 4...  0.488145  \n",
       "2  {'type': 'Point', 'coordinates': [-3.674888329...  0.489569  \n",
       "3  {'type': 'Point', 'coordinates': [-3.684132099...  0.565812  \n",
       "4  {'type': 'Point', 'coordinates': [-3.683114294...  0.646506  "
      ]
     },
     "execution_count": 16,
     "metadata": {},
     "output_type": "execute_result"
    }
   ],
   "source": [
    "df_madrid = pd.DataFrame(madrid)\n",
    "df_madrid.head()"
   ]
  },
  {
   "cell_type": "markdown",
   "id": "agricultural-adams",
   "metadata": {},
   "source": [
    "###  Barcelona"
   ]
  },
  {
   "cell_type": "code",
   "execution_count": 17,
   "id": "satisfied-label",
   "metadata": {},
   "outputs": [
    {
     "data": {
      "text/plain": [
       "'Nice! we have found  97  results'"
      ]
     },
     "execution_count": 17,
     "metadata": {},
     "output_type": "execute_result"
    }
   ],
   "source": [
    "barcelona = gf.queries_close(collection_barcelona, 2.15379, 41.40359)\n",
    "gf.check_results(barcelona)"
   ]
  },
  {
   "cell_type": "code",
   "execution_count": 18,
   "id": "north-minnesota",
   "metadata": {},
   "outputs": [
    {
     "data": {
      "text/html": [
       "<div>\n",
       "<style scoped>\n",
       "    .dataframe tbody tr th:only-of-type {\n",
       "        vertical-align: middle;\n",
       "    }\n",
       "\n",
       "    .dataframe tbody tr th {\n",
       "        vertical-align: top;\n",
       "    }\n",
       "\n",
       "    .dataframe thead th {\n",
       "        text-align: right;\n",
       "    }\n",
       "</style>\n",
       "<table border=\"1\" class=\"dataframe\">\n",
       "  <thead>\n",
       "    <tr style=\"text-align: right;\">\n",
       "      <th></th>\n",
       "      <th>_id</th>\n",
       "      <th>name</th>\n",
       "      <th>lat</th>\n",
       "      <th>long</th>\n",
       "      <th>category</th>\n",
       "      <th>loc</th>\n",
       "      <th>distance</th>\n",
       "    </tr>\n",
       "  </thead>\n",
       "  <tbody>\n",
       "    <tr>\n",
       "      <th>0</th>\n",
       "      <td>{'$oid': '60219c6b430196413ffba25b'}</td>\n",
       "      <td>Woki Organic Market - Gracia</td>\n",
       "      <td>41.403139</td>\n",
       "      <td>2.154027</td>\n",
       "      <td>'Vegetarian / Vegan Restaurant'</td>\n",
       "      <td>{'type': 'Point', 'coordinates': [2.1540274292...</td>\n",
       "      <td>0.053962</td>\n",
       "    </tr>\n",
       "    <tr>\n",
       "      <th>1</th>\n",
       "      <td>{'$oid': '60219c6b430196413ffba270'}</td>\n",
       "      <td>Chivuo's</td>\n",
       "      <td>41.404940</td>\n",
       "      <td>2.153964</td>\n",
       "      <td>'Sandwich Place'</td>\n",
       "      <td>{'type': 'Point', 'coordinates': [2.1539640426...</td>\n",
       "      <td>0.150774</td>\n",
       "    </tr>\n",
       "    <tr>\n",
       "      <th>2</th>\n",
       "      <td>{'$oid': '60219c6b430196413ffba258'}</td>\n",
       "      <td>Cafè Camèlia</td>\n",
       "      <td>41.405096</td>\n",
       "      <td>2.155479</td>\n",
       "      <td>'Vegetarian / Vegan Restaurant'</td>\n",
       "      <td>{'type': 'Point', 'coordinates': [2.1554787900...</td>\n",
       "      <td>0.218780</td>\n",
       "    </tr>\n",
       "    <tr>\n",
       "      <th>3</th>\n",
       "      <td>{'$oid': '60219c6b430196413ffba257'}</td>\n",
       "      <td>Vegetart</td>\n",
       "      <td>41.402839</td>\n",
       "      <td>2.156432</td>\n",
       "      <td>'Vegetarian / Vegan Restaurant'</td>\n",
       "      <td>{'type': 'Point', 'coordinates': [2.1564316749...</td>\n",
       "      <td>0.235611</td>\n",
       "    </tr>\n",
       "    <tr>\n",
       "      <th>4</th>\n",
       "      <td>{'$oid': '60219c6b430196413ffba278'}</td>\n",
       "      <td>Sol Soler</td>\n",
       "      <td>41.401615</td>\n",
       "      <td>2.156507</td>\n",
       "      <td>'Tapas Restaurant'</td>\n",
       "      <td>{'type': 'Point', 'coordinates': [2.1565065303...</td>\n",
       "      <td>0.315523</td>\n",
       "    </tr>\n",
       "  </tbody>\n",
       "</table>\n",
       "</div>"
      ],
      "text/plain": [
       "                                    _id                          name  \\\n",
       "0  {'$oid': '60219c6b430196413ffba25b'}  Woki Organic Market - Gracia   \n",
       "1  {'$oid': '60219c6b430196413ffba270'}                      Chivuo's   \n",
       "2  {'$oid': '60219c6b430196413ffba258'}                  Cafè Camèlia   \n",
       "3  {'$oid': '60219c6b430196413ffba257'}                      Vegetart   \n",
       "4  {'$oid': '60219c6b430196413ffba278'}                     Sol Soler   \n",
       "\n",
       "         lat      long                         category  \\\n",
       "0  41.403139  2.154027  'Vegetarian / Vegan Restaurant'   \n",
       "1  41.404940  2.153964                 'Sandwich Place'   \n",
       "2  41.405096  2.155479  'Vegetarian / Vegan Restaurant'   \n",
       "3  41.402839  2.156432  'Vegetarian / Vegan Restaurant'   \n",
       "4  41.401615  2.156507               'Tapas Restaurant'   \n",
       "\n",
       "                                                 loc  distance  \n",
       "0  {'type': 'Point', 'coordinates': [2.1540274292...  0.053962  \n",
       "1  {'type': 'Point', 'coordinates': [2.1539640426...  0.150774  \n",
       "2  {'type': 'Point', 'coordinates': [2.1554787900...  0.218780  \n",
       "3  {'type': 'Point', 'coordinates': [2.1564316749...  0.235611  \n",
       "4  {'type': 'Point', 'coordinates': [2.1565065303...  0.315523  "
      ]
     },
     "execution_count": 18,
     "metadata": {},
     "output_type": "execute_result"
    }
   ],
   "source": [
    "df_barcelona = pd.DataFrame(barcelona)\n",
    "df_barcelona.head()"
   ]
  },
  {
   "cell_type": "markdown",
   "id": "disciplinary-replica",
   "metadata": {},
   "source": [
    "## Save the geodataframes "
   ]
  },
  {
   "cell_type": "code",
   "execution_count": null,
   "id": "animated-elevation",
   "metadata": {},
   "outputs": [],
   "source": [
    "df_barcelona.to_csv(\"gdf_barcelona.csv\", index = False)"
   ]
  },
  {
   "cell_type": "code",
   "execution_count": null,
   "id": "twelve-longitude",
   "metadata": {},
   "outputs": [],
   "source": [
    "df_madrid.to_csv(\"gdf_madrid.csv\", index = False)"
   ]
  },
  {
   "cell_type": "code",
   "execution_count": null,
   "id": "invisible-express",
   "metadata": {},
   "outputs": [],
   "source": [
    "df_gijon.to_csv(\"gdf_gijon.csv\", index = False)"
   ]
  },
  {
   "cell_type": "code",
   "execution_count": null,
   "id": "desperate-asthma",
   "metadata": {},
   "outputs": [],
   "source": [
    "df_bilbao.to_csv(\"gdf_bilbao.csv\", index = False)"
   ]
  },
  {
   "cell_type": "code",
   "execution_count": null,
   "id": "expired-attitude",
   "metadata": {},
   "outputs": [],
   "source": []
  }
 ],
 "metadata": {
  "kernelspec": {
   "display_name": "Python 3",
   "language": "python",
   "name": "python3"
  },
  "language_info": {
   "codemirror_mode": {
    "name": "ipython",
    "version": 3
   },
   "file_extension": ".py",
   "mimetype": "text/x-python",
   "name": "python",
   "nbconvert_exporter": "python",
   "pygments_lexer": "ipython3",
   "version": "3.8.5"
  },
  "toc": {
   "base_numbering": 1,
   "nav_menu": {},
   "number_sections": true,
   "sideBar": true,
   "skip_h1_title": false,
   "title_cell": "Table of Contents",
   "title_sidebar": "Contents",
   "toc_cell": false,
   "toc_position": {},
   "toc_section_display": true,
   "toc_window_display": false
  },
  "varInspector": {
   "cols": {
    "lenName": 16,
    "lenType": 16,
    "lenVar": 40
   },
   "kernels_config": {
    "python": {
     "delete_cmd_postfix": "",
     "delete_cmd_prefix": "del ",
     "library": "var_list.py",
     "varRefreshCmd": "print(var_dic_list())"
    },
    "r": {
     "delete_cmd_postfix": ") ",
     "delete_cmd_prefix": "rm(",
     "library": "var_list.r",
     "varRefreshCmd": "cat(var_dic_list()) "
    }
   },
   "types_to_exclude": [
    "module",
    "function",
    "builtin_function_or_method",
    "instance",
    "_Feature"
   ],
   "window_display": false
  }
 },
 "nbformat": 4,
 "nbformat_minor": 5
}
