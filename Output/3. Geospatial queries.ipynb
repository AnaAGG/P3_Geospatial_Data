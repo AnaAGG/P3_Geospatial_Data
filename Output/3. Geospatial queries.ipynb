{
 "cells": [
  {
   "cell_type": "markdown",
   "id": "human-nepal",
   "metadata": {},
   "source": [
    "## Libraries"
   ]
  },
  {
   "cell_type": "code",
   "execution_count": 1,
   "id": "regional-husband",
   "metadata": {},
   "outputs": [],
   "source": [
    "import sys\n",
    "sys.path.append('../')"
   ]
  },
  {
   "cell_type": "code",
   "execution_count": 2,
   "id": "respective-mambo",
   "metadata": {},
   "outputs": [],
   "source": [
    "from pymongo import MongoClient\n",
    "import pandas as pd\n",
    "import geopandas as gdp\n",
    "import shapely\n",
    "import json\n",
    "from bson.json_util import dumps\n",
    "\n",
    "import src.GeospatialFunctions as gf"
   ]
  },
  {
   "cell_type": "markdown",
   "id": "coordinate-tomorrow",
   "metadata": {},
   "source": [
    "## Converting  Pandas Dataframe to a MongoDB Geopoint Object"
   ]
  },
  {
   "cell_type": "code",
   "execution_count": 3,
   "id": "acknowledged-perry",
   "metadata": {
    "scrolled": true
   },
   "outputs": [],
   "source": [
    "gdf_bilbao = gf.create_geoloc('../Data/API_Data/bilbao.csv')"
   ]
  },
  {
   "cell_type": "code",
   "execution_count": 4,
   "id": "extra-resort",
   "metadata": {},
   "outputs": [],
   "source": [
    "gdf_gijon = gf.create_geoloc(\"../Data/API_Data/gijon.csv\")"
   ]
  },
  {
   "cell_type": "code",
   "execution_count": 5,
   "id": "supported-coordination",
   "metadata": {},
   "outputs": [],
   "source": [
    "gdf_madrid = gf.create_geoloc('../Data/API_Data/madrid.csv')"
   ]
  },
  {
   "cell_type": "code",
   "execution_count": 6,
   "id": "married-buyer",
   "metadata": {},
   "outputs": [],
   "source": [
    "gdf_barcelona = gf.create_geoloc('../Data/API_Data/barcelona.csv')"
   ]
  },
  {
   "cell_type": "markdown",
   "id": "premium-skirt",
   "metadata": {},
   "source": [
    "### Import to Mongo compass"
   ]
  },
  {
   "cell_type": "code",
   "execution_count": 15,
   "id": "nasty-regression",
   "metadata": {},
   "outputs": [
    {
     "data": {
      "text/plain": [
       "'Collection created successfully'"
      ]
     },
     "execution_count": 15,
     "metadata": {},
     "output_type": "execute_result"
    }
   ],
   "source": [
    "gf.connection(gdf_madrid, 'madrid')\n",
    "gf.connection(gdf_barcelona, 'barcelona')\n",
    "gf.connection(gdf_gijon, 'gijon')\n",
    "gf.connection(gdf_bilbao, 'bilbao')"
   ]
  },
  {
   "cell_type": "markdown",
   "id": "reduced-version",
   "metadata": {},
   "source": [
    "## GeoQueries"
   ]
  },
  {
   "cell_type": "markdown",
   "id": "selective-dining",
   "metadata": {},
   "source": [
    "### Bilbao"
   ]
  },
  {
   "cell_type": "code",
   "execution_count": null,
   "id": "sensitive-beijing",
   "metadata": {},
   "outputs": [],
   "source": [
    "bilbao = gf.queries_close(collection_bilbao, -2.9253, 43.2627)\n",
    "gf.check_results(bilbao)"
   ]
  },
  {
   "cell_type": "code",
   "execution_count": null,
   "id": "prompt-singing",
   "metadata": {},
   "outputs": [],
   "source": [
    "df_bilbao = pd.DataFrame(bilbao)\n",
    "df_bilbao.head()"
   ]
  },
  {
   "cell_type": "markdown",
   "id": "moved-wonder",
   "metadata": {},
   "source": [
    "### Gijon"
   ]
  },
  {
   "cell_type": "code",
   "execution_count": null,
   "id": "failing-bearing",
   "metadata": {},
   "outputs": [],
   "source": [
    "gijon = gf.queries_close(collection_gijon, -5.7258, 43.5317)\n",
    "gf.check_results(gijon)"
   ]
  },
  {
   "cell_type": "code",
   "execution_count": null,
   "id": "accessory-spread",
   "metadata": {},
   "outputs": [],
   "source": [
    "df_gijon = pd.DataFrame(gijon)\n",
    "df_gijon.head()"
   ]
  },
  {
   "cell_type": "markdown",
   "id": "studied-transition",
   "metadata": {},
   "source": [
    "###  Madrid"
   ]
  },
  {
   "cell_type": "code",
   "execution_count": null,
   "id": "mature-praise",
   "metadata": {},
   "outputs": [],
   "source": [
    "madrid = gf.queries_close(collection_madrid, -3.6793, 40.42955)\n",
    "gf.check_results(madrid)"
   ]
  },
  {
   "cell_type": "code",
   "execution_count": null,
   "id": "taken-paintball",
   "metadata": {},
   "outputs": [],
   "source": [
    "df_madrid = pd.DataFrame(madrid)\n",
    "df_madrid.head()"
   ]
  },
  {
   "cell_type": "markdown",
   "id": "agricultural-adams",
   "metadata": {},
   "source": [
    "###  Barcelona"
   ]
  },
  {
   "cell_type": "code",
   "execution_count": null,
   "id": "satisfied-label",
   "metadata": {},
   "outputs": [],
   "source": [
    "barcelona = gf.queries_close(collection_barcelona, 2.15379, 41.40359)\n",
    "gf.check_results(barcelona)"
   ]
  },
  {
   "cell_type": "code",
   "execution_count": null,
   "id": "north-minnesota",
   "metadata": {},
   "outputs": [],
   "source": [
    "df_barcelona = pd.DataFrame(barcelona)\n",
    "df_barcelona.head()"
   ]
  },
  {
   "cell_type": "markdown",
   "id": "disciplinary-replica",
   "metadata": {},
   "source": [
    "## Save the geodataframes "
   ]
  },
  {
   "cell_type": "markdown",
   "id": "understood-mouth",
   "metadata": {},
   "source": [
    "Revisando las dataframes se puede ver como en el caso de bilbao no tenemos ninguna guarderia cerca de la localización por lo que la eliminamos del proceso de búsqueda. \n",
    "\n",
    "Por lo tanto, nos quedan dos posibles localizaciones donde podría ir nuestra empresa, MADRID vs BARCELONA.\n",
    "\n",
    "Para poder evaluar en más detalle las localidades guardo los geodataframes con las distancias y pasaré a analizarlas en un jupyter aparte."
   ]
  },
  {
   "cell_type": "code",
   "execution_count": null,
   "id": "animated-elevation",
   "metadata": {},
   "outputs": [],
   "source": [
    "df_barcelona.to_csv(\"gdf_barcelona.csv\", index = False)"
   ]
  },
  {
   "cell_type": "code",
   "execution_count": null,
   "id": "twelve-longitude",
   "metadata": {},
   "outputs": [],
   "source": [
    "df_madrid.to_csv(\"gdf_madrid.csv\", index = False)"
   ]
  },
  {
   "cell_type": "code",
   "execution_count": null,
   "id": "invisible-express",
   "metadata": {},
   "outputs": [],
   "source": [
    "df_gijon.to_csv(\"gdf_gijon.csv\", index = False)"
   ]
  },
  {
   "cell_type": "code",
   "execution_count": null,
   "id": "desperate-asthma",
   "metadata": {},
   "outputs": [],
   "source": [
    "df_bilbao.to_csv(\"gdf_bilbao.csv\", index = False)"
   ]
  },
  {
   "cell_type": "code",
   "execution_count": null,
   "id": "expired-attitude",
   "metadata": {},
   "outputs": [],
   "source": []
  }
 ],
 "metadata": {
  "kernelspec": {
   "display_name": "Python 3",
   "language": "python",
   "name": "python3"
  },
  "language_info": {
   "codemirror_mode": {
    "name": "ipython",
    "version": 3
   },
   "file_extension": ".py",
   "mimetype": "text/x-python",
   "name": "python",
   "nbconvert_exporter": "python",
   "pygments_lexer": "ipython3",
   "version": "3.8.5"
  },
  "toc": {
   "base_numbering": 1,
   "nav_menu": {},
   "number_sections": true,
   "sideBar": true,
   "skip_h1_title": false,
   "title_cell": "Table of Contents",
   "title_sidebar": "Contents",
   "toc_cell": false,
   "toc_position": {},
   "toc_section_display": true,
   "toc_window_display": false
  },
  "varInspector": {
   "cols": {
    "lenName": 16,
    "lenType": 16,
    "lenVar": 40
   },
   "kernels_config": {
    "python": {
     "delete_cmd_postfix": "",
     "delete_cmd_prefix": "del ",
     "library": "var_list.py",
     "varRefreshCmd": "print(var_dic_list())"
    },
    "r": {
     "delete_cmd_postfix": ") ",
     "delete_cmd_prefix": "rm(",
     "library": "var_list.r",
     "varRefreshCmd": "cat(var_dic_list()) "
    }
   },
   "types_to_exclude": [
    "module",
    "function",
    "builtin_function_or_method",
    "instance",
    "_Feature"
   ],
   "window_display": false
  }
 },
 "nbformat": 4,
 "nbformat_minor": 5
}
