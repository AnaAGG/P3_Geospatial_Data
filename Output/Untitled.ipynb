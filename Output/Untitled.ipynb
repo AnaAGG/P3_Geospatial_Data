{
 "cells": [
  {
   "cell_type": "code",
   "execution_count": null,
   "id": "english-drink",
   "metadata": {},
   "outputs": [],
   "source": [
    "def datos_API (*args):\n",
    "    '''\n",
    "    descripcion de lo que hace la función aquí\n",
    "    '''  \n",
    "    d_madrid = {}\n",
    "    d_bilbao = {}\n",
    "    d_gijon = {}\n",
    "    d_toledo= {}\n",
    "    \n",
    "    for city in coordinates:\n",
    "        if city == \"madrid\":\n",
    "            for i in args: \n",
    "                parametros = {\"client_id\" : token1,\n",
    "                          \"client_secret\" : token2,\n",
    "                          \"v\": \"20180323\",\n",
    "                          \"ll\": f\"{coordinates[city][1]},{coordinates[city][0]}\", ## esto lo puedo hacer con kwargs\n",
    "                          \"query\":i,\n",
    "                          \"limit\": 100}  \n",
    "\n",
    "            resp_m = requests.get(url= url_query, params=parametros)\n",
    "            datam = json.loads(resp_m.text)\n",
    "            d_madrid[i] = datam\n",
    "        \n",
    "                \n",
    "        elif city == \"bilbao\":\n",
    "            for i in args: \n",
    "                parametros = {\"client_id\" : token1,\n",
    "                          \"client_secret\" : token2,\n",
    "                          \"v\": \"20180323\",\n",
    "                          \"ll\": f\"{coordinates[city][1]},{coordinates[city][0]}\", ## esto lo puedo hacer con kwargs\n",
    "                          \"query\":i,\n",
    "                          \"limit\": 100}  \n",
    "\n",
    "            resp_b = requests.get(url= url_query, params=parametros)\n",
    "            datab = json.loads(resp_b.text)\n",
    "            d_bilbao[i] = datab\n",
    "                \n",
    "        \n",
    "        elif city == \"gijon\":\n",
    "            for i in args: \n",
    "                parametros = {\"client_id\" : token1,\n",
    "                          \"client_secret\" : token2,\n",
    "                          \"v\": \"20180323\",\n",
    "                          \"ll\": f\"{coordinates[city][1]},{coordinates[city][0]}\", ## esto lo puedo hacer con kwargs\n",
    "                          \"query\":i,\n",
    "                          \"limit\": 100}  \n",
    "\n",
    "            resp_g = requests.get(url= url_query, params=parametros)\n",
    "            datag = json.loads(resp_g.text)\n",
    "            d_gijon[i] = datag\n",
    "                \n",
    "        \n",
    "        else:\n",
    "            for i in args: \n",
    "                parametros = {\"client_id\" : token1,\n",
    "                          \"client_secret\" : token2,\n",
    "                          \"v\": \"20180323\",\n",
    "                          \"ll\": f\"{coordinates[city][1]},{coordinates[city][0]}\", ## esto lo puedo hacer con kwargs\n",
    "                          \"query\":i,\n",
    "                          \"limit\": 100}  \n",
    "\n",
    "            resp_t = requests.get(url= url_query, params=parametros)\n",
    "            datat = json.loads(resp_t.text)\n",
    "            d_toledo [i] = datat\n",
    "                \n",
    "                \n",
    "                \n",
    "                \n",
    "    return d_madrid, d_bilbao, d_gijon, d_toledo"
   ]
  },
  {
   "cell_type": "code",
   "execution_count": 1,
   "id": "furnished-cosmetic",
   "metadata": {},
   "outputs": [],
   "source": [
    "import requests \n",
    "import json\n",
    "from dotenv import load_dotenv\n",
    "import os\n",
    "import pandas as pd\n",
    "\n",
    "from functools import reduce\n",
    "import operator\n",
    "import geopandas as gdp\n",
    "import shapely\n",
    "\n",
    "\n",
    "from pymongo import MongoClient"
   ]
  },
  {
   "cell_type": "code",
   "execution_count": 6,
   "id": "pursuant-telescope",
   "metadata": {},
   "outputs": [],
   "source": [
    "queries = [\"Preschool\", \"Vegan Restaurant\"]"
   ]
  },
  {
   "cell_type": "code",
   "execution_count": 1,
   "id": "heard-ideal",
   "metadata": {},
   "outputs": [
    {
     "name": "stdout",
     "output_type": "stream",
     "text": [
      "1\n"
     ]
    }
   ],
   "source": [
    "gender_ = {'Male': 0, 'Female': 1}\n",
    "\n",
    "def number_wordy(row, **dic):\n",
    "    for key, value in dic.items() :\n",
    "        if row == str(key) :\n",
    "            return value\n",
    "print(number_wordy('Female', **gender_ ))"
   ]
  },
  {
   "cell_type": "code",
   "execution_count": 70,
   "id": "first-trance",
   "metadata": {},
   "outputs": [],
   "source": [
    "def datos_madrid (*args, **coordinates):\n",
    "    '''\n",
    "    descripcion de lo que hace la función aquí\n",
    "    '''  \n",
    "    d_madrid = {}\n",
    "   \n",
    "    \n",
    "   \n",
    "    for i in args: \n",
    "        parametros = {\"v\": \"20180323\",\n",
    "                          \"ll\": \"lon,lat\", ## esto lo puedo hacer con kwargs\n",
    "                          \"query\":i,\n",
    "                          \"limit\": 1}  \n",
    "\n",
    "    resp_m = requests.get(url= url_query, params=parametros)\n",
    "    datam = json.loads(resp_m.text)\n",
    "    d_madrid[i].append(datam)\n",
    "                \n",
    "        \n",
    "                      \n",
    "                \n",
    "    return d_madrid"
   ]
  },
  {
   "cell_type": "code",
   "execution_count": 73,
   "id": "interested-irrigation",
   "metadata": {},
   "outputs": [],
   "source": [
    "a = {'madrid': [-3.6793, 40.42955]}"
   ]
  },
  {
   "cell_type": "code",
   "execution_count": 74,
   "id": "compressed-granny",
   "metadata": {},
   "outputs": [
    {
     "ename": "KeyError",
     "evalue": "'toledo'",
     "output_type": "error",
     "traceback": [
      "\u001b[0;31m---------------------------------------------------------------------------\u001b[0m",
      "\u001b[0;31mKeyError\u001b[0m                                  Traceback (most recent call last)",
      "\u001b[0;32m<ipython-input-74-c3f9dd81d675>\u001b[0m in \u001b[0;36m<module>\u001b[0;34m\u001b[0m\n\u001b[0;32m----> 1\u001b[0;31m \u001b[0mb\u001b[0m \u001b[0;34m=\u001b[0m \u001b[0mdatos_madrid\u001b[0m \u001b[0;34m(\u001b[0m\u001b[0mqueries\u001b[0m\u001b[0;34m,\u001b[0m \u001b[0;34m**\u001b[0m\u001b[0ma\u001b[0m\u001b[0;34m)\u001b[0m\u001b[0;34m\u001b[0m\u001b[0;34m\u001b[0m\u001b[0m\n\u001b[0m",
      "\u001b[0;32m<ipython-input-70-b0f233da38e6>\u001b[0m in \u001b[0;36mdatos_madrid\u001b[0;34m(*args, **coordinates)\u001b[0m\n\u001b[1;32m      9\u001b[0m     \u001b[0;32mfor\u001b[0m \u001b[0mi\u001b[0m \u001b[0;32min\u001b[0m \u001b[0margs\u001b[0m\u001b[0;34m:\u001b[0m\u001b[0;34m\u001b[0m\u001b[0;34m\u001b[0m\u001b[0m\n\u001b[1;32m     10\u001b[0m         parametros = {\"v\": \"20180323\",\n\u001b[0;32m---> 11\u001b[0;31m                           \u001b[0;34m\"ll\"\u001b[0m\u001b[0;34m:\u001b[0m \u001b[0;34mf\"{coordinates[city][1]},{coordinates[city][0]}\"\u001b[0m\u001b[0;34m,\u001b[0m \u001b[0;31m## esto lo puedo hacer con kwargs\u001b[0m\u001b[0;34m\u001b[0m\u001b[0;34m\u001b[0m\u001b[0m\n\u001b[0m\u001b[1;32m     12\u001b[0m                           \u001b[0;34m\"query\"\u001b[0m\u001b[0;34m:\u001b[0m\u001b[0mi\u001b[0m\u001b[0;34m,\u001b[0m\u001b[0;34m\u001b[0m\u001b[0;34m\u001b[0m\u001b[0m\n\u001b[1;32m     13\u001b[0m                           \"limit\": 1}  \n",
      "\u001b[0;31mKeyError\u001b[0m: 'toledo'"
     ]
    }
   ],
   "source": [
    "b = datos_madrid (queries, lon = -3.6793, lat = 40.42955)"
   ]
  },
  {
   "cell_type": "code",
   "execution_count": 21,
   "id": "every-signature",
   "metadata": {},
   "outputs": [
    {
     "data": {
      "text/plain": [
       "{}"
      ]
     },
     "execution_count": 21,
     "metadata": {},
     "output_type": "execute_result"
    }
   ],
   "source": [
    "b"
   ]
  },
  {
   "cell_type": "code",
   "execution_count": null,
   "id": "funded-quebec",
   "metadata": {},
   "outputs": [],
   "source": []
  }
 ],
 "metadata": {
  "kernelspec": {
   "display_name": "Python 3",
   "language": "python",
   "name": "python3"
  },
  "language_info": {
   "codemirror_mode": {
    "name": "ipython",
    "version": 3
   },
   "file_extension": ".py",
   "mimetype": "text/x-python",
   "name": "python",
   "nbconvert_exporter": "python",
   "pygments_lexer": "ipython3",
   "version": "3.8.5"
  },
  "toc": {
   "base_numbering": 1,
   "nav_menu": {},
   "number_sections": true,
   "sideBar": true,
   "skip_h1_title": false,
   "title_cell": "Table of Contents",
   "title_sidebar": "Contents",
   "toc_cell": false,
   "toc_position": {},
   "toc_section_display": true,
   "toc_window_display": false
  },
  "varInspector": {
   "cols": {
    "lenName": 16,
    "lenType": 16,
    "lenVar": 40
   },
   "kernels_config": {
    "python": {
     "delete_cmd_postfix": "",
     "delete_cmd_prefix": "del ",
     "library": "var_list.py",
     "varRefreshCmd": "print(var_dic_list())"
    },
    "r": {
     "delete_cmd_postfix": ") ",
     "delete_cmd_prefix": "rm(",
     "library": "var_list.r",
     "varRefreshCmd": "cat(var_dic_list()) "
    }
   },
   "types_to_exclude": [
    "module",
    "function",
    "builtin_function_or_method",
    "instance",
    "_Feature"
   ],
   "window_display": false
  }
 },
 "nbformat": 4,
 "nbformat_minor": 5
}
