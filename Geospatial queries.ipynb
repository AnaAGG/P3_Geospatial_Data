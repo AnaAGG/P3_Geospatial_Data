{
 "cells": [
  {
   "cell_type": "markdown",
   "id": "human-nepal",
   "metadata": {},
   "source": [
    "## Libraries"
   ]
  },
  {
   "cell_type": "code",
   "execution_count": 1,
   "id": "respective-mambo",
   "metadata": {},
   "outputs": [],
   "source": [
    "from pymongo import MongoClient\n",
    "import pandas as pd\n",
    "import geopandas as gdp\n",
    "import shapely"
   ]
  },
  {
   "cell_type": "markdown",
   "id": "coordinate-tomorrow",
   "metadata": {},
   "source": [
    "## Converting  Pandas Dataframe to a MongoDB Geopoint Object"
   ]
  },
  {
   "cell_type": "markdown",
   "id": "requested-comparison",
   "metadata": {},
   "source": [
    "### Schools collections"
   ]
  },
  {
   "cell_type": "code",
   "execution_count": 28,
   "id": "acknowledged-perry",
   "metadata": {},
   "outputs": [
    {
     "data": {
      "text/plain": [
       "Index(['name', 'latitud', 'longitud'], dtype='object')"
      ]
     },
     "execution_count": 28,
     "metadata": {},
     "output_type": "execute_result"
    }
   ],
   "source": [
    "df_pets=pd.read_csv(\"school.csv\")\n",
    "df_pets.head()\n",
    "df_pets.columns"
   ]
  },
  {
   "cell_type": "code",
   "execution_count": 29,
   "id": "entertaining-substance",
   "metadata": {},
   "outputs": [
    {
     "data": {
      "text/html": [
       "<div>\n",
       "<style scoped>\n",
       "    .dataframe tbody tr th:only-of-type {\n",
       "        vertical-align: middle;\n",
       "    }\n",
       "\n",
       "    .dataframe tbody tr th {\n",
       "        vertical-align: top;\n",
       "    }\n",
       "\n",
       "    .dataframe thead th {\n",
       "        text-align: right;\n",
       "    }\n",
       "</style>\n",
       "<table border=\"1\" class=\"dataframe\">\n",
       "  <thead>\n",
       "    <tr style=\"text-align: right;\">\n",
       "      <th></th>\n",
       "      <th>name</th>\n",
       "      <th>lat</th>\n",
       "      <th>long</th>\n",
       "      <th>loc</th>\n",
       "    </tr>\n",
       "  </thead>\n",
       "  <tbody>\n",
       "    <tr>\n",
       "      <th>0</th>\n",
       "      <td>Gourmet Experience</td>\n",
       "      <td>40.427777</td>\n",
       "      <td>-3.687296</td>\n",
       "      <td>POINT (-3.68730 40.42778)</td>\n",
       "    </tr>\n",
       "    <tr>\n",
       "      <th>1</th>\n",
       "      <td>Monumento a Alfonso XII de España</td>\n",
       "      <td>40.417081</td>\n",
       "      <td>-3.683140</td>\n",
       "      <td>POINT (-3.68314 40.41708)</td>\n",
       "    </tr>\n",
       "    <tr>\n",
       "      <th>2</th>\n",
       "      <td>Fox In A Box Madrid - Juego de Escape Game</td>\n",
       "      <td>40.420115</td>\n",
       "      <td>-3.697489</td>\n",
       "      <td>POINT (-3.69749 40.42012)</td>\n",
       "    </tr>\n",
       "    <tr>\n",
       "      <th>3</th>\n",
       "      <td>Fuencarral 52 B&amp;B</td>\n",
       "      <td>40.423500</td>\n",
       "      <td>-3.700465</td>\n",
       "      <td>POINT (-3.70047 40.42350)</td>\n",
       "    </tr>\n",
       "    <tr>\n",
       "      <th>4</th>\n",
       "      <td>B&amp;B Restaurante</td>\n",
       "      <td>40.421384</td>\n",
       "      <td>-3.697403</td>\n",
       "      <td>POINT (-3.69740 40.42138)</td>\n",
       "    </tr>\n",
       "  </tbody>\n",
       "</table>\n",
       "</div>"
      ],
      "text/plain": [
       "                                         name        lat      long  \\\n",
       "0                          Gourmet Experience  40.427777 -3.687296   \n",
       "1           Monumento a Alfonso XII de España  40.417081 -3.683140   \n",
       "2  Fox In A Box Madrid - Juego de Escape Game  40.420115 -3.697489   \n",
       "3                           Fuencarral 52 B&B  40.423500 -3.700465   \n",
       "4                             B&B Restaurante  40.421384 -3.697403   \n",
       "\n",
       "                         loc  \n",
       "0  POINT (-3.68730 40.42778)  \n",
       "1  POINT (-3.68314 40.41708)  \n",
       "2  POINT (-3.69749 40.42012)  \n",
       "3  POINT (-3.70047 40.42350)  \n",
       "4  POINT (-3.69740 40.42138)  "
      ]
     },
     "execution_count": 29,
     "metadata": {},
     "output_type": "execute_result"
    }
   ],
   "source": [
    "gdf_pets = gdp.GeoDataFrame(df_pets, geometry= gdp.points_from_xy(df_pets.longitud, df_pets.latitud ))\n",
    "gdf_pets.columns=['name', 'lat','long','loc']\n",
    "gdf_pets.head()\n",
    "\n"
   ]
  },
  {
   "cell_type": "code",
   "execution_count": 30,
   "id": "interesting-muscle",
   "metadata": {},
   "outputs": [
    {
     "data": {
      "text/html": [
       "<div>\n",
       "<style scoped>\n",
       "    .dataframe tbody tr th:only-of-type {\n",
       "        vertical-align: middle;\n",
       "    }\n",
       "\n",
       "    .dataframe tbody tr th {\n",
       "        vertical-align: top;\n",
       "    }\n",
       "\n",
       "    .dataframe thead th {\n",
       "        text-align: right;\n",
       "    }\n",
       "</style>\n",
       "<table border=\"1\" class=\"dataframe\">\n",
       "  <thead>\n",
       "    <tr style=\"text-align: right;\">\n",
       "      <th></th>\n",
       "      <th>name</th>\n",
       "      <th>lat</th>\n",
       "      <th>long</th>\n",
       "      <th>loc</th>\n",
       "    </tr>\n",
       "  </thead>\n",
       "  <tbody>\n",
       "    <tr>\n",
       "      <th>0</th>\n",
       "      <td>Gourmet Experience</td>\n",
       "      <td>40.427777</td>\n",
       "      <td>-3.687296</td>\n",
       "      <td>{'type': 'Point', 'coordinates': (-3.687295697...</td>\n",
       "    </tr>\n",
       "    <tr>\n",
       "      <th>1</th>\n",
       "      <td>Monumento a Alfonso XII de España</td>\n",
       "      <td>40.417081</td>\n",
       "      <td>-3.683140</td>\n",
       "      <td>{'type': 'Point', 'coordinates': (-3.683139741...</td>\n",
       "    </tr>\n",
       "    <tr>\n",
       "      <th>2</th>\n",
       "      <td>Fox In A Box Madrid - Juego de Escape Game</td>\n",
       "      <td>40.420115</td>\n",
       "      <td>-3.697489</td>\n",
       "      <td>{'type': 'Point', 'coordinates': (-3.697489005...</td>\n",
       "    </tr>\n",
       "    <tr>\n",
       "      <th>3</th>\n",
       "      <td>Fuencarral 52 B&amp;B</td>\n",
       "      <td>40.423500</td>\n",
       "      <td>-3.700465</td>\n",
       "      <td>{'type': 'Point', 'coordinates': (-3.700465371...</td>\n",
       "    </tr>\n",
       "    <tr>\n",
       "      <th>4</th>\n",
       "      <td>B&amp;B Restaurante</td>\n",
       "      <td>40.421384</td>\n",
       "      <td>-3.697403</td>\n",
       "      <td>{'type': 'Point', 'coordinates': (-3.697403436...</td>\n",
       "    </tr>\n",
       "  </tbody>\n",
       "</table>\n",
       "</div>"
      ],
      "text/plain": [
       "                                         name        lat      long  \\\n",
       "0                          Gourmet Experience  40.427777 -3.687296   \n",
       "1           Monumento a Alfonso XII de España  40.417081 -3.683140   \n",
       "2  Fox In A Box Madrid - Juego de Escape Game  40.420115 -3.697489   \n",
       "3                           Fuencarral 52 B&B  40.423500 -3.700465   \n",
       "4                             B&B Restaurante  40.421384 -3.697403   \n",
       "\n",
       "                                                 loc  \n",
       "0  {'type': 'Point', 'coordinates': (-3.687295697...  \n",
       "1  {'type': 'Point', 'coordinates': (-3.683139741...  \n",
       "2  {'type': 'Point', 'coordinates': (-3.697489005...  \n",
       "3  {'type': 'Point', 'coordinates': (-3.700465371...  \n",
       "4  {'type': 'Point', 'coordinates': (-3.697403436...  "
      ]
     },
     "execution_count": 30,
     "metadata": {},
     "output_type": "execute_result"
    }
   ],
   "source": [
    "gdf_pets['loc']=gdf_pets['loc'].apply(lambda x:shapely.geometry.mapping(x))\n",
    "gdf_pets.head()"
   ]
  },
  {
   "cell_type": "code",
   "execution_count": 31,
   "id": "thorough-entertainment",
   "metadata": {},
   "outputs": [
    {
     "data": {
      "text/plain": [
       "'loc_2dsphere'"
      ]
     },
     "execution_count": 31,
     "metadata": {},
     "output_type": "execute_result"
    }
   ],
   "source": [
    "client = MongoClient()\n",
    "db = client.geo\n",
    "collection = db.pets\n",
    "collection.create_index([(\"loc\", \"2dsphere\")])"
   ]
  },
  {
   "cell_type": "code",
   "execution_count": 32,
   "id": "composed-desperate",
   "metadata": {},
   "outputs": [
    {
     "data": {
      "text/plain": [
       "<pymongo.results.InsertManyResult at 0x7fc68143e180>"
      ]
     },
     "execution_count": 32,
     "metadata": {},
     "output_type": "execute_result"
    }
   ],
   "source": [
    "data = gdf_pets.to_dict(orient='records')\n",
    "collection.insert_many(data)"
   ]
  },
  {
   "cell_type": "markdown",
   "id": "refined-credits",
   "metadata": {},
   "source": [
    "### Vegan collections"
   ]
  },
  {
   "cell_type": "code",
   "execution_count": 17,
   "id": "extra-resort",
   "metadata": {},
   "outputs": [
    {
     "data": {
      "text/html": [
       "<div>\n",
       "<style scoped>\n",
       "    .dataframe tbody tr th:only-of-type {\n",
       "        vertical-align: middle;\n",
       "    }\n",
       "\n",
       "    .dataframe tbody tr th {\n",
       "        vertical-align: top;\n",
       "    }\n",
       "\n",
       "    .dataframe thead th {\n",
       "        text-align: right;\n",
       "    }\n",
       "</style>\n",
       "<table border=\"1\" class=\"dataframe\">\n",
       "  <thead>\n",
       "    <tr style=\"text-align: right;\">\n",
       "      <th></th>\n",
       "      <th>name</th>\n",
       "      <th>latitud</th>\n",
       "      <th>longitud</th>\n",
       "    </tr>\n",
       "  </thead>\n",
       "  <tbody>\n",
       "    <tr>\n",
       "      <th>0</th>\n",
       "      <td>Vinos De Bellota</td>\n",
       "      <td>40.420676</td>\n",
       "      <td>-3.679059</td>\n",
       "    </tr>\n",
       "    <tr>\n",
       "      <th>1</th>\n",
       "      <td>De María</td>\n",
       "      <td>40.425839</td>\n",
       "      <td>-3.697331</td>\n",
       "    </tr>\n",
       "    <tr>\n",
       "      <th>2</th>\n",
       "      <td>D'Mystic</td>\n",
       "      <td>40.423215</td>\n",
       "      <td>-3.698125</td>\n",
       "    </tr>\n",
       "    <tr>\n",
       "      <th>3</th>\n",
       "      <td>SANZ CABREJAS Bufete de Abogados penalista</td>\n",
       "      <td>40.435540</td>\n",
       "      <td>-3.686364</td>\n",
       "    </tr>\n",
       "    <tr>\n",
       "      <th>4</th>\n",
       "      <td>D'kebab Food</td>\n",
       "      <td>40.422261</td>\n",
       "      <td>-3.699776</td>\n",
       "    </tr>\n",
       "  </tbody>\n",
       "</table>\n",
       "</div>"
      ],
      "text/plain": [
       "                                         name    latitud  longitud\n",
       "0                            Vinos De Bellota  40.420676 -3.679059\n",
       "1                                    De María  40.425839 -3.697331\n",
       "2                                    D'Mystic  40.423215 -3.698125\n",
       "3  SANZ CABREJAS Bufete de Abogados penalista  40.435540 -3.686364\n",
       "4                                D'kebab Food  40.422261 -3.699776"
      ]
     },
     "execution_count": 17,
     "metadata": {},
     "output_type": "execute_result"
    }
   ],
   "source": [
    "df_vegan=pd.read_csv(\"vegan.csv\")\n",
    "df_vegan.head()"
   ]
  },
  {
   "cell_type": "code",
   "execution_count": 18,
   "id": "steady-child",
   "metadata": {},
   "outputs": [
    {
     "data": {
      "text/html": [
       "<div>\n",
       "<style scoped>\n",
       "    .dataframe tbody tr th:only-of-type {\n",
       "        vertical-align: middle;\n",
       "    }\n",
       "\n",
       "    .dataframe tbody tr th {\n",
       "        vertical-align: top;\n",
       "    }\n",
       "\n",
       "    .dataframe thead th {\n",
       "        text-align: right;\n",
       "    }\n",
       "</style>\n",
       "<table border=\"1\" class=\"dataframe\">\n",
       "  <thead>\n",
       "    <tr style=\"text-align: right;\">\n",
       "      <th></th>\n",
       "      <th>name</th>\n",
       "      <th>lat</th>\n",
       "      <th>long</th>\n",
       "      <th>loc</th>\n",
       "    </tr>\n",
       "  </thead>\n",
       "  <tbody>\n",
       "    <tr>\n",
       "      <th>0</th>\n",
       "      <td>Vinos De Bellota</td>\n",
       "      <td>40.420676</td>\n",
       "      <td>-3.679059</td>\n",
       "      <td>POINT (-3.67906 40.42068)</td>\n",
       "    </tr>\n",
       "    <tr>\n",
       "      <th>1</th>\n",
       "      <td>De María</td>\n",
       "      <td>40.425839</td>\n",
       "      <td>-3.697331</td>\n",
       "      <td>POINT (-3.69733 40.42584)</td>\n",
       "    </tr>\n",
       "    <tr>\n",
       "      <th>2</th>\n",
       "      <td>D'Mystic</td>\n",
       "      <td>40.423215</td>\n",
       "      <td>-3.698125</td>\n",
       "      <td>POINT (-3.69813 40.42321)</td>\n",
       "    </tr>\n",
       "    <tr>\n",
       "      <th>3</th>\n",
       "      <td>SANZ CABREJAS Bufete de Abogados penalista</td>\n",
       "      <td>40.435540</td>\n",
       "      <td>-3.686364</td>\n",
       "      <td>POINT (-3.68636 40.43554)</td>\n",
       "    </tr>\n",
       "    <tr>\n",
       "      <th>4</th>\n",
       "      <td>D'kebab Food</td>\n",
       "      <td>40.422261</td>\n",
       "      <td>-3.699776</td>\n",
       "      <td>POINT (-3.69978 40.42226)</td>\n",
       "    </tr>\n",
       "  </tbody>\n",
       "</table>\n",
       "</div>"
      ],
      "text/plain": [
       "                                         name        lat      long  \\\n",
       "0                            Vinos De Bellota  40.420676 -3.679059   \n",
       "1                                    De María  40.425839 -3.697331   \n",
       "2                                    D'Mystic  40.423215 -3.698125   \n",
       "3  SANZ CABREJAS Bufete de Abogados penalista  40.435540 -3.686364   \n",
       "4                                D'kebab Food  40.422261 -3.699776   \n",
       "\n",
       "                         loc  \n",
       "0  POINT (-3.67906 40.42068)  \n",
       "1  POINT (-3.69733 40.42584)  \n",
       "2  POINT (-3.69813 40.42321)  \n",
       "3  POINT (-3.68636 40.43554)  \n",
       "4  POINT (-3.69978 40.42226)  "
      ]
     },
     "execution_count": 18,
     "metadata": {},
     "output_type": "execute_result"
    }
   ],
   "source": [
    "gdf_vegan = gdp.GeoDataFrame(df_vegan, geometry= gdp.points_from_xy(df_vegan.longitud, df_vegan.latitud ))\n",
    "gdf_vegan.columns=['name', 'lat','long','loc']\n",
    "gdf_vegan.head()\n"
   ]
  },
  {
   "cell_type": "code",
   "execution_count": 19,
   "id": "ranging-architecture",
   "metadata": {},
   "outputs": [
    {
     "data": {
      "text/html": [
       "<div>\n",
       "<style scoped>\n",
       "    .dataframe tbody tr th:only-of-type {\n",
       "        vertical-align: middle;\n",
       "    }\n",
       "\n",
       "    .dataframe tbody tr th {\n",
       "        vertical-align: top;\n",
       "    }\n",
       "\n",
       "    .dataframe thead th {\n",
       "        text-align: right;\n",
       "    }\n",
       "</style>\n",
       "<table border=\"1\" class=\"dataframe\">\n",
       "  <thead>\n",
       "    <tr style=\"text-align: right;\">\n",
       "      <th></th>\n",
       "      <th>name</th>\n",
       "      <th>lat</th>\n",
       "      <th>long</th>\n",
       "      <th>loc</th>\n",
       "    </tr>\n",
       "  </thead>\n",
       "  <tbody>\n",
       "    <tr>\n",
       "      <th>0</th>\n",
       "      <td>Vinos De Bellota</td>\n",
       "      <td>40.420676</td>\n",
       "      <td>-3.679059</td>\n",
       "      <td>{'type': 'Point', 'coordinates': (-3.679058690...</td>\n",
       "    </tr>\n",
       "    <tr>\n",
       "      <th>1</th>\n",
       "      <td>De María</td>\n",
       "      <td>40.425839</td>\n",
       "      <td>-3.697331</td>\n",
       "      <td>{'type': 'Point', 'coordinates': (-3.697330845...</td>\n",
       "    </tr>\n",
       "    <tr>\n",
       "      <th>2</th>\n",
       "      <td>D'Mystic</td>\n",
       "      <td>40.423215</td>\n",
       "      <td>-3.698125</td>\n",
       "      <td>{'type': 'Point', 'coordinates': (-3.698125448...</td>\n",
       "    </tr>\n",
       "    <tr>\n",
       "      <th>3</th>\n",
       "      <td>SANZ CABREJAS Bufete de Abogados penalista</td>\n",
       "      <td>40.435540</td>\n",
       "      <td>-3.686364</td>\n",
       "      <td>{'type': 'Point', 'coordinates': (-3.686363697...</td>\n",
       "    </tr>\n",
       "    <tr>\n",
       "      <th>4</th>\n",
       "      <td>D'kebab Food</td>\n",
       "      <td>40.422261</td>\n",
       "      <td>-3.699776</td>\n",
       "      <td>{'type': 'Point', 'coordinates': (-3.699776216...</td>\n",
       "    </tr>\n",
       "  </tbody>\n",
       "</table>\n",
       "</div>"
      ],
      "text/plain": [
       "                                         name        lat      long  \\\n",
       "0                            Vinos De Bellota  40.420676 -3.679059   \n",
       "1                                    De María  40.425839 -3.697331   \n",
       "2                                    D'Mystic  40.423215 -3.698125   \n",
       "3  SANZ CABREJAS Bufete de Abogados penalista  40.435540 -3.686364   \n",
       "4                                D'kebab Food  40.422261 -3.699776   \n",
       "\n",
       "                                                 loc  \n",
       "0  {'type': 'Point', 'coordinates': (-3.679058690...  \n",
       "1  {'type': 'Point', 'coordinates': (-3.697330845...  \n",
       "2  {'type': 'Point', 'coordinates': (-3.698125448...  \n",
       "3  {'type': 'Point', 'coordinates': (-3.686363697...  \n",
       "4  {'type': 'Point', 'coordinates': (-3.699776216...  "
      ]
     },
     "execution_count": 19,
     "metadata": {},
     "output_type": "execute_result"
    }
   ],
   "source": [
    "gdf_vegan['loc']=gdf_vegan['loc'].apply(lambda x:shapely.geometry.mapping(x))\n",
    "gdf_vegan.head()"
   ]
  },
  {
   "cell_type": "code",
   "execution_count": 20,
   "id": "seasonal-idaho",
   "metadata": {},
   "outputs": [
    {
     "data": {
      "text/plain": [
       "'loc_2dsphere'"
      ]
     },
     "execution_count": 20,
     "metadata": {},
     "output_type": "execute_result"
    }
   ],
   "source": [
    "client = MongoClient()\n",
    "db = client.geo\n",
    "collection = db.vegan\n",
    "collection.create_index([(\"loc\", \"2dsphere\")])"
   ]
  },
  {
   "cell_type": "code",
   "execution_count": 21,
   "id": "after-reason",
   "metadata": {},
   "outputs": [
    {
     "data": {
      "text/plain": [
       "<pymongo.results.InsertManyResult at 0x7fc61683ac00>"
      ]
     },
     "execution_count": 21,
     "metadata": {},
     "output_type": "execute_result"
    }
   ],
   "source": [
    "data_vegan = gdf_vegan.to_dict(orient='records')\n",
    "collection.insert_many(data_vegan)"
   ]
  },
  {
   "cell_type": "code",
   "execution_count": null,
   "id": "elder-manchester",
   "metadata": {},
   "outputs": [],
   "source": []
  },
  {
   "cell_type": "code",
   "execution_count": null,
   "id": "confirmed-steam",
   "metadata": {},
   "outputs": [],
   "source": []
  },
  {
   "cell_type": "code",
   "execution_count": null,
   "id": "opened-thompson",
   "metadata": {},
   "outputs": [],
   "source": []
  },
  {
   "cell_type": "code",
   "execution_count": null,
   "id": "separate-jason",
   "metadata": {},
   "outputs": [],
   "source": []
  },
  {
   "cell_type": "code",
   "execution_count": null,
   "id": "rental-dodge",
   "metadata": {},
   "outputs": [],
   "source": []
  }
 ],
 "metadata": {
  "kernelspec": {
   "display_name": "Python 3",
   "language": "python",
   "name": "python3"
  },
  "language_info": {
   "codemirror_mode": {
    "name": "ipython",
    "version": 3
   },
   "file_extension": ".py",
   "mimetype": "text/x-python",
   "name": "python",
   "nbconvert_exporter": "python",
   "pygments_lexer": "ipython3",
   "version": "3.8.5"
  },
  "toc": {
   "base_numbering": 1,
   "nav_menu": {},
   "number_sections": true,
   "sideBar": true,
   "skip_h1_title": false,
   "title_cell": "Table of Contents",
   "title_sidebar": "Contents",
   "toc_cell": false,
   "toc_position": {},
   "toc_section_display": true,
   "toc_window_display": false
  },
  "varInspector": {
   "cols": {
    "lenName": 16,
    "lenType": 16,
    "lenVar": 40
   },
   "kernels_config": {
    "python": {
     "delete_cmd_postfix": "",
     "delete_cmd_prefix": "del ",
     "library": "var_list.py",
     "varRefreshCmd": "print(var_dic_list())"
    },
    "r": {
     "delete_cmd_postfix": ") ",
     "delete_cmd_prefix": "rm(",
     "library": "var_list.r",
     "varRefreshCmd": "cat(var_dic_list()) "
    }
   },
   "types_to_exclude": [
    "module",
    "function",
    "builtin_function_or_method",
    "instance",
    "_Feature"
   ],
   "window_display": false
  }
 },
 "nbformat": 4,
 "nbformat_minor": 5
}
