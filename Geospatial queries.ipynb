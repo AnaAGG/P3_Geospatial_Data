{
 "cells": [
  {
   "cell_type": "markdown",
   "id": "human-nepal",
   "metadata": {},
   "source": [
    "## Libraries"
   ]
  },
  {
   "cell_type": "code",
   "execution_count": 1,
   "id": "respective-mambo",
   "metadata": {},
   "outputs": [],
   "source": [
    "from pymongo import MongoClient\n",
    "import pandas as pd\n",
    "import geopandas as gdp\n",
    "import shapely\n",
    "import json\n",
    "from bson.json_util import dumps"
   ]
  },
  {
   "cell_type": "markdown",
   "id": "coordinate-tomorrow",
   "metadata": {},
   "source": [
    "## Converting  Pandas Dataframe to a MongoDB Geopoint Object"
   ]
  },
  {
   "cell_type": "code",
   "execution_count": 2,
   "id": "increasing-least",
   "metadata": {},
   "outputs": [],
   "source": [
    "def create_geoloc(path_csv):\n",
    "    '''\n",
    "    lo que hace\n",
    "    '''\n",
    "    \n",
    "    #recibe el dataframe\n",
    "    df =pd.read_csv(path_csv)\n",
    "    \n",
    "    #Crea el loc con los geopuntos.\n",
    "    gdf = gdp.GeoDataFrame(df, geometry= gdp.points_from_xy(df.longitud, df.latitud ))\n",
    "    gdf.columns=['name', 'lat','long', 'category','loc']\n",
    "    \n",
    "    #Lo aplicamos a toda la columna\n",
    "    gdf['loc']= gdf['loc'].apply(lambda x:shapely.geometry.mapping(x))\n",
    "   \n",
    "    return gdf\n",
    "    "
   ]
  },
  {
   "cell_type": "markdown",
   "id": "requested-comparison",
   "metadata": {},
   "source": [
    "### Bilbao collection"
   ]
  },
  {
   "cell_type": "code",
   "execution_count": 16,
   "id": "acknowledged-perry",
   "metadata": {},
   "outputs": [],
   "source": [
    "gdf_bilbao = create_geoloc('bilbao.csv')"
   ]
  },
  {
   "cell_type": "code",
   "execution_count": 17,
   "id": "apparent-nurse",
   "metadata": {},
   "outputs": [
    {
     "data": {
      "text/html": [
       "<div>\n",
       "<style scoped>\n",
       "    .dataframe tbody tr th:only-of-type {\n",
       "        vertical-align: middle;\n",
       "    }\n",
       "\n",
       "    .dataframe tbody tr th {\n",
       "        vertical-align: top;\n",
       "    }\n",
       "\n",
       "    .dataframe thead th {\n",
       "        text-align: right;\n",
       "    }\n",
       "</style>\n",
       "<table border=\"1\" class=\"dataframe\">\n",
       "  <thead>\n",
       "    <tr style=\"text-align: right;\">\n",
       "      <th></th>\n",
       "      <th>name</th>\n",
       "      <th>lat</th>\n",
       "      <th>long</th>\n",
       "      <th>category</th>\n",
       "      <th>loc</th>\n",
       "    </tr>\n",
       "  </thead>\n",
       "  <tbody>\n",
       "    <tr>\n",
       "      <th>0</th>\n",
       "      <td>La Camelia Vegan-Bar</td>\n",
       "      <td>43.261577</td>\n",
       "      <td>-2.925420</td>\n",
       "      <td>'Vegetarian / Vegan Restaurant'</td>\n",
       "      <td>{'type': 'Point', 'coordinates': (-2.92542, 43...</td>\n",
       "    </tr>\n",
       "    <tr>\n",
       "      <th>1</th>\n",
       "      <td>Bohemian Lane</td>\n",
       "      <td>43.256430</td>\n",
       "      <td>-2.924784</td>\n",
       "      <td>'Vegetarian / Vegan Restaurant'</td>\n",
       "      <td>{'type': 'Point', 'coordinates': (-2.924784121...</td>\n",
       "    </tr>\n",
       "    <tr>\n",
       "      <th>2</th>\n",
       "      <td>Garibolo</td>\n",
       "      <td>43.258353</td>\n",
       "      <td>-2.933280</td>\n",
       "      <td>'Vegetarian / Vegan Restaurant'</td>\n",
       "      <td>{'type': 'Point', 'coordinates': (-2.933279752...</td>\n",
       "    </tr>\n",
       "    <tr>\n",
       "      <th>3</th>\n",
       "      <td>Restaurante Luum</td>\n",
       "      <td>43.264866</td>\n",
       "      <td>-2.933099</td>\n",
       "      <td>'Vegetarian / Vegan Restaurant'</td>\n",
       "      <td>{'type': 'Point', 'coordinates': (-2.933099, 4...</td>\n",
       "    </tr>\n",
       "    <tr>\n",
       "      <th>4</th>\n",
       "      <td>Areatza - El Arenal</td>\n",
       "      <td>43.260141</td>\n",
       "      <td>-2.923918</td>\n",
       "      <td>'Park'</td>\n",
       "      <td>{'type': 'Point', 'coordinates': (-2.923918305...</td>\n",
       "    </tr>\n",
       "  </tbody>\n",
       "</table>\n",
       "</div>"
      ],
      "text/plain": [
       "                   name        lat      long                         category  \\\n",
       "0  La Camelia Vegan-Bar  43.261577 -2.925420  'Vegetarian / Vegan Restaurant'   \n",
       "1         Bohemian Lane  43.256430 -2.924784  'Vegetarian / Vegan Restaurant'   \n",
       "2              Garibolo  43.258353 -2.933280  'Vegetarian / Vegan Restaurant'   \n",
       "3      Restaurante Luum  43.264866 -2.933099  'Vegetarian / Vegan Restaurant'   \n",
       "4   Areatza - El Arenal  43.260141 -2.923918                          'Park'    \n",
       "\n",
       "                                                 loc  \n",
       "0  {'type': 'Point', 'coordinates': (-2.92542, 43...  \n",
       "1  {'type': 'Point', 'coordinates': (-2.924784121...  \n",
       "2  {'type': 'Point', 'coordinates': (-2.933279752...  \n",
       "3  {'type': 'Point', 'coordinates': (-2.933099, 4...  \n",
       "4  {'type': 'Point', 'coordinates': (-2.923918305...  "
      ]
     },
     "execution_count": 17,
     "metadata": {},
     "output_type": "execute_result"
    }
   ],
   "source": [
    "gdf_bilbao.head()"
   ]
  },
  {
   "cell_type": "code",
   "execution_count": 18,
   "id": "thorough-entertainment",
   "metadata": {},
   "outputs": [
    {
     "data": {
      "text/plain": [
       "<pymongo.results.InsertManyResult at 0x7f8c5a34ac00>"
      ]
     },
     "execution_count": 18,
     "metadata": {},
     "output_type": "execute_result"
    }
   ],
   "source": [
    "client = MongoClient()\n",
    "db = client.geo\n",
    "collection_bilbao = db.bilbao\n",
    "collection_bilbao.create_index([(\"loc\", \"2dsphere\")])\n",
    "\n",
    "data_bilbao = gdf_bilbao.to_dict(orient='records')\n",
    "collection_bilbao.insert_many(data_bilbao)"
   ]
  },
  {
   "cell_type": "markdown",
   "id": "refined-credits",
   "metadata": {},
   "source": [
    "### Gijon collection"
   ]
  },
  {
   "cell_type": "code",
   "execution_count": 22,
   "id": "extra-resort",
   "metadata": {},
   "outputs": [],
   "source": [
    "gdf_gijon = create_geoloc(\"gijon.csv\")"
   ]
  },
  {
   "cell_type": "code",
   "execution_count": 23,
   "id": "steady-child",
   "metadata": {},
   "outputs": [
    {
     "data": {
      "text/html": [
       "<div>\n",
       "<style scoped>\n",
       "    .dataframe tbody tr th:only-of-type {\n",
       "        vertical-align: middle;\n",
       "    }\n",
       "\n",
       "    .dataframe tbody tr th {\n",
       "        vertical-align: top;\n",
       "    }\n",
       "\n",
       "    .dataframe thead th {\n",
       "        text-align: right;\n",
       "    }\n",
       "</style>\n",
       "<table border=\"1\" class=\"dataframe\">\n",
       "  <thead>\n",
       "    <tr style=\"text-align: right;\">\n",
       "      <th></th>\n",
       "      <th>name</th>\n",
       "      <th>lat</th>\n",
       "      <th>long</th>\n",
       "      <th>category</th>\n",
       "      <th>loc</th>\n",
       "    </tr>\n",
       "  </thead>\n",
       "  <tbody>\n",
       "    <tr>\n",
       "      <th>0</th>\n",
       "      <td>Escuela Infantil Municipal “Ana María Matute”</td>\n",
       "      <td>39.861411</td>\n",
       "      <td>-3.947029</td>\n",
       "      <td>'Preschool'</td>\n",
       "      <td>{'type': 'Point', 'coordinates': (-3.947028815...</td>\n",
       "    </tr>\n",
       "    <tr>\n",
       "      <th>1</th>\n",
       "      <td>Madre Tierra</td>\n",
       "      <td>39.856617</td>\n",
       "      <td>-4.022343</td>\n",
       "      <td>'Vegetarian / Vegan Restaurant'</td>\n",
       "      <td>{'type': 'Point', 'coordinates': (-4.022342701...</td>\n",
       "    </tr>\n",
       "    <tr>\n",
       "      <th>2</th>\n",
       "      <td>Fruteria Santos</td>\n",
       "      <td>39.940697</td>\n",
       "      <td>-3.991567</td>\n",
       "      <td>'Vegetarian / Vegan Restaurant'</td>\n",
       "      <td>{'type': 'Point', 'coordinates': (-3.991566896...</td>\n",
       "    </tr>\n",
       "    <tr>\n",
       "      <th>3</th>\n",
       "      <td>Frutas Hermanos Farelo</td>\n",
       "      <td>39.962243</td>\n",
       "      <td>-4.194303</td>\n",
       "      <td>'Vegetarian / Vegan Restaurant'</td>\n",
       "      <td>{'type': 'Point', 'coordinates': (-4.194303454...</td>\n",
       "    </tr>\n",
       "    <tr>\n",
       "      <th>4</th>\n",
       "      <td>Parque De La Vega</td>\n",
       "      <td>39.863761</td>\n",
       "      <td>-4.024856</td>\n",
       "      <td>'Park'</td>\n",
       "      <td>{'type': 'Point', 'coordinates': (-4.024855771...</td>\n",
       "    </tr>\n",
       "  </tbody>\n",
       "</table>\n",
       "</div>"
      ],
      "text/plain": [
       "                                            name        lat      long  \\\n",
       "0  Escuela Infantil Municipal “Ana María Matute”  39.861411 -3.947029   \n",
       "1                                   Madre Tierra  39.856617 -4.022343   \n",
       "2                                Fruteria Santos  39.940697 -3.991567   \n",
       "3                         Frutas Hermanos Farelo  39.962243 -4.194303   \n",
       "4                              Parque De La Vega  39.863761 -4.024856   \n",
       "\n",
       "                          category  \\\n",
       "0                      'Preschool'   \n",
       "1  'Vegetarian / Vegan Restaurant'   \n",
       "2  'Vegetarian / Vegan Restaurant'   \n",
       "3  'Vegetarian / Vegan Restaurant'   \n",
       "4                           'Park'   \n",
       "\n",
       "                                                 loc  \n",
       "0  {'type': 'Point', 'coordinates': (-3.947028815...  \n",
       "1  {'type': 'Point', 'coordinates': (-4.022342701...  \n",
       "2  {'type': 'Point', 'coordinates': (-3.991566896...  \n",
       "3  {'type': 'Point', 'coordinates': (-4.194303454...  \n",
       "4  {'type': 'Point', 'coordinates': (-4.024855771...  "
      ]
     },
     "execution_count": 23,
     "metadata": {},
     "output_type": "execute_result"
    }
   ],
   "source": [
    "gdf_gijon.head()"
   ]
  },
  {
   "cell_type": "code",
   "execution_count": 24,
   "id": "seasonal-idaho",
   "metadata": {},
   "outputs": [
    {
     "data": {
      "text/plain": [
       "<pymongo.results.InsertManyResult at 0x7f8c9b026a80>"
      ]
     },
     "execution_count": 24,
     "metadata": {},
     "output_type": "execute_result"
    }
   ],
   "source": [
    "client = MongoClient()\n",
    "db = client.geo\n",
    "collection_gijon = db.gijon\n",
    "collection_gijon.create_index([(\"loc\", \"2dsphere\")])\n",
    "\n",
    "data_gijon = gdf_gijon.to_dict(orient='records')\n",
    "collection_gijon.insert_many(data_gijon)"
   ]
  },
  {
   "cell_type": "markdown",
   "id": "inner-average",
   "metadata": {},
   "source": [
    "###  Madrid collection"
   ]
  },
  {
   "cell_type": "code",
   "execution_count": 4,
   "id": "regional-springer",
   "metadata": {},
   "outputs": [],
   "source": [
    "gdf_madrid = create_geoloc('madrid.csv')"
   ]
  },
  {
   "cell_type": "code",
   "execution_count": 5,
   "id": "significant-plant",
   "metadata": {},
   "outputs": [
    {
     "data": {
      "text/html": [
       "<div>\n",
       "<style scoped>\n",
       "    .dataframe tbody tr th:only-of-type {\n",
       "        vertical-align: middle;\n",
       "    }\n",
       "\n",
       "    .dataframe tbody tr th {\n",
       "        vertical-align: top;\n",
       "    }\n",
       "\n",
       "    .dataframe thead th {\n",
       "        text-align: right;\n",
       "    }\n",
       "</style>\n",
       "<table border=\"1\" class=\"dataframe\">\n",
       "  <thead>\n",
       "    <tr style=\"text-align: right;\">\n",
       "      <th></th>\n",
       "      <th>name</th>\n",
       "      <th>lat</th>\n",
       "      <th>long</th>\n",
       "      <th>category</th>\n",
       "      <th>loc</th>\n",
       "    </tr>\n",
       "  </thead>\n",
       "  <tbody>\n",
       "    <tr>\n",
       "      <th>0</th>\n",
       "      <td>ABC Centre d'Estudis</td>\n",
       "      <td>40.402726</td>\n",
       "      <td>-3.674894</td>\n",
       "      <td>'Preschool'</td>\n",
       "      <td>{'type': 'Point', 'coordinates': (-3.6748938, ...</td>\n",
       "    </tr>\n",
       "    <tr>\n",
       "      <th>1</th>\n",
       "      <td>Guardería Chiqui Tin Moratalaz</td>\n",
       "      <td>40.409716</td>\n",
       "      <td>-3.653979</td>\n",
       "      <td>'Preschool'</td>\n",
       "      <td>{'type': 'Point', 'coordinates': (-3.653978810...</td>\n",
       "    </tr>\n",
       "    <tr>\n",
       "      <th>2</th>\n",
       "      <td>Foodies in the City</td>\n",
       "      <td>40.421212</td>\n",
       "      <td>-3.717058</td>\n",
       "      <td>'Preschool'</td>\n",
       "      <td>{'type': 'Point', 'coordinates': (-3.717057899...</td>\n",
       "    </tr>\n",
       "    <tr>\n",
       "      <th>3</th>\n",
       "      <td>Planet Organic Food&amp;Life</td>\n",
       "      <td>40.428808</td>\n",
       "      <td>-3.681333</td>\n",
       "      <td>'Vegetarian / Vegan Restaurant'</td>\n",
       "      <td>{'type': 'Point', 'coordinates': (-3.681333, 4...</td>\n",
       "    </tr>\n",
       "    <tr>\n",
       "      <th>4</th>\n",
       "      <td>Swagat Indian Restaurant</td>\n",
       "      <td>40.424513</td>\n",
       "      <td>-3.683114</td>\n",
       "      <td>'Vegetarian / Vegan Restaurant'</td>\n",
       "      <td>{'type': 'Point', 'coordinates': (-3.683114294...</td>\n",
       "    </tr>\n",
       "  </tbody>\n",
       "</table>\n",
       "</div>"
      ],
      "text/plain": [
       "                             name        lat      long  \\\n",
       "0            ABC Centre d'Estudis  40.402726 -3.674894   \n",
       "1  Guardería Chiqui Tin Moratalaz  40.409716 -3.653979   \n",
       "2             Foodies in the City  40.421212 -3.717058   \n",
       "3        Planet Organic Food&Life  40.428808 -3.681333   \n",
       "4        Swagat Indian Restaurant  40.424513 -3.683114   \n",
       "\n",
       "                          category  \\\n",
       "0                      'Preschool'   \n",
       "1                      'Preschool'   \n",
       "2                      'Preschool'   \n",
       "3  'Vegetarian / Vegan Restaurant'   \n",
       "4  'Vegetarian / Vegan Restaurant'   \n",
       "\n",
       "                                                 loc  \n",
       "0  {'type': 'Point', 'coordinates': (-3.6748938, ...  \n",
       "1  {'type': 'Point', 'coordinates': (-3.653978810...  \n",
       "2  {'type': 'Point', 'coordinates': (-3.717057899...  \n",
       "3  {'type': 'Point', 'coordinates': (-3.681333, 4...  \n",
       "4  {'type': 'Point', 'coordinates': (-3.683114294...  "
      ]
     },
     "execution_count": 5,
     "metadata": {},
     "output_type": "execute_result"
    }
   ],
   "source": [
    "gdf_madrid.head()"
   ]
  },
  {
   "cell_type": "code",
   "execution_count": 6,
   "id": "aware-shipping",
   "metadata": {},
   "outputs": [
    {
     "data": {
      "text/plain": [
       "<pymongo.results.InsertManyResult at 0x7f8c9b01b240>"
      ]
     },
     "execution_count": 6,
     "metadata": {},
     "output_type": "execute_result"
    }
   ],
   "source": [
    "client = MongoClient()\n",
    "db = client.geo\n",
    "collection_madrid = db.madrid\n",
    "collection_madrid.create_index([(\"loc\", \"2dsphere\")])\n",
    "\n",
    "data_madrid = gdf_madrid.to_dict(orient='records')\n",
    "collection_madrid.insert_many(data_madrid)"
   ]
  },
  {
   "cell_type": "markdown",
   "id": "endangered-indonesia",
   "metadata": {},
   "source": [
    "###  Toledo collection"
   ]
  },
  {
   "cell_type": "code",
   "execution_count": 28,
   "id": "unauthorized-absorption",
   "metadata": {},
   "outputs": [],
   "source": [
    "gdf_toledo = create_geoloc('toledo.csv')"
   ]
  },
  {
   "cell_type": "code",
   "execution_count": 29,
   "id": "failing-vocabulary",
   "metadata": {},
   "outputs": [
    {
     "data": {
      "text/html": [
       "<div>\n",
       "<style scoped>\n",
       "    .dataframe tbody tr th:only-of-type {\n",
       "        vertical-align: middle;\n",
       "    }\n",
       "\n",
       "    .dataframe tbody tr th {\n",
       "        vertical-align: top;\n",
       "    }\n",
       "\n",
       "    .dataframe thead th {\n",
       "        text-align: right;\n",
       "    }\n",
       "</style>\n",
       "<table border=\"1\" class=\"dataframe\">\n",
       "  <thead>\n",
       "    <tr style=\"text-align: right;\">\n",
       "      <th></th>\n",
       "      <th>name</th>\n",
       "      <th>lat</th>\n",
       "      <th>long</th>\n",
       "      <th>category</th>\n",
       "      <th>loc</th>\n",
       "    </tr>\n",
       "  </thead>\n",
       "  <tbody>\n",
       "    <tr>\n",
       "      <th>0</th>\n",
       "      <td>Escuela Infantil Municipal “Ana María Matute”</td>\n",
       "      <td>39.861411</td>\n",
       "      <td>-3.947029</td>\n",
       "      <td>'Preschool'</td>\n",
       "      <td>{'type': 'Point', 'coordinates': (-3.947028815...</td>\n",
       "    </tr>\n",
       "    <tr>\n",
       "      <th>1</th>\n",
       "      <td>Madre Tierra</td>\n",
       "      <td>39.856617</td>\n",
       "      <td>-4.022343</td>\n",
       "      <td>'Vegetarian / Vegan Restaurant'</td>\n",
       "      <td>{'type': 'Point', 'coordinates': (-4.022342701...</td>\n",
       "    </tr>\n",
       "    <tr>\n",
       "      <th>2</th>\n",
       "      <td>Fruteria Santos</td>\n",
       "      <td>39.940697</td>\n",
       "      <td>-3.991567</td>\n",
       "      <td>'Vegetarian / Vegan Restaurant'</td>\n",
       "      <td>{'type': 'Point', 'coordinates': (-3.991566896...</td>\n",
       "    </tr>\n",
       "    <tr>\n",
       "      <th>3</th>\n",
       "      <td>Frutas Hermanos Farelo</td>\n",
       "      <td>39.962243</td>\n",
       "      <td>-4.194303</td>\n",
       "      <td>'Vegetarian / Vegan Restaurant'</td>\n",
       "      <td>{'type': 'Point', 'coordinates': (-4.194303454...</td>\n",
       "    </tr>\n",
       "    <tr>\n",
       "      <th>4</th>\n",
       "      <td>Parque De La Vega</td>\n",
       "      <td>39.863761</td>\n",
       "      <td>-4.024856</td>\n",
       "      <td>'Park'</td>\n",
       "      <td>{'type': 'Point', 'coordinates': (-4.024855771...</td>\n",
       "    </tr>\n",
       "  </tbody>\n",
       "</table>\n",
       "</div>"
      ],
      "text/plain": [
       "                                            name        lat      long  \\\n",
       "0  Escuela Infantil Municipal “Ana María Matute”  39.861411 -3.947029   \n",
       "1                                   Madre Tierra  39.856617 -4.022343   \n",
       "2                                Fruteria Santos  39.940697 -3.991567   \n",
       "3                         Frutas Hermanos Farelo  39.962243 -4.194303   \n",
       "4                              Parque De La Vega  39.863761 -4.024856   \n",
       "\n",
       "                          category  \\\n",
       "0                      'Preschool'   \n",
       "1  'Vegetarian / Vegan Restaurant'   \n",
       "2  'Vegetarian / Vegan Restaurant'   \n",
       "3  'Vegetarian / Vegan Restaurant'   \n",
       "4                          'Park'    \n",
       "\n",
       "                                                 loc  \n",
       "0  {'type': 'Point', 'coordinates': (-3.947028815...  \n",
       "1  {'type': 'Point', 'coordinates': (-4.022342701...  \n",
       "2  {'type': 'Point', 'coordinates': (-3.991566896...  \n",
       "3  {'type': 'Point', 'coordinates': (-4.194303454...  \n",
       "4  {'type': 'Point', 'coordinates': (-4.024855771...  "
      ]
     },
     "execution_count": 29,
     "metadata": {},
     "output_type": "execute_result"
    }
   ],
   "source": [
    "gdf_toledo.head()"
   ]
  },
  {
   "cell_type": "code",
   "execution_count": 30,
   "id": "underlying-tissue",
   "metadata": {},
   "outputs": [
    {
     "data": {
      "text/plain": [
       "<pymongo.results.InsertManyResult at 0x7f8c9b0988c0>"
      ]
     },
     "execution_count": 30,
     "metadata": {},
     "output_type": "execute_result"
    }
   ],
   "source": [
    "client = MongoClient()\n",
    "db = client.geo\n",
    "collection_toledo = db.toledo\n",
    "collection_toledo.create_index([(\"loc\", \"2dsphere\")])\n",
    "\n",
    "data_toledo = gdf_toledo.to_dict(orient='records')\n",
    "collection_toledo.insert_many(data_toledo)"
   ]
  },
  {
   "cell_type": "markdown",
   "id": "reduced-version",
   "metadata": {},
   "source": [
    "## GeoQueries"
   ]
  },
  {
   "cell_type": "markdown",
   "id": "convinced-filename",
   "metadata": {},
   "source": [
    "### Creating the queries"
   ]
  },
  {
   "cell_type": "code",
   "execution_count": 10,
   "id": "designed-lloyd",
   "metadata": {},
   "outputs": [],
   "source": [
    "def queries_close (collection, lon, lat):\n",
    "    query = [{\n",
    "    \"$geoNear\": {'near': [lon, lat],\n",
    "                 'distanceField': 'distance',\n",
    "                 'maxDistance': 7000,\n",
    "                 'distanceMultiplier': 6371, \n",
    "                 'spherical'  : True}}]\n",
    "    geoloc = collection.aggregate(query)\n",
    "    response_json = json.loads(dumps(geoloc))\n",
    "    \n",
    "    return response_json\n",
    "    "
   ]
  },
  {
   "cell_type": "code",
   "execution_count": 11,
   "id": "republican-portland",
   "metadata": {},
   "outputs": [],
   "source": [
    "def check_results(json):\n",
    "    results_list = list(json)\n",
    "    \n",
    "    if len(results_list) > 0:\n",
    "        response = {\"number of registers\" : len(results_list),\n",
    "                    \"datos\" : json}\n",
    "        return (f\"Nice! we have found  {len(results_list)}  results\")\n",
    "    else:\n",
    "        return \"Sorry, wa can´t find your petition\"\n",
    "        \n",
    "        "
   ]
  },
  {
   "cell_type": "markdown",
   "id": "sensitive-profession",
   "metadata": {},
   "source": [
    "#### Bilbao"
   ]
  },
  {
   "cell_type": "code",
   "execution_count": 19,
   "id": "sensitive-beijing",
   "metadata": {},
   "outputs": [],
   "source": [
    "bilbao = queries_close(collection_bilbao, -2.9253, 43.2627)\n",
    "bilbao_check= check_results(bilbao)"
   ]
  },
  {
   "cell_type": "code",
   "execution_count": 20,
   "id": "corporate-prefix",
   "metadata": {},
   "outputs": [
    {
     "data": {
      "text/plain": [
       "'Nice! we have found  78  results'"
      ]
     },
     "execution_count": 20,
     "metadata": {},
     "output_type": "execute_result"
    }
   ],
   "source": [
    "bilbao_check"
   ]
  },
  {
   "cell_type": "code",
   "execution_count": 21,
   "id": "prompt-singing",
   "metadata": {},
   "outputs": [
    {
     "data": {
      "text/html": [
       "<div>\n",
       "<style scoped>\n",
       "    .dataframe tbody tr th:only-of-type {\n",
       "        vertical-align: middle;\n",
       "    }\n",
       "\n",
       "    .dataframe tbody tr th {\n",
       "        vertical-align: top;\n",
       "    }\n",
       "\n",
       "    .dataframe thead th {\n",
       "        text-align: right;\n",
       "    }\n",
       "</style>\n",
       "<table border=\"1\" class=\"dataframe\">\n",
       "  <thead>\n",
       "    <tr style=\"text-align: right;\">\n",
       "      <th></th>\n",
       "      <th>_id</th>\n",
       "      <th>name</th>\n",
       "      <th>lat</th>\n",
       "      <th>long</th>\n",
       "      <th>category</th>\n",
       "      <th>loc</th>\n",
       "      <th>distance</th>\n",
       "    </tr>\n",
       "  </thead>\n",
       "  <tbody>\n",
       "    <tr>\n",
       "      <th>0</th>\n",
       "      <td>{'$oid': '6020223c70aebdade83ada62'}</td>\n",
       "      <td>La Camelia Vegan-Bar</td>\n",
       "      <td>43.261577</td>\n",
       "      <td>-2.925420</td>\n",
       "      <td>'Vegetarian / Vegan Restaurant'</td>\n",
       "      <td>{'type': 'Point', 'coordinates': [-2.92542, 43...</td>\n",
       "      <td>0.125249</td>\n",
       "    </tr>\n",
       "    <tr>\n",
       "      <th>1</th>\n",
       "      <td>{'$oid': '60202af8b1c4f08d4af2c8a2'}</td>\n",
       "      <td>La Camelia Vegan-Bar</td>\n",
       "      <td>43.261577</td>\n",
       "      <td>-2.925420</td>\n",
       "      <td>'Vegetarian / Vegan Restaurant'</td>\n",
       "      <td>{'type': 'Point', 'coordinates': [-2.92542, 43...</td>\n",
       "      <td>0.125249</td>\n",
       "    </tr>\n",
       "    <tr>\n",
       "      <th>2</th>\n",
       "      <td>{'$oid': '6020223c70aebdade83ada77'}</td>\n",
       "      <td>NBA Fan Zone</td>\n",
       "      <td>43.261363</td>\n",
       "      <td>-2.923943</td>\n",
       "      <td>'Basketball'</td>\n",
       "      <td>{'type': 'Point', 'coordinates': [-2.923942690...</td>\n",
       "      <td>0.184876</td>\n",
       "    </tr>\n",
       "    <tr>\n",
       "      <th>3</th>\n",
       "      <td>{'$oid': '60202af8b1c4f08d4af2c8b7'}</td>\n",
       "      <td>NBA Fan Zone</td>\n",
       "      <td>43.261363</td>\n",
       "      <td>-2.923943</td>\n",
       "      <td>'Basketball'</td>\n",
       "      <td>{'type': 'Point', 'coordinates': [-2.923942690...</td>\n",
       "      <td>0.184876</td>\n",
       "    </tr>\n",
       "    <tr>\n",
       "      <th>4</th>\n",
       "      <td>{'$oid': '6020223c70aebdade83ada78'}</td>\n",
       "      <td>Mundobasket Fan Zone</td>\n",
       "      <td>43.260412</td>\n",
       "      <td>-2.924411</td>\n",
       "      <td>'Basketball</td>\n",
       "      <td>{'type': 'Point', 'coordinates': [-2.924410901...</td>\n",
       "      <td>0.264374</td>\n",
       "    </tr>\n",
       "  </tbody>\n",
       "</table>\n",
       "</div>"
      ],
      "text/plain": [
       "                                    _id                  name        lat  \\\n",
       "0  {'$oid': '6020223c70aebdade83ada62'}  La Camelia Vegan-Bar  43.261577   \n",
       "1  {'$oid': '60202af8b1c4f08d4af2c8a2'}  La Camelia Vegan-Bar  43.261577   \n",
       "2  {'$oid': '6020223c70aebdade83ada77'}          NBA Fan Zone  43.261363   \n",
       "3  {'$oid': '60202af8b1c4f08d4af2c8b7'}          NBA Fan Zone  43.261363   \n",
       "4  {'$oid': '6020223c70aebdade83ada78'}  Mundobasket Fan Zone  43.260412   \n",
       "\n",
       "       long                         category  \\\n",
       "0 -2.925420  'Vegetarian / Vegan Restaurant'   \n",
       "1 -2.925420  'Vegetarian / Vegan Restaurant'   \n",
       "2 -2.923943                     'Basketball'   \n",
       "3 -2.923943                     'Basketball'   \n",
       "4 -2.924411                    'Basketball     \n",
       "\n",
       "                                                 loc  distance  \n",
       "0  {'type': 'Point', 'coordinates': [-2.92542, 43...  0.125249  \n",
       "1  {'type': 'Point', 'coordinates': [-2.92542, 43...  0.125249  \n",
       "2  {'type': 'Point', 'coordinates': [-2.923942690...  0.184876  \n",
       "3  {'type': 'Point', 'coordinates': [-2.923942690...  0.184876  \n",
       "4  {'type': 'Point', 'coordinates': [-2.924410901...  0.264374  "
      ]
     },
     "execution_count": 21,
     "metadata": {},
     "output_type": "execute_result"
    }
   ],
   "source": [
    "df_bilbao = pd.DataFrame(bilbao)\n",
    "df_bilbao.head()"
   ]
  },
  {
   "cell_type": "markdown",
   "id": "automated-anchor",
   "metadata": {},
   "source": [
    "#### Gijon"
   ]
  },
  {
   "cell_type": "code",
   "execution_count": 25,
   "id": "failing-bearing",
   "metadata": {},
   "outputs": [],
   "source": [
    "gijon = queries_close(collection_gijon, -5.7258, 43.5317)\n",
    "gijon_check= check_results(gijon)"
   ]
  },
  {
   "cell_type": "code",
   "execution_count": 26,
   "id": "greenhouse-joint",
   "metadata": {},
   "outputs": [
    {
     "data": {
      "text/plain": [
       "'Nice! we have found  48  results'"
      ]
     },
     "execution_count": 26,
     "metadata": {},
     "output_type": "execute_result"
    }
   ],
   "source": [
    "gijon_check"
   ]
  },
  {
   "cell_type": "code",
   "execution_count": 27,
   "id": "accessory-spread",
   "metadata": {},
   "outputs": [
    {
     "data": {
      "text/html": [
       "<div>\n",
       "<style scoped>\n",
       "    .dataframe tbody tr th:only-of-type {\n",
       "        vertical-align: middle;\n",
       "    }\n",
       "\n",
       "    .dataframe tbody tr th {\n",
       "        vertical-align: top;\n",
       "    }\n",
       "\n",
       "    .dataframe thead th {\n",
       "        text-align: right;\n",
       "    }\n",
       "</style>\n",
       "<table border=\"1\" class=\"dataframe\">\n",
       "  <thead>\n",
       "    <tr style=\"text-align: right;\">\n",
       "      <th></th>\n",
       "      <th>_id</th>\n",
       "      <th>name</th>\n",
       "      <th>lat</th>\n",
       "      <th>long</th>\n",
       "      <th>category</th>\n",
       "      <th>loc</th>\n",
       "      <th>distance</th>\n",
       "    </tr>\n",
       "  </thead>\n",
       "  <tbody>\n",
       "    <tr>\n",
       "      <th>0</th>\n",
       "      <td>{'$oid': '6020262970aebdade83ada9a'}</td>\n",
       "      <td>Polideportivo El nido</td>\n",
       "      <td>40.240575</td>\n",
       "      <td>-3.777031</td>\n",
       "      <td>'Basketball Court'</td>\n",
       "      <td>{'type': 'Point', 'coordinates': [-3.777031271...</td>\n",
       "      <td>399.904299</td>\n",
       "    </tr>\n",
       "    <tr>\n",
       "      <th>1</th>\n",
       "      <td>{'$oid': '60202b59b1c4f08d4af2c8da'}</td>\n",
       "      <td>Polideportivo El nido</td>\n",
       "      <td>40.240575</td>\n",
       "      <td>-3.777031</td>\n",
       "      <td>'Basketball Court'</td>\n",
       "      <td>{'type': 'Point', 'coordinates': [-3.777031271...</td>\n",
       "      <td>399.904299</td>\n",
       "    </tr>\n",
       "    <tr>\n",
       "      <th>2</th>\n",
       "      <td>{'$oid': '6020262970aebdade83ada95'}</td>\n",
       "      <td>Parque Del Pilar</td>\n",
       "      <td>40.054756</td>\n",
       "      <td>-3.992189</td>\n",
       "      <td>'Park'</td>\n",
       "      <td>{'type': 'Point', 'coordinates': [-3.992189, 4...</td>\n",
       "      <td>412.440290</td>\n",
       "    </tr>\n",
       "    <tr>\n",
       "      <th>3</th>\n",
       "      <td>{'$oid': '60202b59b1c4f08d4af2c8d5'}</td>\n",
       "      <td>Parque Del Pilar</td>\n",
       "      <td>40.054756</td>\n",
       "      <td>-3.992189</td>\n",
       "      <td>'Park'</td>\n",
       "      <td>{'type': 'Point', 'coordinates': [-3.992189, 4...</td>\n",
       "      <td>412.440290</td>\n",
       "    </tr>\n",
       "    <tr>\n",
       "      <th>4</th>\n",
       "      <td>{'$oid': '6020262970aebdade83ada96'}</td>\n",
       "      <td>Parque De Yuncos</td>\n",
       "      <td>40.087130</td>\n",
       "      <td>-3.875277</td>\n",
       "      <td>'Park'</td>\n",
       "      <td>{'type': 'Point', 'coordinates': [-3.875276818...</td>\n",
       "      <td>412.555056</td>\n",
       "    </tr>\n",
       "  </tbody>\n",
       "</table>\n",
       "</div>"
      ],
      "text/plain": [
       "                                    _id                   name        lat  \\\n",
       "0  {'$oid': '6020262970aebdade83ada9a'}  Polideportivo El nido  40.240575   \n",
       "1  {'$oid': '60202b59b1c4f08d4af2c8da'}  Polideportivo El nido  40.240575   \n",
       "2  {'$oid': '6020262970aebdade83ada95'}       Parque Del Pilar  40.054756   \n",
       "3  {'$oid': '60202b59b1c4f08d4af2c8d5'}       Parque Del Pilar  40.054756   \n",
       "4  {'$oid': '6020262970aebdade83ada96'}       Parque De Yuncos  40.087130   \n",
       "\n",
       "       long            category  \\\n",
       "0 -3.777031  'Basketball Court'   \n",
       "1 -3.777031  'Basketball Court'   \n",
       "2 -3.992189              'Park'   \n",
       "3 -3.992189              'Park'   \n",
       "4 -3.875277              'Park'   \n",
       "\n",
       "                                                 loc    distance  \n",
       "0  {'type': 'Point', 'coordinates': [-3.777031271...  399.904299  \n",
       "1  {'type': 'Point', 'coordinates': [-3.777031271...  399.904299  \n",
       "2  {'type': 'Point', 'coordinates': [-3.992189, 4...  412.440290  \n",
       "3  {'type': 'Point', 'coordinates': [-3.992189, 4...  412.440290  \n",
       "4  {'type': 'Point', 'coordinates': [-3.875276818...  412.555056  "
      ]
     },
     "execution_count": 27,
     "metadata": {},
     "output_type": "execute_result"
    }
   ],
   "source": [
    "df_gijon = pd.DataFrame(gijon)\n",
    "df_gijon.head()"
   ]
  },
  {
   "cell_type": "markdown",
   "id": "instructional-drama",
   "metadata": {},
   "source": [
    "####  Madrid"
   ]
  },
  {
   "cell_type": "code",
   "execution_count": 12,
   "id": "careful-jurisdiction",
   "metadata": {},
   "outputs": [],
   "source": [
    "madrid = queries_close(collection_madrid, -3.6793, 40.42955)\n",
    "madrid_check= check_results(madrid)"
   ]
  },
  {
   "cell_type": "code",
   "execution_count": 13,
   "id": "brazilian-monaco",
   "metadata": {},
   "outputs": [
    {
     "data": {
      "text/plain": [
       "'Nice! we have found  230  results'"
      ]
     },
     "execution_count": 13,
     "metadata": {},
     "output_type": "execute_result"
    }
   ],
   "source": [
    "madrid_check"
   ]
  },
  {
   "cell_type": "code",
   "execution_count": 14,
   "id": "starting-yugoslavia",
   "metadata": {},
   "outputs": [
    {
     "data": {
      "text/html": [
       "<div>\n",
       "<style scoped>\n",
       "    .dataframe tbody tr th:only-of-type {\n",
       "        vertical-align: middle;\n",
       "    }\n",
       "\n",
       "    .dataframe tbody tr th {\n",
       "        vertical-align: top;\n",
       "    }\n",
       "\n",
       "    .dataframe thead th {\n",
       "        text-align: right;\n",
       "    }\n",
       "</style>\n",
       "<table border=\"1\" class=\"dataframe\">\n",
       "  <thead>\n",
       "    <tr style=\"text-align: right;\">\n",
       "      <th></th>\n",
       "      <th>_id</th>\n",
       "      <th>name</th>\n",
       "      <th>lat</th>\n",
       "      <th>long</th>\n",
       "      <th>category</th>\n",
       "      <th>loc</th>\n",
       "      <th>distance</th>\n",
       "    </tr>\n",
       "  </thead>\n",
       "  <tbody>\n",
       "    <tr>\n",
       "      <th>0</th>\n",
       "      <td>{'$oid': '602029c970aebdade83adaa6'}</td>\n",
       "      <td>Planet Organic Food&amp;Life</td>\n",
       "      <td>40.428808</td>\n",
       "      <td>-3.681333</td>\n",
       "      <td>'Vegetarian / Vegan Restaurant'</td>\n",
       "      <td>{'type': 'Point', 'coordinates': [-3.681333, 4...</td>\n",
       "      <td>0.190836</td>\n",
       "    </tr>\n",
       "    <tr>\n",
       "      <th>1</th>\n",
       "      <td>{'$oid': '60202a6fb1c4f08d4af2c831'}</td>\n",
       "      <td>Planet Organic Food&amp;Life</td>\n",
       "      <td>40.428808</td>\n",
       "      <td>-3.681333</td>\n",
       "      <td>'Vegetarian / Vegan Restaurant'</td>\n",
       "      <td>{'type': 'Point', 'coordinates': [-3.681333, 4...</td>\n",
       "      <td>0.190836</td>\n",
       "    </tr>\n",
       "    <tr>\n",
       "      <th>2</th>\n",
       "      <td>{'$oid': '602029c970aebdade83adac9'}</td>\n",
       "      <td>Pasillo de Diego de León</td>\n",
       "      <td>40.432397</td>\n",
       "      <td>-3.674888</td>\n",
       "      <td>'Platform'</td>\n",
       "      <td>{'type': 'Point', 'coordinates': [-3.674888329...</td>\n",
       "      <td>0.489569</td>\n",
       "    </tr>\n",
       "    <tr>\n",
       "      <th>3</th>\n",
       "      <td>{'$oid': '60202a6fb1c4f08d4af2c854'}</td>\n",
       "      <td>Pasillo de Diego de León</td>\n",
       "      <td>40.432397</td>\n",
       "      <td>-3.674888</td>\n",
       "      <td>'Platform'</td>\n",
       "      <td>{'type': 'Point', 'coordinates': [-3.674888329...</td>\n",
       "      <td>0.489569</td>\n",
       "    </tr>\n",
       "    <tr>\n",
       "      <th>4</th>\n",
       "      <td>{'$oid': '602029c970aebdade83adaab'}</td>\n",
       "      <td>Fit Food Velázquez 39</td>\n",
       "      <td>40.426034</td>\n",
       "      <td>-3.684132</td>\n",
       "      <td>'Vegetarian / Vegan Restaurant'</td>\n",
       "      <td>{'type': 'Point', 'coordinates': [-3.684132099...</td>\n",
       "      <td>0.565812</td>\n",
       "    </tr>\n",
       "  </tbody>\n",
       "</table>\n",
       "</div>"
      ],
      "text/plain": [
       "                                    _id                      name        lat  \\\n",
       "0  {'$oid': '602029c970aebdade83adaa6'}  Planet Organic Food&Life  40.428808   \n",
       "1  {'$oid': '60202a6fb1c4f08d4af2c831'}  Planet Organic Food&Life  40.428808   \n",
       "2  {'$oid': '602029c970aebdade83adac9'}  Pasillo de Diego de León  40.432397   \n",
       "3  {'$oid': '60202a6fb1c4f08d4af2c854'}  Pasillo de Diego de León  40.432397   \n",
       "4  {'$oid': '602029c970aebdade83adaab'}     Fit Food Velázquez 39  40.426034   \n",
       "\n",
       "       long                         category  \\\n",
       "0 -3.681333  'Vegetarian / Vegan Restaurant'   \n",
       "1 -3.681333  'Vegetarian / Vegan Restaurant'   \n",
       "2 -3.674888                       'Platform'   \n",
       "3 -3.674888                       'Platform'   \n",
       "4 -3.684132  'Vegetarian / Vegan Restaurant'   \n",
       "\n",
       "                                                 loc  distance  \n",
       "0  {'type': 'Point', 'coordinates': [-3.681333, 4...  0.190836  \n",
       "1  {'type': 'Point', 'coordinates': [-3.681333, 4...  0.190836  \n",
       "2  {'type': 'Point', 'coordinates': [-3.674888329...  0.489569  \n",
       "3  {'type': 'Point', 'coordinates': [-3.674888329...  0.489569  \n",
       "4  {'type': 'Point', 'coordinates': [-3.684132099...  0.565812  "
      ]
     },
     "execution_count": 14,
     "metadata": {},
     "output_type": "execute_result"
    }
   ],
   "source": [
    "df_madrid = pd.DataFrame(madrid)\n",
    "df_madrid.head()"
   ]
  },
  {
   "cell_type": "markdown",
   "id": "starting-operation",
   "metadata": {},
   "source": [
    "####  Toledo"
   ]
  },
  {
   "cell_type": "code",
   "execution_count": 31,
   "id": "departmental-society",
   "metadata": {},
   "outputs": [],
   "source": [
    "toledo = queries_close(collection_toledo, -3.6793, 40.42955)\n",
    "toledo_check= check_results(toledo)"
   ]
  },
  {
   "cell_type": "code",
   "execution_count": 32,
   "id": "ranging-springer",
   "metadata": {},
   "outputs": [
    {
     "data": {
      "text/plain": [
       "'Nice! we have found  24  results'"
      ]
     },
     "execution_count": 32,
     "metadata": {},
     "output_type": "execute_result"
    }
   ],
   "source": [
    "toledo_check"
   ]
  },
  {
   "cell_type": "code",
   "execution_count": 33,
   "id": "aggregate-drove",
   "metadata": {},
   "outputs": [
    {
     "data": {
      "text/html": [
       "<div>\n",
       "<style scoped>\n",
       "    .dataframe tbody tr th:only-of-type {\n",
       "        vertical-align: middle;\n",
       "    }\n",
       "\n",
       "    .dataframe tbody tr th {\n",
       "        vertical-align: top;\n",
       "    }\n",
       "\n",
       "    .dataframe thead th {\n",
       "        text-align: right;\n",
       "    }\n",
       "</style>\n",
       "<table border=\"1\" class=\"dataframe\">\n",
       "  <thead>\n",
       "    <tr style=\"text-align: right;\">\n",
       "      <th></th>\n",
       "      <th>_id</th>\n",
       "      <th>name</th>\n",
       "      <th>lat</th>\n",
       "      <th>long</th>\n",
       "      <th>category</th>\n",
       "      <th>loc</th>\n",
       "      <th>distance</th>\n",
       "    </tr>\n",
       "  </thead>\n",
       "  <tbody>\n",
       "    <tr>\n",
       "      <th>0</th>\n",
       "      <td>{'$oid': '60202d40b1c4f08d4af2c8f3'}</td>\n",
       "      <td>Polideportivo El nido</td>\n",
       "      <td>40.240575</td>\n",
       "      <td>-3.777031</td>\n",
       "      <td>'Basketball Court'</td>\n",
       "      <td>{'type': 'Point', 'coordinates': [-3.777031271...</td>\n",
       "      <td>22.586977</td>\n",
       "    </tr>\n",
       "    <tr>\n",
       "      <th>1</th>\n",
       "      <td>{'$oid': '60202d40b1c4f08d4af2c8ef'}</td>\n",
       "      <td>Parque De Yuncos</td>\n",
       "      <td>40.087130</td>\n",
       "      <td>-3.875277</td>\n",
       "      <td>'Park'</td>\n",
       "      <td>{'type': 'Point', 'coordinates': [-3.875276818...</td>\n",
       "      <td>41.548656</td>\n",
       "    </tr>\n",
       "    <tr>\n",
       "      <th>2</th>\n",
       "      <td>{'$oid': '60202d40b1c4f08d4af2c8f2'}</td>\n",
       "      <td>Pabellón de deportes de Yuncos</td>\n",
       "      <td>40.081642</td>\n",
       "      <td>-3.873404</td>\n",
       "      <td>'Basketball Court'</td>\n",
       "      <td>{'type': 'Point', 'coordinates': [-3.873404, 4...</td>\n",
       "      <td>42.046315</td>\n",
       "    </tr>\n",
       "    <tr>\n",
       "      <th>3</th>\n",
       "      <td>{'$oid': '60202d40b1c4f08d4af2c8ee'}</td>\n",
       "      <td>Parque Del Pilar</td>\n",
       "      <td>40.054756</td>\n",
       "      <td>-3.992189</td>\n",
       "      <td>'Park'</td>\n",
       "      <td>{'type': 'Point', 'coordinates': [-3.992189, 4...</td>\n",
       "      <td>49.417591</td>\n",
       "    </tr>\n",
       "    <tr>\n",
       "      <th>4</th>\n",
       "      <td>{'$oid': '60202d40b1c4f08d4af2c8e5'}</td>\n",
       "      <td>Fruteria Santos</td>\n",
       "      <td>39.940697</td>\n",
       "      <td>-3.991567</td>\n",
       "      <td>'Vegetarian / Vegan Restaurant'</td>\n",
       "      <td>{'type': 'Point', 'coordinates': [-3.991566896...</td>\n",
       "      <td>60.485028</td>\n",
       "    </tr>\n",
       "  </tbody>\n",
       "</table>\n",
       "</div>"
      ],
      "text/plain": [
       "                                    _id                            name  \\\n",
       "0  {'$oid': '60202d40b1c4f08d4af2c8f3'}           Polideportivo El nido   \n",
       "1  {'$oid': '60202d40b1c4f08d4af2c8ef'}                Parque De Yuncos   \n",
       "2  {'$oid': '60202d40b1c4f08d4af2c8f2'}  Pabellón de deportes de Yuncos   \n",
       "3  {'$oid': '60202d40b1c4f08d4af2c8ee'}                Parque Del Pilar   \n",
       "4  {'$oid': '60202d40b1c4f08d4af2c8e5'}                 Fruteria Santos   \n",
       "\n",
       "         lat      long                         category  \\\n",
       "0  40.240575 -3.777031               'Basketball Court'   \n",
       "1  40.087130 -3.875277                          'Park'    \n",
       "2  40.081642 -3.873404               'Basketball Court'   \n",
       "3  40.054756 -3.992189                          'Park'    \n",
       "4  39.940697 -3.991567  'Vegetarian / Vegan Restaurant'   \n",
       "\n",
       "                                                 loc   distance  \n",
       "0  {'type': 'Point', 'coordinates': [-3.777031271...  22.586977  \n",
       "1  {'type': 'Point', 'coordinates': [-3.875276818...  41.548656  \n",
       "2  {'type': 'Point', 'coordinates': [-3.873404, 4...  42.046315  \n",
       "3  {'type': 'Point', 'coordinates': [-3.992189, 4...  49.417591  \n",
       "4  {'type': 'Point', 'coordinates': [-3.991566896...  60.485028  "
      ]
     },
     "execution_count": 33,
     "metadata": {},
     "output_type": "execute_result"
    }
   ],
   "source": [
    "df_toledo = pd.DataFrame(toledo)\n",
    "df_toledo.head()"
   ]
  },
  {
   "cell_type": "code",
   "execution_count": null,
   "id": "wired-environment",
   "metadata": {},
   "outputs": [],
   "source": []
  },
  {
   "cell_type": "code",
   "execution_count": null,
   "id": "cosmetic-racing",
   "metadata": {},
   "outputs": [],
   "source": []
  },
  {
   "cell_type": "code",
   "execution_count": null,
   "id": "accessory-carnival",
   "metadata": {},
   "outputs": [],
   "source": []
  },
  {
   "cell_type": "code",
   "execution_count": null,
   "id": "bored-remark",
   "metadata": {},
   "outputs": [],
   "source": []
  }
 ],
 "metadata": {
  "kernelspec": {
   "display_name": "Python 3",
   "language": "python",
   "name": "python3"
  },
  "language_info": {
   "codemirror_mode": {
    "name": "ipython",
    "version": 3
   },
   "file_extension": ".py",
   "mimetype": "text/x-python",
   "name": "python",
   "nbconvert_exporter": "python",
   "pygments_lexer": "ipython3",
   "version": "3.8.5"
  },
  "toc": {
   "base_numbering": 1,
   "nav_menu": {},
   "number_sections": true,
   "sideBar": true,
   "skip_h1_title": false,
   "title_cell": "Table of Contents",
   "title_sidebar": "Contents",
   "toc_cell": false,
   "toc_position": {},
   "toc_section_display": true,
   "toc_window_display": false
  },
  "varInspector": {
   "cols": {
    "lenName": 16,
    "lenType": 16,
    "lenVar": 40
   },
   "kernels_config": {
    "python": {
     "delete_cmd_postfix": "",
     "delete_cmd_prefix": "del ",
     "library": "var_list.py",
     "varRefreshCmd": "print(var_dic_list())"
    },
    "r": {
     "delete_cmd_postfix": ") ",
     "delete_cmd_prefix": "rm(",
     "library": "var_list.r",
     "varRefreshCmd": "cat(var_dic_list()) "
    }
   },
   "types_to_exclude": [
    "module",
    "function",
    "builtin_function_or_method",
    "instance",
    "_Feature"
   ],
   "window_display": false
  }
 },
 "nbformat": 4,
 "nbformat_minor": 5
}
