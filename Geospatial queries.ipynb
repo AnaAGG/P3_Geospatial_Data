{
 "cells": [
  {
   "cell_type": "markdown",
   "id": "human-nepal",
   "metadata": {},
   "source": [
    "## Libraries"
   ]
  },
  {
   "cell_type": "code",
   "execution_count": 1,
   "id": "respective-mambo",
   "metadata": {},
   "outputs": [],
   "source": [
    "from pymongo import MongoClient\n",
    "import pandas as pd\n",
    "import geopandas as gdp\n",
    "import shapely\n",
    "import json\n",
    "from bson.json_util import dumps\n",
    "\n",
    "import src.GeospatialFunctions as gf"
   ]
  },
  {
   "cell_type": "markdown",
   "id": "coordinate-tomorrow",
   "metadata": {},
   "source": [
    "## Converting  Pandas Dataframe to a MongoDB Geopoint Object"
   ]
  },
  {
   "cell_type": "markdown",
   "id": "requested-comparison",
   "metadata": {},
   "source": [
    "### Bilbao collection"
   ]
  },
  {
   "cell_type": "code",
   "execution_count": 2,
   "id": "acknowledged-perry",
   "metadata": {
    "scrolled": true
   },
   "outputs": [],
   "source": [
    "gdf_bilbao = gf.create_geoloc('bilbao.csv')"
   ]
  },
  {
   "cell_type": "code",
   "execution_count": 3,
   "id": "apparent-nurse",
   "metadata": {},
   "outputs": [
    {
     "data": {
      "text/html": [
       "<div>\n",
       "<style scoped>\n",
       "    .dataframe tbody tr th:only-of-type {\n",
       "        vertical-align: middle;\n",
       "    }\n",
       "\n",
       "    .dataframe tbody tr th {\n",
       "        vertical-align: top;\n",
       "    }\n",
       "\n",
       "    .dataframe thead th {\n",
       "        text-align: right;\n",
       "    }\n",
       "</style>\n",
       "<table border=\"1\" class=\"dataframe\">\n",
       "  <thead>\n",
       "    <tr style=\"text-align: right;\">\n",
       "      <th></th>\n",
       "      <th>name</th>\n",
       "      <th>lat</th>\n",
       "      <th>long</th>\n",
       "      <th>category</th>\n",
       "      <th>loc</th>\n",
       "    </tr>\n",
       "  </thead>\n",
       "  <tbody>\n",
       "    <tr>\n",
       "      <th>0</th>\n",
       "      <td>La Camelia Vegan-Bar</td>\n",
       "      <td>43.261577</td>\n",
       "      <td>-2.925420</td>\n",
       "      <td>[{'id': '4bf58dd8d48988d1d3941735', 'name': 'V...</td>\n",
       "      <td>{'type': 'Point', 'coordinates': (-2.92542, 43...</td>\n",
       "    </tr>\n",
       "    <tr>\n",
       "      <th>1</th>\n",
       "      <td>Bohemian Lane</td>\n",
       "      <td>43.256430</td>\n",
       "      <td>-2.924784</td>\n",
       "      <td>[{'id': '4bf58dd8d48988d1d3941735', 'name': 'V...</td>\n",
       "      <td>{'type': 'Point', 'coordinates': (-2.924784121...</td>\n",
       "    </tr>\n",
       "    <tr>\n",
       "      <th>2</th>\n",
       "      <td>Garibolo</td>\n",
       "      <td>43.258353</td>\n",
       "      <td>-2.933280</td>\n",
       "      <td>[{'id': '4bf58dd8d48988d1d3941735', 'name': 'V...</td>\n",
       "      <td>{'type': 'Point', 'coordinates': (-2.933279752...</td>\n",
       "    </tr>\n",
       "    <tr>\n",
       "      <th>3</th>\n",
       "      <td>Restaurante Luum</td>\n",
       "      <td>43.264866</td>\n",
       "      <td>-2.933099</td>\n",
       "      <td>[{'id': '4bf58dd8d48988d1d3941735', 'name': 'V...</td>\n",
       "      <td>{'type': 'Point', 'coordinates': (-2.933099, 4...</td>\n",
       "    </tr>\n",
       "    <tr>\n",
       "      <th>4</th>\n",
       "      <td>Areatza - El Arenal</td>\n",
       "      <td>43.260141</td>\n",
       "      <td>-2.923918</td>\n",
       "      <td>[{'id': '4bf58dd8d48988d163941735', 'name': 'P...</td>\n",
       "      <td>{'type': 'Point', 'coordinates': (-2.923918305...</td>\n",
       "    </tr>\n",
       "  </tbody>\n",
       "</table>\n",
       "</div>"
      ],
      "text/plain": [
       "                   name        lat      long  \\\n",
       "0  La Camelia Vegan-Bar  43.261577 -2.925420   \n",
       "1         Bohemian Lane  43.256430 -2.924784   \n",
       "2              Garibolo  43.258353 -2.933280   \n",
       "3      Restaurante Luum  43.264866 -2.933099   \n",
       "4   Areatza - El Arenal  43.260141 -2.923918   \n",
       "\n",
       "                                            category  \\\n",
       "0  [{'id': '4bf58dd8d48988d1d3941735', 'name': 'V...   \n",
       "1  [{'id': '4bf58dd8d48988d1d3941735', 'name': 'V...   \n",
       "2  [{'id': '4bf58dd8d48988d1d3941735', 'name': 'V...   \n",
       "3  [{'id': '4bf58dd8d48988d1d3941735', 'name': 'V...   \n",
       "4  [{'id': '4bf58dd8d48988d163941735', 'name': 'P...   \n",
       "\n",
       "                                                 loc  \n",
       "0  {'type': 'Point', 'coordinates': (-2.92542, 43...  \n",
       "1  {'type': 'Point', 'coordinates': (-2.924784121...  \n",
       "2  {'type': 'Point', 'coordinates': (-2.933279752...  \n",
       "3  {'type': 'Point', 'coordinates': (-2.933099, 4...  \n",
       "4  {'type': 'Point', 'coordinates': (-2.923918305...  "
      ]
     },
     "execution_count": 3,
     "metadata": {},
     "output_type": "execute_result"
    }
   ],
   "source": [
    "gdf_bilbao.head()"
   ]
  },
  {
   "cell_type": "code",
   "execution_count": 4,
   "id": "thorough-entertainment",
   "metadata": {},
   "outputs": [
    {
     "data": {
      "text/plain": [
       "<pymongo.results.InsertManyResult at 0x7f24660cd1c0>"
      ]
     },
     "execution_count": 4,
     "metadata": {},
     "output_type": "execute_result"
    }
   ],
   "source": [
    "client = MongoClient()\n",
    "db = client.geo\n",
    "collection_bilbao = db.bilbao\n",
    "collection_bilbao.create_index([(\"loc\", \"2dsphere\")])\n",
    "\n",
    "data_bilbao = gdf_bilbao.to_dict(orient='records')\n",
    "collection_bilbao.insert_many(data_bilbao)"
   ]
  },
  {
   "cell_type": "markdown",
   "id": "refined-credits",
   "metadata": {},
   "source": [
    "### Gijon collection"
   ]
  },
  {
   "cell_type": "code",
   "execution_count": 5,
   "id": "extra-resort",
   "metadata": {},
   "outputs": [],
   "source": [
    "gdf_gijon = gf.create_geoloc(\"gijon.csv\")"
   ]
  },
  {
   "cell_type": "code",
   "execution_count": 6,
   "id": "steady-child",
   "metadata": {},
   "outputs": [
    {
     "data": {
      "text/html": [
       "<div>\n",
       "<style scoped>\n",
       "    .dataframe tbody tr th:only-of-type {\n",
       "        vertical-align: middle;\n",
       "    }\n",
       "\n",
       "    .dataframe tbody tr th {\n",
       "        vertical-align: top;\n",
       "    }\n",
       "\n",
       "    .dataframe thead th {\n",
       "        text-align: right;\n",
       "    }\n",
       "</style>\n",
       "<table border=\"1\" class=\"dataframe\">\n",
       "  <thead>\n",
       "    <tr style=\"text-align: right;\">\n",
       "      <th></th>\n",
       "      <th>name</th>\n",
       "      <th>lat</th>\n",
       "      <th>long</th>\n",
       "      <th>category</th>\n",
       "      <th>loc</th>\n",
       "    </tr>\n",
       "  </thead>\n",
       "  <tbody>\n",
       "    <tr>\n",
       "      <th>0</th>\n",
       "      <td>Escuela Infantil Municipal “Ana María Matute”</td>\n",
       "      <td>39.861411</td>\n",
       "      <td>-3.947029</td>\n",
       "      <td>[{'id': '52e81612bcbc57f1066b7a45', 'name': 'P...</td>\n",
       "      <td>{'type': 'Point', 'coordinates': (-3.947028815...</td>\n",
       "    </tr>\n",
       "    <tr>\n",
       "      <th>1</th>\n",
       "      <td>Madre Tierra</td>\n",
       "      <td>39.856617</td>\n",
       "      <td>-4.022343</td>\n",
       "      <td>[{'id': '4bf58dd8d48988d1d3941735', 'name': 'V...</td>\n",
       "      <td>{'type': 'Point', 'coordinates': (-4.022342701...</td>\n",
       "    </tr>\n",
       "    <tr>\n",
       "      <th>2</th>\n",
       "      <td>Fruteria Santos</td>\n",
       "      <td>39.940697</td>\n",
       "      <td>-3.991567</td>\n",
       "      <td>[{'id': '4bf58dd8d48988d1d3941735', 'name': 'V...</td>\n",
       "      <td>{'type': 'Point', 'coordinates': (-3.991566896...</td>\n",
       "    </tr>\n",
       "    <tr>\n",
       "      <th>3</th>\n",
       "      <td>Frutas Hermanos Farelo</td>\n",
       "      <td>39.962243</td>\n",
       "      <td>-4.194303</td>\n",
       "      <td>[{'id': '4bf58dd8d48988d1d3941735', 'name': 'V...</td>\n",
       "      <td>{'type': 'Point', 'coordinates': (-4.194303454...</td>\n",
       "    </tr>\n",
       "    <tr>\n",
       "      <th>4</th>\n",
       "      <td>Parque De La Vega</td>\n",
       "      <td>39.863761</td>\n",
       "      <td>-4.024856</td>\n",
       "      <td>[{'id': '4bf58dd8d48988d163941735', 'name': 'P...</td>\n",
       "      <td>{'type': 'Point', 'coordinates': (-4.024855771...</td>\n",
       "    </tr>\n",
       "  </tbody>\n",
       "</table>\n",
       "</div>"
      ],
      "text/plain": [
       "                                            name        lat      long  \\\n",
       "0  Escuela Infantil Municipal “Ana María Matute”  39.861411 -3.947029   \n",
       "1                                   Madre Tierra  39.856617 -4.022343   \n",
       "2                                Fruteria Santos  39.940697 -3.991567   \n",
       "3                         Frutas Hermanos Farelo  39.962243 -4.194303   \n",
       "4                              Parque De La Vega  39.863761 -4.024856   \n",
       "\n",
       "                                            category  \\\n",
       "0  [{'id': '52e81612bcbc57f1066b7a45', 'name': 'P...   \n",
       "1  [{'id': '4bf58dd8d48988d1d3941735', 'name': 'V...   \n",
       "2  [{'id': '4bf58dd8d48988d1d3941735', 'name': 'V...   \n",
       "3  [{'id': '4bf58dd8d48988d1d3941735', 'name': 'V...   \n",
       "4  [{'id': '4bf58dd8d48988d163941735', 'name': 'P...   \n",
       "\n",
       "                                                 loc  \n",
       "0  {'type': 'Point', 'coordinates': (-3.947028815...  \n",
       "1  {'type': 'Point', 'coordinates': (-4.022342701...  \n",
       "2  {'type': 'Point', 'coordinates': (-3.991566896...  \n",
       "3  {'type': 'Point', 'coordinates': (-4.194303454...  \n",
       "4  {'type': 'Point', 'coordinates': (-4.024855771...  "
      ]
     },
     "execution_count": 6,
     "metadata": {},
     "output_type": "execute_result"
    }
   ],
   "source": [
    "gdf_gijon.head()"
   ]
  },
  {
   "cell_type": "code",
   "execution_count": 7,
   "id": "seasonal-idaho",
   "metadata": {},
   "outputs": [
    {
     "data": {
      "text/plain": [
       "<pymongo.results.InsertManyResult at 0x7f24c8c94280>"
      ]
     },
     "execution_count": 7,
     "metadata": {},
     "output_type": "execute_result"
    }
   ],
   "source": [
    "client = MongoClient()\n",
    "db = client.geo\n",
    "collection_gijon = db.gijon\n",
    "collection_gijon.create_index([(\"loc\", \"2dsphere\")])\n",
    "\n",
    "data_gijon = gdf_gijon.to_dict(orient='records')\n",
    "collection_gijon.insert_many(data_gijon)"
   ]
  },
  {
   "cell_type": "markdown",
   "id": "clinical-toolbox",
   "metadata": {},
   "source": [
    "###  Madrid collection"
   ]
  },
  {
   "cell_type": "code",
   "execution_count": 8,
   "id": "supported-coordination",
   "metadata": {},
   "outputs": [],
   "source": [
    "gdf_madrid = gf.create_geoloc('madrid.csv')"
   ]
  },
  {
   "cell_type": "code",
   "execution_count": 9,
   "id": "black-singing",
   "metadata": {},
   "outputs": [
    {
     "data": {
      "text/html": [
       "<div>\n",
       "<style scoped>\n",
       "    .dataframe tbody tr th:only-of-type {\n",
       "        vertical-align: middle;\n",
       "    }\n",
       "\n",
       "    .dataframe tbody tr th {\n",
       "        vertical-align: top;\n",
       "    }\n",
       "\n",
       "    .dataframe thead th {\n",
       "        text-align: right;\n",
       "    }\n",
       "</style>\n",
       "<table border=\"1\" class=\"dataframe\">\n",
       "  <thead>\n",
       "    <tr style=\"text-align: right;\">\n",
       "      <th></th>\n",
       "      <th>name</th>\n",
       "      <th>lat</th>\n",
       "      <th>long</th>\n",
       "      <th>category</th>\n",
       "      <th>loc</th>\n",
       "    </tr>\n",
       "  </thead>\n",
       "  <tbody>\n",
       "    <tr>\n",
       "      <th>0</th>\n",
       "      <td>ABC Centre d'Estudis</td>\n",
       "      <td>40.402726</td>\n",
       "      <td>-3.674894</td>\n",
       "      <td>[{'id': '52e81612bcbc57f1066b7a45', 'name': 'P...</td>\n",
       "      <td>{'type': 'Point', 'coordinates': (-3.6748938, ...</td>\n",
       "    </tr>\n",
       "    <tr>\n",
       "      <th>1</th>\n",
       "      <td>Guardería Chiqui Tin Moratalaz</td>\n",
       "      <td>40.409716</td>\n",
       "      <td>-3.653979</td>\n",
       "      <td>[{'id': '52e81612bcbc57f1066b7a45', 'name': 'P...</td>\n",
       "      <td>{'type': 'Point', 'coordinates': (-3.653978810...</td>\n",
       "    </tr>\n",
       "    <tr>\n",
       "      <th>2</th>\n",
       "      <td>Foodies in the City</td>\n",
       "      <td>40.421212</td>\n",
       "      <td>-3.717058</td>\n",
       "      <td>[{'id': '52e81612bcbc57f1066b7a45', 'name': 'P...</td>\n",
       "      <td>{'type': 'Point', 'coordinates': (-3.717057899...</td>\n",
       "    </tr>\n",
       "    <tr>\n",
       "      <th>3</th>\n",
       "      <td>Planet Organic Food&amp;Life</td>\n",
       "      <td>40.428808</td>\n",
       "      <td>-3.681333</td>\n",
       "      <td>[{'id': '4bf58dd8d48988d1d3941735', 'name': 'V...</td>\n",
       "      <td>{'type': 'Point', 'coordinates': (-3.681333, 4...</td>\n",
       "    </tr>\n",
       "    <tr>\n",
       "      <th>4</th>\n",
       "      <td>Swagat Indian Restaurant</td>\n",
       "      <td>40.424513</td>\n",
       "      <td>-3.683114</td>\n",
       "      <td>[{'id': '4bf58dd8d48988d1d3941735', 'name': 'V...</td>\n",
       "      <td>{'type': 'Point', 'coordinates': (-3.683114294...</td>\n",
       "    </tr>\n",
       "  </tbody>\n",
       "</table>\n",
       "</div>"
      ],
      "text/plain": [
       "                             name        lat      long  \\\n",
       "0            ABC Centre d'Estudis  40.402726 -3.674894   \n",
       "1  Guardería Chiqui Tin Moratalaz  40.409716 -3.653979   \n",
       "2             Foodies in the City  40.421212 -3.717058   \n",
       "3        Planet Organic Food&Life  40.428808 -3.681333   \n",
       "4        Swagat Indian Restaurant  40.424513 -3.683114   \n",
       "\n",
       "                                            category  \\\n",
       "0  [{'id': '52e81612bcbc57f1066b7a45', 'name': 'P...   \n",
       "1  [{'id': '52e81612bcbc57f1066b7a45', 'name': 'P...   \n",
       "2  [{'id': '52e81612bcbc57f1066b7a45', 'name': 'P...   \n",
       "3  [{'id': '4bf58dd8d48988d1d3941735', 'name': 'V...   \n",
       "4  [{'id': '4bf58dd8d48988d1d3941735', 'name': 'V...   \n",
       "\n",
       "                                                 loc  \n",
       "0  {'type': 'Point', 'coordinates': (-3.6748938, ...  \n",
       "1  {'type': 'Point', 'coordinates': (-3.653978810...  \n",
       "2  {'type': 'Point', 'coordinates': (-3.717057899...  \n",
       "3  {'type': 'Point', 'coordinates': (-3.681333, 4...  \n",
       "4  {'type': 'Point', 'coordinates': (-3.683114294...  "
      ]
     },
     "execution_count": 9,
     "metadata": {},
     "output_type": "execute_result"
    }
   ],
   "source": [
    "gdf_madrid.head()"
   ]
  },
  {
   "cell_type": "code",
   "execution_count": 10,
   "id": "continuous-satisfaction",
   "metadata": {},
   "outputs": [
    {
     "data": {
      "text/plain": [
       "<pymongo.results.InsertManyResult at 0x7f245eabb180>"
      ]
     },
     "execution_count": 10,
     "metadata": {},
     "output_type": "execute_result"
    }
   ],
   "source": [
    "client = MongoClient()\n",
    "db = client.geo\n",
    "collection_madrid = db.madrid\n",
    "collection_madrid.create_index([(\"loc\", \"2dsphere\")])\n",
    "\n",
    "data_madrid = gdf_madrid.to_dict(orient='records')\n",
    "collection_madrid.insert_many(data_madrid)"
   ]
  },
  {
   "cell_type": "markdown",
   "id": "simplified-playback",
   "metadata": {},
   "source": [
    "###  Barcelona collection"
   ]
  },
  {
   "cell_type": "code",
   "execution_count": 11,
   "id": "married-buyer",
   "metadata": {},
   "outputs": [],
   "source": [
    "gdf_barcelona = gf.create_geoloc('barcelona.csv')"
   ]
  },
  {
   "cell_type": "code",
   "execution_count": 12,
   "id": "reduced-costume",
   "metadata": {},
   "outputs": [
    {
     "data": {
      "text/html": [
       "<div>\n",
       "<style scoped>\n",
       "    .dataframe tbody tr th:only-of-type {\n",
       "        vertical-align: middle;\n",
       "    }\n",
       "\n",
       "    .dataframe tbody tr th {\n",
       "        vertical-align: top;\n",
       "    }\n",
       "\n",
       "    .dataframe thead th {\n",
       "        text-align: right;\n",
       "    }\n",
       "</style>\n",
       "<table border=\"1\" class=\"dataframe\">\n",
       "  <thead>\n",
       "    <tr style=\"text-align: right;\">\n",
       "      <th></th>\n",
       "      <th>name</th>\n",
       "      <th>lat</th>\n",
       "      <th>long</th>\n",
       "      <th>category</th>\n",
       "      <th>loc</th>\n",
       "    </tr>\n",
       "  </thead>\n",
       "  <tbody>\n",
       "    <tr>\n",
       "      <th>0</th>\n",
       "      <td>Escola Bressol Municipal Galatea</td>\n",
       "      <td>41.418797</td>\n",
       "      <td>2.140676</td>\n",
       "      <td>'Preschool'</td>\n",
       "      <td>{'type': 'Point', 'coordinates': (2.140676, 41...</td>\n",
       "    </tr>\n",
       "    <tr>\n",
       "      <th>1</th>\n",
       "      <td>Oposicions Cos Superior Gene</td>\n",
       "      <td>41.378087</td>\n",
       "      <td>2.148094</td>\n",
       "      <td>'Preschool'</td>\n",
       "      <td>{'type': 'Point', 'coordinates': (2.1480939000...</td>\n",
       "    </tr>\n",
       "    <tr>\n",
       "      <th>2</th>\n",
       "      <td>kinderbarcelona</td>\n",
       "      <td>41.402935</td>\n",
       "      <td>2.201473</td>\n",
       "      <td>'Preschool'</td>\n",
       "      <td>{'type': 'Point', 'coordinates': (2.2014734745...</td>\n",
       "    </tr>\n",
       "    <tr>\n",
       "      <th>3</th>\n",
       "      <td>Vegetart</td>\n",
       "      <td>41.402839</td>\n",
       "      <td>2.156432</td>\n",
       "      <td>'Vegetarian / Vegan Restaurant'</td>\n",
       "      <td>{'type': 'Point', 'coordinates': (2.1564316749...</td>\n",
       "    </tr>\n",
       "    <tr>\n",
       "      <th>4</th>\n",
       "      <td>Cafè Camèlia</td>\n",
       "      <td>41.405096</td>\n",
       "      <td>2.155479</td>\n",
       "      <td>'Vegetarian / Vegan Restaurant'</td>\n",
       "      <td>{'type': 'Point', 'coordinates': (2.1554787900...</td>\n",
       "    </tr>\n",
       "  </tbody>\n",
       "</table>\n",
       "</div>"
      ],
      "text/plain": [
       "                               name        lat      long  \\\n",
       "0  Escola Bressol Municipal Galatea  41.418797  2.140676   \n",
       "1      Oposicions Cos Superior Gene  41.378087  2.148094   \n",
       "2                   kinderbarcelona  41.402935  2.201473   \n",
       "3                          Vegetart  41.402839  2.156432   \n",
       "4                      Cafè Camèlia  41.405096  2.155479   \n",
       "\n",
       "                           category  \\\n",
       "0                       'Preschool'   \n",
       "1                       'Preschool'   \n",
       "2                       'Preschool'   \n",
       "3   'Vegetarian / Vegan Restaurant'   \n",
       "4   'Vegetarian / Vegan Restaurant'   \n",
       "\n",
       "                                                 loc  \n",
       "0  {'type': 'Point', 'coordinates': (2.140676, 41...  \n",
       "1  {'type': 'Point', 'coordinates': (2.1480939000...  \n",
       "2  {'type': 'Point', 'coordinates': (2.2014734745...  \n",
       "3  {'type': 'Point', 'coordinates': (2.1564316749...  \n",
       "4  {'type': 'Point', 'coordinates': (2.1554787900...  "
      ]
     },
     "execution_count": 12,
     "metadata": {},
     "output_type": "execute_result"
    }
   ],
   "source": [
    "gdf_barcelona.head()"
   ]
  },
  {
   "cell_type": "code",
   "execution_count": 13,
   "id": "tutorial-virtue",
   "metadata": {},
   "outputs": [
    {
     "data": {
      "text/plain": [
       "<pymongo.results.InsertManyResult at 0x7f24ac33db40>"
      ]
     },
     "execution_count": 13,
     "metadata": {},
     "output_type": "execute_result"
    }
   ],
   "source": [
    "client = MongoClient()\n",
    "db = client.geo\n",
    "collection_barcelona = db.barcelona\n",
    "collection_barcelona.create_index([(\"loc\", \"2dsphere\")])\n",
    "\n",
    "data_barcelona = gdf_barcelona.to_dict(orient='records')\n",
    "collection_barcelona.insert_many(data_barcelona)"
   ]
  },
  {
   "cell_type": "markdown",
   "id": "reduced-version",
   "metadata": {},
   "source": [
    "## GeoQueries"
   ]
  },
  {
   "cell_type": "markdown",
   "id": "convinced-filename",
   "metadata": {},
   "source": [
    "### Creating the queries"
   ]
  },
  {
   "cell_type": "markdown",
   "id": "selective-dining",
   "metadata": {},
   "source": [
    "#### Bilbao"
   ]
  },
  {
   "cell_type": "code",
   "execution_count": 16,
   "id": "sensitive-beijing",
   "metadata": {},
   "outputs": [],
   "source": [
    "bilbao = gf.queries_close(collection_bilbao, -2.9253, 43.2627)\n",
    "bilbao_check= gf.check_results(bilbao)"
   ]
  },
  {
   "cell_type": "code",
   "execution_count": 17,
   "id": "corporate-prefix",
   "metadata": {},
   "outputs": [
    {
     "data": {
      "text/plain": [
       "'Nice! we have found  156  results'"
      ]
     },
     "execution_count": 17,
     "metadata": {},
     "output_type": "execute_result"
    }
   ],
   "source": [
    "bilbao_check"
   ]
  },
  {
   "cell_type": "code",
   "execution_count": 18,
   "id": "prompt-singing",
   "metadata": {},
   "outputs": [
    {
     "data": {
      "text/html": [
       "<div>\n",
       "<style scoped>\n",
       "    .dataframe tbody tr th:only-of-type {\n",
       "        vertical-align: middle;\n",
       "    }\n",
       "\n",
       "    .dataframe tbody tr th {\n",
       "        vertical-align: top;\n",
       "    }\n",
       "\n",
       "    .dataframe thead th {\n",
       "        text-align: right;\n",
       "    }\n",
       "</style>\n",
       "<table border=\"1\" class=\"dataframe\">\n",
       "  <thead>\n",
       "    <tr style=\"text-align: right;\">\n",
       "      <th></th>\n",
       "      <th>_id</th>\n",
       "      <th>name</th>\n",
       "      <th>lat</th>\n",
       "      <th>long</th>\n",
       "      <th>category</th>\n",
       "      <th>loc</th>\n",
       "      <th>distance</th>\n",
       "    </tr>\n",
       "  </thead>\n",
       "  <tbody>\n",
       "    <tr>\n",
       "      <th>0</th>\n",
       "      <td>{'$oid': '6020223c70aebdade83ada62'}</td>\n",
       "      <td>La Camelia Vegan-Bar</td>\n",
       "      <td>43.261577</td>\n",
       "      <td>-2.925420</td>\n",
       "      <td>'Vegetarian / Vegan Restaurant'</td>\n",
       "      <td>{'type': 'Point', 'coordinates': [-2.92542, 43...</td>\n",
       "      <td>0.125249</td>\n",
       "    </tr>\n",
       "    <tr>\n",
       "      <th>1</th>\n",
       "      <td>{'$oid': '60202af8b1c4f08d4af2c8a2'}</td>\n",
       "      <td>La Camelia Vegan-Bar</td>\n",
       "      <td>43.261577</td>\n",
       "      <td>-2.925420</td>\n",
       "      <td>'Vegetarian / Vegan Restaurant'</td>\n",
       "      <td>{'type': 'Point', 'coordinates': [-2.92542, 43...</td>\n",
       "      <td>0.125249</td>\n",
       "    </tr>\n",
       "    <tr>\n",
       "      <th>2</th>\n",
       "      <td>{'$oid': '6020389fb060d7ce3768e255'}</td>\n",
       "      <td>La Camelia Vegan-Bar</td>\n",
       "      <td>43.261577</td>\n",
       "      <td>-2.925420</td>\n",
       "      <td>[{'id': '4bf58dd8d48988d1d3941735', 'name': 'V...</td>\n",
       "      <td>{'type': 'Point', 'coordinates': [-2.92542, 43...</td>\n",
       "      <td>0.125249</td>\n",
       "    </tr>\n",
       "    <tr>\n",
       "      <th>3</th>\n",
       "      <td>{'$oid': '602044d755ef8a2f9acf0589'}</td>\n",
       "      <td>La Camelia Vegan-Bar</td>\n",
       "      <td>43.261577</td>\n",
       "      <td>-2.925420</td>\n",
       "      <td>[{'id': '4bf58dd8d48988d1d3941735', 'name': 'V...</td>\n",
       "      <td>{'type': 'Point', 'coordinates': [-2.92542, 43...</td>\n",
       "      <td>0.125249</td>\n",
       "    </tr>\n",
       "    <tr>\n",
       "      <th>4</th>\n",
       "      <td>{'$oid': '6020223c70aebdade83ada77'}</td>\n",
       "      <td>NBA Fan Zone</td>\n",
       "      <td>43.261363</td>\n",
       "      <td>-2.923943</td>\n",
       "      <td>'Basketball'</td>\n",
       "      <td>{'type': 'Point', 'coordinates': [-2.923942690...</td>\n",
       "      <td>0.184876</td>\n",
       "    </tr>\n",
       "  </tbody>\n",
       "</table>\n",
       "</div>"
      ],
      "text/plain": [
       "                                    _id                  name        lat  \\\n",
       "0  {'$oid': '6020223c70aebdade83ada62'}  La Camelia Vegan-Bar  43.261577   \n",
       "1  {'$oid': '60202af8b1c4f08d4af2c8a2'}  La Camelia Vegan-Bar  43.261577   \n",
       "2  {'$oid': '6020389fb060d7ce3768e255'}  La Camelia Vegan-Bar  43.261577   \n",
       "3  {'$oid': '602044d755ef8a2f9acf0589'}  La Camelia Vegan-Bar  43.261577   \n",
       "4  {'$oid': '6020223c70aebdade83ada77'}          NBA Fan Zone  43.261363   \n",
       "\n",
       "       long                                           category  \\\n",
       "0 -2.925420                    'Vegetarian / Vegan Restaurant'   \n",
       "1 -2.925420                    'Vegetarian / Vegan Restaurant'   \n",
       "2 -2.925420  [{'id': '4bf58dd8d48988d1d3941735', 'name': 'V...   \n",
       "3 -2.925420  [{'id': '4bf58dd8d48988d1d3941735', 'name': 'V...   \n",
       "4 -2.923943                                       'Basketball'   \n",
       "\n",
       "                                                 loc  distance  \n",
       "0  {'type': 'Point', 'coordinates': [-2.92542, 43...  0.125249  \n",
       "1  {'type': 'Point', 'coordinates': [-2.92542, 43...  0.125249  \n",
       "2  {'type': 'Point', 'coordinates': [-2.92542, 43...  0.125249  \n",
       "3  {'type': 'Point', 'coordinates': [-2.92542, 43...  0.125249  \n",
       "4  {'type': 'Point', 'coordinates': [-2.923942690...  0.184876  "
      ]
     },
     "execution_count": 18,
     "metadata": {},
     "output_type": "execute_result"
    }
   ],
   "source": [
    "df_bilbao = pd.DataFrame(bilbao)\n",
    "df_bilbao.head()"
   ]
  },
  {
   "cell_type": "markdown",
   "id": "moved-wonder",
   "metadata": {},
   "source": [
    "#### Gijon"
   ]
  },
  {
   "cell_type": "code",
   "execution_count": 19,
   "id": "failing-bearing",
   "metadata": {},
   "outputs": [],
   "source": [
    "gijon = gf.queries_close(collection_gijon, -5.7258, 43.5317)\n",
    "gijon_check= gf.check_results(gijon)"
   ]
  },
  {
   "cell_type": "code",
   "execution_count": 20,
   "id": "greenhouse-joint",
   "metadata": {},
   "outputs": [
    {
     "data": {
      "text/plain": [
       "'Nice! we have found  72  results'"
      ]
     },
     "execution_count": 20,
     "metadata": {},
     "output_type": "execute_result"
    }
   ],
   "source": [
    "gijon_check"
   ]
  },
  {
   "cell_type": "code",
   "execution_count": 21,
   "id": "accessory-spread",
   "metadata": {},
   "outputs": [
    {
     "data": {
      "text/html": [
       "<div>\n",
       "<style scoped>\n",
       "    .dataframe tbody tr th:only-of-type {\n",
       "        vertical-align: middle;\n",
       "    }\n",
       "\n",
       "    .dataframe tbody tr th {\n",
       "        vertical-align: top;\n",
       "    }\n",
       "\n",
       "    .dataframe thead th {\n",
       "        text-align: right;\n",
       "    }\n",
       "</style>\n",
       "<table border=\"1\" class=\"dataframe\">\n",
       "  <thead>\n",
       "    <tr style=\"text-align: right;\">\n",
       "      <th></th>\n",
       "      <th>_id</th>\n",
       "      <th>name</th>\n",
       "      <th>lat</th>\n",
       "      <th>long</th>\n",
       "      <th>category</th>\n",
       "      <th>loc</th>\n",
       "      <th>distance</th>\n",
       "    </tr>\n",
       "  </thead>\n",
       "  <tbody>\n",
       "    <tr>\n",
       "      <th>0</th>\n",
       "      <td>{'$oid': '6020262970aebdade83ada9a'}</td>\n",
       "      <td>Polideportivo El nido</td>\n",
       "      <td>40.240575</td>\n",
       "      <td>-3.777031</td>\n",
       "      <td>'Basketball Court'</td>\n",
       "      <td>{'type': 'Point', 'coordinates': [-3.777031271...</td>\n",
       "      <td>399.904299</td>\n",
       "    </tr>\n",
       "    <tr>\n",
       "      <th>1</th>\n",
       "      <td>{'$oid': '602044d755ef8a2f9acf05c1'}</td>\n",
       "      <td>Polideportivo El nido</td>\n",
       "      <td>40.240575</td>\n",
       "      <td>-3.777031</td>\n",
       "      <td>[{'id': '4bf58dd8d48988d1e1941735', 'name': 'B...</td>\n",
       "      <td>{'type': 'Point', 'coordinates': [-3.777031271...</td>\n",
       "      <td>399.904299</td>\n",
       "    </tr>\n",
       "    <tr>\n",
       "      <th>2</th>\n",
       "      <td>{'$oid': '60202b59b1c4f08d4af2c8da'}</td>\n",
       "      <td>Polideportivo El nido</td>\n",
       "      <td>40.240575</td>\n",
       "      <td>-3.777031</td>\n",
       "      <td>'Basketball Court'</td>\n",
       "      <td>{'type': 'Point', 'coordinates': [-3.777031271...</td>\n",
       "      <td>399.904299</td>\n",
       "    </tr>\n",
       "    <tr>\n",
       "      <th>3</th>\n",
       "      <td>{'$oid': '602044d755ef8a2f9acf05bc'}</td>\n",
       "      <td>Parque Del Pilar</td>\n",
       "      <td>40.054756</td>\n",
       "      <td>-3.992189</td>\n",
       "      <td>[{'id': '4bf58dd8d48988d163941735', 'name': 'P...</td>\n",
       "      <td>{'type': 'Point', 'coordinates': [-3.992189, 4...</td>\n",
       "      <td>412.440290</td>\n",
       "    </tr>\n",
       "    <tr>\n",
       "      <th>4</th>\n",
       "      <td>{'$oid': '60202b59b1c4f08d4af2c8d5'}</td>\n",
       "      <td>Parque Del Pilar</td>\n",
       "      <td>40.054756</td>\n",
       "      <td>-3.992189</td>\n",
       "      <td>'Park'</td>\n",
       "      <td>{'type': 'Point', 'coordinates': [-3.992189, 4...</td>\n",
       "      <td>412.440290</td>\n",
       "    </tr>\n",
       "  </tbody>\n",
       "</table>\n",
       "</div>"
      ],
      "text/plain": [
       "                                    _id                   name        lat  \\\n",
       "0  {'$oid': '6020262970aebdade83ada9a'}  Polideportivo El nido  40.240575   \n",
       "1  {'$oid': '602044d755ef8a2f9acf05c1'}  Polideportivo El nido  40.240575   \n",
       "2  {'$oid': '60202b59b1c4f08d4af2c8da'}  Polideportivo El nido  40.240575   \n",
       "3  {'$oid': '602044d755ef8a2f9acf05bc'}       Parque Del Pilar  40.054756   \n",
       "4  {'$oid': '60202b59b1c4f08d4af2c8d5'}       Parque Del Pilar  40.054756   \n",
       "\n",
       "       long                                           category  \\\n",
       "0 -3.777031                                 'Basketball Court'   \n",
       "1 -3.777031  [{'id': '4bf58dd8d48988d1e1941735', 'name': 'B...   \n",
       "2 -3.777031                                 'Basketball Court'   \n",
       "3 -3.992189  [{'id': '4bf58dd8d48988d163941735', 'name': 'P...   \n",
       "4 -3.992189                                             'Park'   \n",
       "\n",
       "                                                 loc    distance  \n",
       "0  {'type': 'Point', 'coordinates': [-3.777031271...  399.904299  \n",
       "1  {'type': 'Point', 'coordinates': [-3.777031271...  399.904299  \n",
       "2  {'type': 'Point', 'coordinates': [-3.777031271...  399.904299  \n",
       "3  {'type': 'Point', 'coordinates': [-3.992189, 4...  412.440290  \n",
       "4  {'type': 'Point', 'coordinates': [-3.992189, 4...  412.440290  "
      ]
     },
     "execution_count": 21,
     "metadata": {},
     "output_type": "execute_result"
    }
   ],
   "source": [
    "df_gijon = pd.DataFrame(gijon)\n",
    "df_gijon.head()"
   ]
  },
  {
   "cell_type": "markdown",
   "id": "studied-transition",
   "metadata": {},
   "source": [
    "####  Madrid"
   ]
  },
  {
   "cell_type": "code",
   "execution_count": 22,
   "id": "mature-praise",
   "metadata": {},
   "outputs": [],
   "source": [
    "madrid = gf.queries_close(collection_madrid, -3.6793, 40.42955)\n",
    "madrid_check= gf.check_results(madrid)"
   ]
  },
  {
   "cell_type": "code",
   "execution_count": 23,
   "id": "emerging-bacon",
   "metadata": {},
   "outputs": [
    {
     "data": {
      "text/plain": [
       "'Nice! we have found  345  results'"
      ]
     },
     "execution_count": 23,
     "metadata": {},
     "output_type": "execute_result"
    }
   ],
   "source": [
    "madrid_check"
   ]
  },
  {
   "cell_type": "code",
   "execution_count": 24,
   "id": "taken-paintball",
   "metadata": {},
   "outputs": [
    {
     "data": {
      "text/html": [
       "<div>\n",
       "<style scoped>\n",
       "    .dataframe tbody tr th:only-of-type {\n",
       "        vertical-align: middle;\n",
       "    }\n",
       "\n",
       "    .dataframe tbody tr th {\n",
       "        vertical-align: top;\n",
       "    }\n",
       "\n",
       "    .dataframe thead th {\n",
       "        text-align: right;\n",
       "    }\n",
       "</style>\n",
       "<table border=\"1\" class=\"dataframe\">\n",
       "  <thead>\n",
       "    <tr style=\"text-align: right;\">\n",
       "      <th></th>\n",
       "      <th>_id</th>\n",
       "      <th>name</th>\n",
       "      <th>lat</th>\n",
       "      <th>long</th>\n",
       "      <th>category</th>\n",
       "      <th>loc</th>\n",
       "      <th>distance</th>\n",
       "    </tr>\n",
       "  </thead>\n",
       "  <tbody>\n",
       "    <tr>\n",
       "      <th>0</th>\n",
       "      <td>{'$oid': '602029c970aebdade83adaa6'}</td>\n",
       "      <td>Planet Organic Food&amp;Life</td>\n",
       "      <td>40.428808</td>\n",
       "      <td>-3.681333</td>\n",
       "      <td>'Vegetarian / Vegan Restaurant'</td>\n",
       "      <td>{'type': 'Point', 'coordinates': [-3.681333, 4...</td>\n",
       "      <td>0.190836</td>\n",
       "    </tr>\n",
       "    <tr>\n",
       "      <th>1</th>\n",
       "      <td>{'$oid': '602044d755ef8a2f9acf05cd'}</td>\n",
       "      <td>Planet Organic Food&amp;Life</td>\n",
       "      <td>40.428808</td>\n",
       "      <td>-3.681333</td>\n",
       "      <td>[{'id': '4bf58dd8d48988d1d3941735', 'name': 'V...</td>\n",
       "      <td>{'type': 'Point', 'coordinates': [-3.681333, 4...</td>\n",
       "      <td>0.190836</td>\n",
       "    </tr>\n",
       "    <tr>\n",
       "      <th>2</th>\n",
       "      <td>{'$oid': '60202a6fb1c4f08d4af2c831'}</td>\n",
       "      <td>Planet Organic Food&amp;Life</td>\n",
       "      <td>40.428808</td>\n",
       "      <td>-3.681333</td>\n",
       "      <td>'Vegetarian / Vegan Restaurant'</td>\n",
       "      <td>{'type': 'Point', 'coordinates': [-3.681333, 4...</td>\n",
       "      <td>0.190836</td>\n",
       "    </tr>\n",
       "    <tr>\n",
       "      <th>3</th>\n",
       "      <td>{'$oid': '602029c970aebdade83adac9'}</td>\n",
       "      <td>Pasillo de Diego de León</td>\n",
       "      <td>40.432397</td>\n",
       "      <td>-3.674888</td>\n",
       "      <td>'Platform'</td>\n",
       "      <td>{'type': 'Point', 'coordinates': [-3.674888329...</td>\n",
       "      <td>0.489569</td>\n",
       "    </tr>\n",
       "    <tr>\n",
       "      <th>4</th>\n",
       "      <td>{'$oid': '60202a6fb1c4f08d4af2c854'}</td>\n",
       "      <td>Pasillo de Diego de León</td>\n",
       "      <td>40.432397</td>\n",
       "      <td>-3.674888</td>\n",
       "      <td>'Platform'</td>\n",
       "      <td>{'type': 'Point', 'coordinates': [-3.674888329...</td>\n",
       "      <td>0.489569</td>\n",
       "    </tr>\n",
       "  </tbody>\n",
       "</table>\n",
       "</div>"
      ],
      "text/plain": [
       "                                    _id                      name        lat  \\\n",
       "0  {'$oid': '602029c970aebdade83adaa6'}  Planet Organic Food&Life  40.428808   \n",
       "1  {'$oid': '602044d755ef8a2f9acf05cd'}  Planet Organic Food&Life  40.428808   \n",
       "2  {'$oid': '60202a6fb1c4f08d4af2c831'}  Planet Organic Food&Life  40.428808   \n",
       "3  {'$oid': '602029c970aebdade83adac9'}  Pasillo de Diego de León  40.432397   \n",
       "4  {'$oid': '60202a6fb1c4f08d4af2c854'}  Pasillo de Diego de León  40.432397   \n",
       "\n",
       "       long                                           category  \\\n",
       "0 -3.681333                    'Vegetarian / Vegan Restaurant'   \n",
       "1 -3.681333  [{'id': '4bf58dd8d48988d1d3941735', 'name': 'V...   \n",
       "2 -3.681333                    'Vegetarian / Vegan Restaurant'   \n",
       "3 -3.674888                                         'Platform'   \n",
       "4 -3.674888                                         'Platform'   \n",
       "\n",
       "                                                 loc  distance  \n",
       "0  {'type': 'Point', 'coordinates': [-3.681333, 4...  0.190836  \n",
       "1  {'type': 'Point', 'coordinates': [-3.681333, 4...  0.190836  \n",
       "2  {'type': 'Point', 'coordinates': [-3.681333, 4...  0.190836  \n",
       "3  {'type': 'Point', 'coordinates': [-3.674888329...  0.489569  \n",
       "4  {'type': 'Point', 'coordinates': [-3.674888329...  0.489569  "
      ]
     },
     "execution_count": 24,
     "metadata": {},
     "output_type": "execute_result"
    }
   ],
   "source": [
    "df_madrid = pd.DataFrame(madrid)\n",
    "df_madrid.head()"
   ]
  },
  {
   "cell_type": "markdown",
   "id": "agricultural-adams",
   "metadata": {},
   "source": [
    "####  Barcelona"
   ]
  },
  {
   "cell_type": "code",
   "execution_count": 25,
   "id": "satisfied-label",
   "metadata": {},
   "outputs": [],
   "source": [
    "barcelona = gf.queries_close(collection_barcelona, 2.15379, 41.40359)\n",
    "barcelona_check= gf.check_results(barcelona)"
   ]
  },
  {
   "cell_type": "code",
   "execution_count": 26,
   "id": "annual-majority",
   "metadata": {},
   "outputs": [
    {
     "data": {
      "text/plain": [
       "'Nice! we have found  130  results'"
      ]
     },
     "execution_count": 26,
     "metadata": {},
     "output_type": "execute_result"
    }
   ],
   "source": [
    "barcelona_check"
   ]
  },
  {
   "cell_type": "code",
   "execution_count": 27,
   "id": "north-minnesota",
   "metadata": {},
   "outputs": [
    {
     "data": {
      "text/html": [
       "<div>\n",
       "<style scoped>\n",
       "    .dataframe tbody tr th:only-of-type {\n",
       "        vertical-align: middle;\n",
       "    }\n",
       "\n",
       "    .dataframe tbody tr th {\n",
       "        vertical-align: top;\n",
       "    }\n",
       "\n",
       "    .dataframe thead th {\n",
       "        text-align: right;\n",
       "    }\n",
       "</style>\n",
       "<table border=\"1\" class=\"dataframe\">\n",
       "  <thead>\n",
       "    <tr style=\"text-align: right;\">\n",
       "      <th></th>\n",
       "      <th>_id</th>\n",
       "      <th>name</th>\n",
       "      <th>lat</th>\n",
       "      <th>long</th>\n",
       "      <th>category</th>\n",
       "      <th>loc</th>\n",
       "      <th>distance</th>\n",
       "    </tr>\n",
       "  </thead>\n",
       "  <tbody>\n",
       "    <tr>\n",
       "      <th>0</th>\n",
       "      <td>{'$oid': '60203c9bb060d7ce3768e284'}</td>\n",
       "      <td>Woki Organic Market - Gracia</td>\n",
       "      <td>41.403139</td>\n",
       "      <td>2.154027</td>\n",
       "      <td>'Vegetarian / Vegan Restaurant'</td>\n",
       "      <td>{'type': 'Point', 'coordinates': [2.1540274292...</td>\n",
       "      <td>0.053962</td>\n",
       "    </tr>\n",
       "    <tr>\n",
       "      <th>1</th>\n",
       "      <td>{'$oid': '602044d755ef8a2f9acf0645'}</td>\n",
       "      <td>Woki Organic Market - Gracia</td>\n",
       "      <td>41.403139</td>\n",
       "      <td>2.154027</td>\n",
       "      <td>'Vegetarian / Vegan Restaurant'</td>\n",
       "      <td>{'type': 'Point', 'coordinates': [2.1540274292...</td>\n",
       "      <td>0.053962</td>\n",
       "    </tr>\n",
       "    <tr>\n",
       "      <th>2</th>\n",
       "      <td>{'$oid': '60203c9bb060d7ce3768e281'}</td>\n",
       "      <td>Cafè Camèlia</td>\n",
       "      <td>41.405096</td>\n",
       "      <td>2.155479</td>\n",
       "      <td>'Vegetarian / Vegan Restaurant'</td>\n",
       "      <td>{'type': 'Point', 'coordinates': [2.1554787900...</td>\n",
       "      <td>0.218780</td>\n",
       "    </tr>\n",
       "    <tr>\n",
       "      <th>3</th>\n",
       "      <td>{'$oid': '602044d755ef8a2f9acf0642'}</td>\n",
       "      <td>Cafè Camèlia</td>\n",
       "      <td>41.405096</td>\n",
       "      <td>2.155479</td>\n",
       "      <td>'Vegetarian / Vegan Restaurant'</td>\n",
       "      <td>{'type': 'Point', 'coordinates': [2.1554787900...</td>\n",
       "      <td>0.218780</td>\n",
       "    </tr>\n",
       "    <tr>\n",
       "      <th>4</th>\n",
       "      <td>{'$oid': '60203c9bb060d7ce3768e280'}</td>\n",
       "      <td>Vegetart</td>\n",
       "      <td>41.402839</td>\n",
       "      <td>2.156432</td>\n",
       "      <td>'Vegetarian / Vegan Restaurant'</td>\n",
       "      <td>{'type': 'Point', 'coordinates': [2.1564316749...</td>\n",
       "      <td>0.235611</td>\n",
       "    </tr>\n",
       "  </tbody>\n",
       "</table>\n",
       "</div>"
      ],
      "text/plain": [
       "                                    _id                          name  \\\n",
       "0  {'$oid': '60203c9bb060d7ce3768e284'}  Woki Organic Market - Gracia   \n",
       "1  {'$oid': '602044d755ef8a2f9acf0645'}  Woki Organic Market - Gracia   \n",
       "2  {'$oid': '60203c9bb060d7ce3768e281'}                  Cafè Camèlia   \n",
       "3  {'$oid': '602044d755ef8a2f9acf0642'}                  Cafè Camèlia   \n",
       "4  {'$oid': '60203c9bb060d7ce3768e280'}                      Vegetart   \n",
       "\n",
       "         lat      long                          category  \\\n",
       "0  41.403139  2.154027   'Vegetarian / Vegan Restaurant'   \n",
       "1  41.403139  2.154027   'Vegetarian / Vegan Restaurant'   \n",
       "2  41.405096  2.155479   'Vegetarian / Vegan Restaurant'   \n",
       "3  41.405096  2.155479   'Vegetarian / Vegan Restaurant'   \n",
       "4  41.402839  2.156432   'Vegetarian / Vegan Restaurant'   \n",
       "\n",
       "                                                 loc  distance  \n",
       "0  {'type': 'Point', 'coordinates': [2.1540274292...  0.053962  \n",
       "1  {'type': 'Point', 'coordinates': [2.1540274292...  0.053962  \n",
       "2  {'type': 'Point', 'coordinates': [2.1554787900...  0.218780  \n",
       "3  {'type': 'Point', 'coordinates': [2.1554787900...  0.218780  \n",
       "4  {'type': 'Point', 'coordinates': [2.1564316749...  0.235611  "
      ]
     },
     "execution_count": 27,
     "metadata": {},
     "output_type": "execute_result"
    }
   ],
   "source": [
    "df_barcelona = pd.DataFrame(barcelona)\n",
    "df_barcelona.head()"
   ]
  },
  {
   "cell_type": "code",
   "execution_count": null,
   "id": "shaped-stanley",
   "metadata": {},
   "outputs": [],
   "source": []
  },
  {
   "cell_type": "code",
   "execution_count": null,
   "id": "animated-elevation",
   "metadata": {},
   "outputs": [],
   "source": []
  },
  {
   "cell_type": "code",
   "execution_count": null,
   "id": "twelve-longitude",
   "metadata": {},
   "outputs": [],
   "source": []
  },
  {
   "cell_type": "code",
   "execution_count": null,
   "id": "invisible-express",
   "metadata": {},
   "outputs": [],
   "source": []
  }
 ],
 "metadata": {
  "kernelspec": {
   "display_name": "Python 3",
   "language": "python",
   "name": "python3"
  },
  "language_info": {
   "codemirror_mode": {
    "name": "ipython",
    "version": 3
   },
   "file_extension": ".py",
   "mimetype": "text/x-python",
   "name": "python",
   "nbconvert_exporter": "python",
   "pygments_lexer": "ipython3",
   "version": "3.8.5"
  },
  "toc": {
   "base_numbering": 1,
   "nav_menu": {},
   "number_sections": true,
   "sideBar": true,
   "skip_h1_title": false,
   "title_cell": "Table of Contents",
   "title_sidebar": "Contents",
   "toc_cell": false,
   "toc_position": {},
   "toc_section_display": true,
   "toc_window_display": false
  },
  "varInspector": {
   "cols": {
    "lenName": 16,
    "lenType": 16,
    "lenVar": 40
   },
   "kernels_config": {
    "python": {
     "delete_cmd_postfix": "",
     "delete_cmd_prefix": "del ",
     "library": "var_list.py",
     "varRefreshCmd": "print(var_dic_list())"
    },
    "r": {
     "delete_cmd_postfix": ") ",
     "delete_cmd_prefix": "rm(",
     "library": "var_list.r",
     "varRefreshCmd": "cat(var_dic_list()) "
    }
   },
   "types_to_exclude": [
    "module",
    "function",
    "builtin_function_or_method",
    "instance",
    "_Feature"
   ],
   "window_display": false
  }
 },
 "nbformat": 4,
 "nbformat_minor": 5
}
