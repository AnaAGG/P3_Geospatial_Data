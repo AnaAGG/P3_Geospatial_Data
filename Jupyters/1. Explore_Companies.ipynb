{
 "cells": [
  {
   "cell_type": "markdown",
   "metadata": {},
   "source": [
    "### Libraries"
   ]
  },
  {
   "cell_type": "code",
   "execution_count": 1,
   "metadata": {},
   "outputs": [],
   "source": [
    "from pymongo import MongoClient"
   ]
  },
  {
   "cell_type": "markdown",
   "metadata": {},
   "source": [
    "### Connecting with MongoCompas"
   ]
  },
  {
   "cell_type": "code",
   "execution_count": 2,
   "metadata": {},
   "outputs": [],
   "source": [
    "client = MongoClient()"
   ]
  },
  {
   "cell_type": "code",
   "execution_count": 3,
   "metadata": {},
   "outputs": [],
   "source": [
    "companies = client.companies.companies\n",
    "offices = client.companies.offices"
   ]
  },
  {
   "cell_type": "markdown",
   "metadata": {},
   "source": [
    "### Convert the companies data in the correct format"
   ]
  },
  {
   "cell_type": "markdown",
   "metadata": {},
   "source": [
    "As some companies have several offices the first step was separate the different offices"
   ]
  },
  {
   "cell_type": "code",
   "execution_count": 4,
   "metadata": {},
   "outputs": [],
   "source": [
    "res = companies.aggregate([{\"$unwind\":\"$offices\"},{\"$project\":{\"_id\":0}}])"
   ]
  },
  {
   "cell_type": "code",
   "execution_count": 5,
   "metadata": {},
   "outputs": [
    {
     "data": {
      "text/plain": [
       "<pymongo.results.InsertManyResult at 0x7f28dcc20780>"
      ]
     },
     "execution_count": 5,
     "metadata": {},
     "output_type": "execute_result"
    }
   ],
   "source": [
    "offices.insert_many(res)"
   ]
  },
  {
   "cell_type": "code",
   "execution_count": 6,
   "metadata": {},
   "outputs": [],
   "source": [
    "res = companies.aggregate([\n",
    "    {\"$unwind\":\"$offices\"},\n",
    "    {\"$match\":{\"offices.latitude\":{\"$ne\":None}, \"offices.longitude\":{\"$ne\":None}}},\n",
    "    {\"$project\":{\"_id\":0}}])"
   ]
  },
  {
   "cell_type": "code",
   "execution_count": 7,
   "metadata": {},
   "outputs": [
    {
     "data": {
      "text/plain": [
       "<pymongo.results.InsertManyResult at 0x7f28e91dc8c0>"
      ]
     },
     "execution_count": 7,
     "metadata": {},
     "output_type": "execute_result"
    }
   ],
   "source": [
    "offices.drop()  # Delelting previously inserted data with nulls.\n",
    "offices.insert_many(res)"
   ]
  },
  {
   "cell_type": "markdown",
   "metadata": {},
   "source": [
    "#### Company search"
   ]
  },
  {
   "cell_type": "code",
   "execution_count": 10,
   "metadata": {},
   "outputs": [],
   "source": [
    "res = list(offices.find({},{\"offices\":1}))"
   ]
  },
  {
   "cell_type": "code",
   "execution_count": 12,
   "metadata": {},
   "outputs": [],
   "source": [
    "query = {'$and': [{'category_code': \"web\"},\n",
    "                  {\"offices.country_code\": 'ESP'}, {'number_of_employees': {'$lt': 50}}, {'founded_year': {'$gt': 2007}}]}"
   ]
  },
  {
   "cell_type": "code",
   "execution_count": 18,
   "metadata": {},
   "outputs": [],
   "source": [
    "selected_offices = list(offices.find(query,{\"_id\":0,'offices': 1, \"name\": 1}))"
   ]
  },
  {
   "cell_type": "code",
   "execution_count": 19,
   "metadata": {},
   "outputs": [
    {
     "data": {
      "text/plain": [
       "[{'name': 'Forvo',\n",
       "  'offices': {'description': 'San Sebastián',\n",
       "   'address1': '',\n",
       "   'address2': '',\n",
       "   'zip_code': '20006',\n",
       "   'city': 'San Sebastián',\n",
       "   'state_code': None,\n",
       "   'country_code': 'ESP',\n",
       "   'latitude': 43.3135579,\n",
       "   'longitude': -1.9820361}},\n",
       " {'name': 'Heralsoft',\n",
       "  'offices': {'description': 'Mini Office',\n",
       "   'address1': 'Rio Nervion 12',\n",
       "   'address2': '',\n",
       "   'zip_code': '33210',\n",
       "   'city': 'Gijon',\n",
       "   'state_code': None,\n",
       "   'country_code': 'ESP',\n",
       "   'latitude': 43.5222205,\n",
       "   'longitude': -5.665828}},\n",
       " {'name': 'Zankyou',\n",
       "  'offices': {'description': 'Madrid',\n",
       "   'address1': 'Faraday 7',\n",
       "   'address2': '',\n",
       "   'zip_code': '28049',\n",
       "   'city': 'Madrid',\n",
       "   'state_code': 'ME',\n",
       "   'country_code': 'ESP',\n",
       "   'latitude': 40.6070897,\n",
       "   'longitude': -3.6912754}},\n",
       " {'name': 'alteregoweb',\n",
       "  'offices': {'description': '',\n",
       "   'address1': 'Avda. Maria Àngels Anglada,',\n",
       "   'address2': '2 1er 1a',\n",
       "   'zip_code': '17600',\n",
       "   'city': 'Figueres, Girona',\n",
       "   'state_code': None,\n",
       "   'country_code': 'ESP',\n",
       "   'latitude': 42.2674977,\n",
       "   'longitude': 2.9608395}},\n",
       " {'name': 'Hostarting',\n",
       "  'offices': {'description': 'Hostarting',\n",
       "   'address1': 'Recodo del Pinar 9',\n",
       "   'address2': '',\n",
       "   'zip_code': '45003',\n",
       "   'city': 'Toledo',\n",
       "   'state_code': None,\n",
       "   'country_code': 'ESP',\n",
       "   'latitude': 39.8725119,\n",
       "   'longitude': -4.0210296}},\n",
       " {'name': 'Teambox',\n",
       "  'offices': {'description': 'Barcelona Office',\n",
       "   'address1': 'Ronda Universitat 31',\n",
       "   'address2': '5o 4a',\n",
       "   'zip_code': '08007',\n",
       "   'city': 'Barcelona',\n",
       "   'state_code': 'CA',\n",
       "   'country_code': 'ESP',\n",
       "   'latitude': 41.4063346,\n",
       "   'longitude': 2.1920231}}]"
      ]
     },
     "execution_count": 19,
     "metadata": {},
     "output_type": "execute_result"
    }
   ],
   "source": [
    "selected_offices "
   ]
  },
  {
   "cell_type": "code",
   "execution_count": null,
   "metadata": {},
   "outputs": [],
   "source": []
  }
 ],
 "metadata": {
  "kernelspec": {
   "display_name": "Python 3",
   "language": "python",
   "name": "python3"
  },
  "language_info": {
   "codemirror_mode": {
    "name": "ipython",
    "version": 3
   },
   "file_extension": ".py",
   "mimetype": "text/x-python",
   "name": "python",
   "nbconvert_exporter": "python",
   "pygments_lexer": "ipython3",
   "version": "3.8.5"
  },
  "toc": {
   "base_numbering": 1,
   "nav_menu": {},
   "number_sections": true,
   "sideBar": true,
   "skip_h1_title": false,
   "title_cell": "Table of Contents",
   "title_sidebar": "Contents",
   "toc_cell": false,
   "toc_position": {},
   "toc_section_display": true,
   "toc_window_display": false
  },
  "varInspector": {
   "cols": {
    "lenName": 16,
    "lenType": 16,
    "lenVar": 40
   },
   "kernels_config": {
    "python": {
     "delete_cmd_postfix": "",
     "delete_cmd_prefix": "del ",
     "library": "var_list.py",
     "varRefreshCmd": "print(var_dic_list())"
    },
    "r": {
     "delete_cmd_postfix": ") ",
     "delete_cmd_prefix": "rm(",
     "library": "var_list.r",
     "varRefreshCmd": "cat(var_dic_list()) "
    }
   },
   "types_to_exclude": [
    "module",
    "function",
    "builtin_function_or_method",
    "instance",
    "_Feature"
   ],
   "window_display": false
  }
 },
 "nbformat": 4,
 "nbformat_minor": 2
}
