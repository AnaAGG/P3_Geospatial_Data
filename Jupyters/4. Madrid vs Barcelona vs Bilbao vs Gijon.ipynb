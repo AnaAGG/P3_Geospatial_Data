{
 "cells": [
  {
   "cell_type": "markdown",
   "id": "announced-quick",
   "metadata": {},
   "source": [
    "## Libraries"
   ]
  },
  {
   "cell_type": "code",
   "execution_count": 1,
   "id": "missing-analyst",
   "metadata": {},
   "outputs": [],
   "source": [
    "import sys\n",
    "sys.path.append('../')"
   ]
  },
  {
   "cell_type": "code",
   "execution_count": 2,
   "id": "lucky-arbitration",
   "metadata": {},
   "outputs": [],
   "source": [
    "import pandas as pd\n",
    "import geopandas as gdp\n",
    "import folium\n",
    "from folium import Choropleth, Circle, Marker, Icon, Map\n",
    "from folium.plugins import HeatMap, MarkerCluster\n",
    "import re\n",
    "\n",
    "from src import CleaningFunctions as cf"
   ]
  },
  {
   "cell_type": "markdown",
   "id": "funny-remains",
   "metadata": {},
   "source": [
    "## Load Data "
   ]
  },
  {
   "cell_type": "code",
   "execution_count": 3,
   "id": "subject-hopkins",
   "metadata": {},
   "outputs": [],
   "source": [
    "barcelona = pd.read_csv('../Data/GeoDataFrames/gdf_barcelona.csv')\n",
    "madrid = pd.read_csv('../Data/GeoDataFrames/gdf_madrid.csv')\n",
    "gijon = pd.read_csv('../Data/GeoDataFrames/gdf_gijon.csv')\n",
    "bilbao = pd.read_csv('../Data/GeoDataFrames/gdf_bilbao.csv')"
   ]
  },
  {
   "cell_type": "markdown",
   "id": "structural-thermal",
   "metadata": {},
   "source": [
    "## Cleaning dataframes"
   ]
  },
  {
   "cell_type": "markdown",
   "id": "conditional-appointment",
   "metadata": {},
   "source": [
    "The category column had inverted quotes. I used the replace to remove them and the strip function to remove the spaces between the words. "
   ]
  },
  {
   "cell_type": "code",
   "execution_count": 4,
   "id": "alive-journey",
   "metadata": {},
   "outputs": [
    {
     "name": "stderr",
     "output_type": "stream",
     "text": [
      "../src/CleaningFunctions.py:4: FutureWarning: The default value of regex will change from True to False in a future version.\n",
      "  df[col] = df[col].str.replace(r\"[\\\"\\',]\", '')\n"
     ]
    }
   ],
   "source": [
    "df_madrid = cf.cleaning(madrid, 'category', 'madrid')"
   ]
  },
  {
   "cell_type": "code",
   "execution_count": 5,
   "id": "departmental-lodge",
   "metadata": {},
   "outputs": [
    {
     "name": "stderr",
     "output_type": "stream",
     "text": [
      "../src/CleaningFunctions.py:4: FutureWarning: The default value of regex will change from True to False in a future version.\n",
      "  df[col] = df[col].str.replace(r\"[\\\"\\',]\", '')\n"
     ]
    }
   ],
   "source": [
    "df_barcelona = cf.cleaning(barcelona, 'category', 'barcelona')"
   ]
  },
  {
   "cell_type": "code",
   "execution_count": 6,
   "id": "afraid-celtic",
   "metadata": {},
   "outputs": [
    {
     "name": "stderr",
     "output_type": "stream",
     "text": [
      "../src/CleaningFunctions.py:4: FutureWarning: The default value of regex will change from True to False in a future version.\n",
      "  df[col] = df[col].str.replace(r\"[\\\"\\',]\", '')\n"
     ]
    }
   ],
   "source": [
    "df_gijon = cf.cleaning(gijon, 'category', 'gijon')"
   ]
  },
  {
   "cell_type": "code",
   "execution_count": 7,
   "id": "democratic-satellite",
   "metadata": {},
   "outputs": [
    {
     "name": "stderr",
     "output_type": "stream",
     "text": [
      "../src/CleaningFunctions.py:4: FutureWarning: The default value of regex will change from True to False in a future version.\n",
      "  df[col] = df[col].str.replace(r\"[\\\"\\',]\", '')\n"
     ]
    }
   ],
   "source": [
    "df_bilbao = cf.cleaning(bilbao, 'category', 'bilbao')"
   ]
  },
  {
   "cell_type": "markdown",
   "id": "greater-finland",
   "metadata": {},
   "source": [
    "I put the two dataframes together in order to make the ranking."
   ]
  },
  {
   "cell_type": "code",
   "execution_count": 8,
   "id": "strong-notebook",
   "metadata": {},
   "outputs": [],
   "source": [
    "data =df_madrid.append([df_barcelona, df_gijon, df_bilbao])"
   ]
  },
  {
   "cell_type": "code",
   "execution_count": 9,
   "id": "stylish-letter",
   "metadata": {},
   "outputs": [],
   "source": [
    "total_data = data.groupby([\"category\", \"city\"]).mean()"
   ]
  },
  {
   "cell_type": "code",
   "execution_count": 10,
   "id": "mature-consultancy",
   "metadata": {},
   "outputs": [
    {
     "data": {
      "text/html": [
       "<div>\n",
       "<style scoped>\n",
       "    .dataframe tbody tr th:only-of-type {\n",
       "        vertical-align: middle;\n",
       "    }\n",
       "\n",
       "    .dataframe tbody tr th {\n",
       "        vertical-align: top;\n",
       "    }\n",
       "\n",
       "    .dataframe thead th {\n",
       "        text-align: right;\n",
       "    }\n",
       "</style>\n",
       "<table border=\"1\" class=\"dataframe\">\n",
       "  <thead>\n",
       "    <tr style=\"text-align: right;\">\n",
       "      <th></th>\n",
       "      <th>category</th>\n",
       "      <th>city</th>\n",
       "      <th>lat</th>\n",
       "      <th>long</th>\n",
       "      <th>distance</th>\n",
       "    </tr>\n",
       "  </thead>\n",
       "  <tbody>\n",
       "    <tr>\n",
       "      <th>0</th>\n",
       "      <td>Bar</td>\n",
       "      <td>barcelona</td>\n",
       "      <td>41.392523</td>\n",
       "      <td>2.165113</td>\n",
       "      <td>2.153021</td>\n",
       "    </tr>\n",
       "    <tr>\n",
       "      <th>1</th>\n",
       "      <td>Bar</td>\n",
       "      <td>bilbao</td>\n",
       "      <td>43.261339</td>\n",
       "      <td>-2.933254</td>\n",
       "      <td>0.874563</td>\n",
       "    </tr>\n",
       "    <tr>\n",
       "      <th>2</th>\n",
       "      <td>Bar</td>\n",
       "      <td>gijon</td>\n",
       "      <td>43.537687</td>\n",
       "      <td>-5.658454</td>\n",
       "      <td>5.504250</td>\n",
       "    </tr>\n",
       "    <tr>\n",
       "      <th>3</th>\n",
       "      <td>Bar</td>\n",
       "      <td>madrid</td>\n",
       "      <td>40.427318</td>\n",
       "      <td>-3.677368</td>\n",
       "      <td>0.986381</td>\n",
       "    </tr>\n",
       "    <tr>\n",
       "      <th>4</th>\n",
       "      <td>Bars</td>\n",
       "      <td>barcelona</td>\n",
       "      <td>41.396544</td>\n",
       "      <td>2.155763</td>\n",
       "      <td>0.854449</td>\n",
       "    </tr>\n",
       "    <tr>\n",
       "      <th>5</th>\n",
       "      <td>Basketball Court</td>\n",
       "      <td>barcelona</td>\n",
       "      <td>41.405313</td>\n",
       "      <td>2.168945</td>\n",
       "      <td>2.584342</td>\n",
       "    </tr>\n",
       "    <tr>\n",
       "      <th>6</th>\n",
       "      <td>Basketball Court</td>\n",
       "      <td>bilbao</td>\n",
       "      <td>43.260186</td>\n",
       "      <td>-2.948913</td>\n",
       "      <td>2.337619</td>\n",
       "    </tr>\n",
       "    <tr>\n",
       "      <th>7</th>\n",
       "      <td>Basketball Court</td>\n",
       "      <td>gijon</td>\n",
       "      <td>43.447403</td>\n",
       "      <td>-5.762851</td>\n",
       "      <td>15.403770</td>\n",
       "    </tr>\n",
       "    <tr>\n",
       "      <th>8</th>\n",
       "      <td>Basketball Court</td>\n",
       "      <td>madrid</td>\n",
       "      <td>40.423556</td>\n",
       "      <td>-3.674405</td>\n",
       "      <td>2.173045</td>\n",
       "    </tr>\n",
       "    <tr>\n",
       "      <th>9</th>\n",
       "      <td>Preschool</td>\n",
       "      <td>barcelona</td>\n",
       "      <td>41.399940</td>\n",
       "      <td>2.163414</td>\n",
       "      <td>2.955602</td>\n",
       "    </tr>\n",
       "    <tr>\n",
       "      <th>10</th>\n",
       "      <td>Preschool</td>\n",
       "      <td>gijon</td>\n",
       "      <td>43.360317</td>\n",
       "      <td>-5.849187</td>\n",
       "      <td>21.503205</td>\n",
       "    </tr>\n",
       "    <tr>\n",
       "      <th>11</th>\n",
       "      <td>Preschool</td>\n",
       "      <td>madrid</td>\n",
       "      <td>40.411218</td>\n",
       "      <td>-3.681977</td>\n",
       "      <td>3.136442</td>\n",
       "    </tr>\n",
       "    <tr>\n",
       "      <th>12</th>\n",
       "      <td>Train</td>\n",
       "      <td>barcelona</td>\n",
       "      <td>41.400521</td>\n",
       "      <td>2.146957</td>\n",
       "      <td>0.865776</td>\n",
       "    </tr>\n",
       "    <tr>\n",
       "      <th>13</th>\n",
       "      <td>Train</td>\n",
       "      <td>bilbao</td>\n",
       "      <td>43.258169</td>\n",
       "      <td>-2.928502</td>\n",
       "      <td>0.850734</td>\n",
       "    </tr>\n",
       "    <tr>\n",
       "      <th>14</th>\n",
       "      <td>Train</td>\n",
       "      <td>gijon</td>\n",
       "      <td>43.533344</td>\n",
       "      <td>-5.756278</td>\n",
       "      <td>5.613518</td>\n",
       "    </tr>\n",
       "    <tr>\n",
       "      <th>15</th>\n",
       "      <td>Train</td>\n",
       "      <td>madrid</td>\n",
       "      <td>40.409303</td>\n",
       "      <td>-3.691175</td>\n",
       "      <td>2.784510</td>\n",
       "    </tr>\n",
       "    <tr>\n",
       "      <th>16</th>\n",
       "      <td>Vegetarian / Vegan Restaurant</td>\n",
       "      <td>barcelona</td>\n",
       "      <td>41.399865</td>\n",
       "      <td>2.158939</td>\n",
       "      <td>0.744598</td>\n",
       "    </tr>\n",
       "    <tr>\n",
       "      <th>17</th>\n",
       "      <td>Vegetarian / Vegan Restaurant</td>\n",
       "      <td>bilbao</td>\n",
       "      <td>43.260306</td>\n",
       "      <td>-2.929146</td>\n",
       "      <td>0.576637</td>\n",
       "    </tr>\n",
       "    <tr>\n",
       "      <th>18</th>\n",
       "      <td>Vegetarian / Vegan Restaurant</td>\n",
       "      <td>gijon</td>\n",
       "      <td>43.511836</td>\n",
       "      <td>-5.691959</td>\n",
       "      <td>7.847282</td>\n",
       "    </tr>\n",
       "    <tr>\n",
       "      <th>19</th>\n",
       "      <td>Vegetarian / Vegan Restaurant</td>\n",
       "      <td>madrid</td>\n",
       "      <td>40.426609</td>\n",
       "      <td>-3.685467</td>\n",
       "      <td>0.907950</td>\n",
       "    </tr>\n",
       "  </tbody>\n",
       "</table>\n",
       "</div>"
      ],
      "text/plain": [
       "                         category       city        lat      long   distance\n",
       "0                             Bar  barcelona  41.392523  2.165113   2.153021\n",
       "1                             Bar     bilbao  43.261339 -2.933254   0.874563\n",
       "2                             Bar      gijon  43.537687 -5.658454   5.504250\n",
       "3                             Bar     madrid  40.427318 -3.677368   0.986381\n",
       "4                            Bars  barcelona  41.396544  2.155763   0.854449\n",
       "5                Basketball Court  barcelona  41.405313  2.168945   2.584342\n",
       "6                Basketball Court     bilbao  43.260186 -2.948913   2.337619\n",
       "7                Basketball Court      gijon  43.447403 -5.762851  15.403770\n",
       "8                Basketball Court     madrid  40.423556 -3.674405   2.173045\n",
       "9                       Preschool  barcelona  41.399940  2.163414   2.955602\n",
       "10                      Preschool      gijon  43.360317 -5.849187  21.503205\n",
       "11                      Preschool     madrid  40.411218 -3.681977   3.136442\n",
       "12                          Train  barcelona  41.400521  2.146957   0.865776\n",
       "13                          Train     bilbao  43.258169 -2.928502   0.850734\n",
       "14                          Train      gijon  43.533344 -5.756278   5.613518\n",
       "15                          Train     madrid  40.409303 -3.691175   2.784510\n",
       "16  Vegetarian / Vegan Restaurant  barcelona  41.399865  2.158939   0.744598\n",
       "17  Vegetarian / Vegan Restaurant     bilbao  43.260306 -2.929146   0.576637\n",
       "18  Vegetarian / Vegan Restaurant      gijon  43.511836 -5.691959   7.847282\n",
       "19  Vegetarian / Vegan Restaurant     madrid  40.426609 -3.685467   0.907950"
      ]
     },
     "execution_count": 10,
     "metadata": {},
     "output_type": "execute_result"
    }
   ],
   "source": [
    "total_data.reset_index(drop = False)"
   ]
  },
  {
   "cell_type": "code",
   "execution_count": 12,
   "id": "identified-rubber",
   "metadata": {},
   "outputs": [],
   "source": [
    "df_min_max_scaled = cf.normalization(total_data, 'distance')"
   ]
  },
  {
   "cell_type": "code",
   "execution_count": 13,
   "id": "acute-peripheral",
   "metadata": {},
   "outputs": [],
   "source": [
    "df_min_max_scaled['Weights'] = df_min_max_scaled.apply(cf.weights, axis=1)"
   ]
  },
  {
   "cell_type": "code",
   "execution_count": 14,
   "id": "parental-siemens",
   "metadata": {},
   "outputs": [],
   "source": [
    "df_min_max_scaled[\"Rank\"] = df_min_max_scaled[\"distance\"] * df_min_max_scaled[\"Weights\"]\n"
   ]
  },
  {
   "cell_type": "code",
   "execution_count": 15,
   "id": "considered-architecture",
   "metadata": {},
   "outputs": [],
   "source": [
    "total_data = df_min_max_scaled.groupby([\"city\"]).sum()"
   ]
  },
  {
   "cell_type": "code",
   "execution_count": 16,
   "id": "resident-money",
   "metadata": {},
   "outputs": [
    {
     "data": {
      "text/html": [
       "<div>\n",
       "<style scoped>\n",
       "    .dataframe tbody tr th:only-of-type {\n",
       "        vertical-align: middle;\n",
       "    }\n",
       "\n",
       "    .dataframe tbody tr th {\n",
       "        vertical-align: top;\n",
       "    }\n",
       "\n",
       "    .dataframe thead th {\n",
       "        text-align: right;\n",
       "    }\n",
       "</style>\n",
       "<table border=\"1\" class=\"dataframe\">\n",
       "  <thead>\n",
       "    <tr style=\"text-align: right;\">\n",
       "      <th></th>\n",
       "      <th>lat</th>\n",
       "      <th>long</th>\n",
       "      <th>distance</th>\n",
       "      <th>Weights</th>\n",
       "      <th>Rank</th>\n",
       "    </tr>\n",
       "    <tr>\n",
       "      <th>city</th>\n",
       "      <th></th>\n",
       "      <th></th>\n",
       "      <th></th>\n",
       "      <th></th>\n",
       "      <th></th>\n",
       "    </tr>\n",
       "  </thead>\n",
       "  <tbody>\n",
       "    <tr>\n",
       "      <th>bilbao</th>\n",
       "      <td>173.040000</td>\n",
       "      <td>-11.739815</td>\n",
       "      <td>0.111485</td>\n",
       "      <td>0.9</td>\n",
       "      <td>0.016615</td>\n",
       "    </tr>\n",
       "    <tr>\n",
       "      <th>barcelona</th>\n",
       "      <td>248.394706</td>\n",
       "      <td>12.959131</td>\n",
       "      <td>0.320070</td>\n",
       "      <td>1.2</td>\n",
       "      <td>0.051966</td>\n",
       "    </tr>\n",
       "    <tr>\n",
       "      <th>madrid</th>\n",
       "      <td>202.098004</td>\n",
       "      <td>-18.410392</td>\n",
       "      <td>0.339527</td>\n",
       "      <td>1.0</td>\n",
       "      <td>0.060553</td>\n",
       "    </tr>\n",
       "    <tr>\n",
       "      <th>gijon</th>\n",
       "      <td>217.390586</td>\n",
       "      <td>-28.718730</td>\n",
       "      <td>2.532132</td>\n",
       "      <td>1.0</td>\n",
       "      <td>0.383190</td>\n",
       "    </tr>\n",
       "  </tbody>\n",
       "</table>\n",
       "</div>"
      ],
      "text/plain": [
       "                  lat       long  distance  Weights      Rank\n",
       "city                                                         \n",
       "bilbao     173.040000 -11.739815  0.111485      0.9  0.016615\n",
       "barcelona  248.394706  12.959131  0.320070      1.2  0.051966\n",
       "madrid     202.098004 -18.410392  0.339527      1.0  0.060553\n",
       "gijon      217.390586 -28.718730  2.532132      1.0  0.383190"
      ]
     },
     "execution_count": 16,
     "metadata": {},
     "output_type": "execute_result"
    }
   ],
   "source": [
    "total_data.sort_values(\"Rank\")"
   ]
  },
  {
   "cell_type": "code",
   "execution_count": null,
   "id": "second-frequency",
   "metadata": {},
   "outputs": [],
   "source": []
  }
 ],
 "metadata": {
  "kernelspec": {
   "display_name": "Python 3",
   "language": "python",
   "name": "python3"
  },
  "language_info": {
   "codemirror_mode": {
    "name": "ipython",
    "version": 3
   },
   "file_extension": ".py",
   "mimetype": "text/x-python",
   "name": "python",
   "nbconvert_exporter": "python",
   "pygments_lexer": "ipython3",
   "version": "3.8.5"
  },
  "toc": {
   "base_numbering": 1,
   "nav_menu": {},
   "number_sections": true,
   "sideBar": true,
   "skip_h1_title": false,
   "title_cell": "Table of Contents",
   "title_sidebar": "Contents",
   "toc_cell": false,
   "toc_position": {},
   "toc_section_display": true,
   "toc_window_display": false
  },
  "varInspector": {
   "cols": {
    "lenName": 16,
    "lenType": 16,
    "lenVar": 40
   },
   "kernels_config": {
    "python": {
     "delete_cmd_postfix": "",
     "delete_cmd_prefix": "del ",
     "library": "var_list.py",
     "varRefreshCmd": "print(var_dic_list())"
    },
    "r": {
     "delete_cmd_postfix": ") ",
     "delete_cmd_prefix": "rm(",
     "library": "var_list.r",
     "varRefreshCmd": "cat(var_dic_list()) "
    }
   },
   "types_to_exclude": [
    "module",
    "function",
    "builtin_function_or_method",
    "instance",
    "_Feature"
   ],
   "window_display": false
  }
 },
 "nbformat": 4,
 "nbformat_minor": 5
}
